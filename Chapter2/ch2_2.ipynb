{
 "cells": [
  {
   "cell_type": "code",
   "execution_count": 1,
   "id": "8f5f9141",
   "metadata": {},
   "outputs": [
    {
     "data": {
      "text/plain": [
       "[[0, 0, 0, 0, 0],\n",
       " [0, 0, 0, 0, 0],\n",
       " [0, 0, 0, 0, 0],\n",
       " [0, 0, 0, 0, 0],\n",
       " [0, 0, 0, 0, 0],\n",
       " [0, 0, 0, 0, 0]]"
      ]
     },
     "execution_count": 1,
     "metadata": {},
     "output_type": "execute_result"
    }
   ],
   "source": [
    "A = [[0] * 5 for _ in range(6)]\n",
    "A"
   ]
  },
  {
   "cell_type": "code",
   "execution_count": 2,
   "id": "8ca7ea45",
   "metadata": {},
   "outputs": [
    {
     "data": {
      "text/plain": [
       "[[0, 0, 0, 0, 0],\n",
       " [19, 0, 0, 0, 0],\n",
       " [0, 0, 0, 0, 0],\n",
       " [0, 25, 0, 0, 0],\n",
       " [0, 0, 0, 0, 0],\n",
       " [0, 0, 0, 0, 0]]"
      ]
     },
     "execution_count": 2,
     "metadata": {},
     "output_type": "execute_result"
    }
   ],
   "source": [
    "A[1][0] = 19\n",
    "A[3][1] = 25\n",
    "A"
   ]
  },
  {
   "cell_type": "markdown",
   "id": "6839ebe9",
   "metadata": {},
   "source": [
    "## 範例2.4矩陣的輸出"
   ]
  },
  {
   "cell_type": "code",
   "execution_count": 1,
   "id": "30f77b4e",
   "metadata": {},
   "outputs": [
    {
     "name": "stdout",
     "output_type": "stream",
     "text": [
      "1 2 3 \n",
      "4 5 6 \n",
      "7 8 9 \n",
      "10 11 12 \n"
     ]
    }
   ],
   "source": [
    "def printMatrix(A):\n",
    "    for i in range(len(A)):\n",
    "        for j in range(len(A[i])):\n",
    "            print(A[i][j], end = \" \")\n",
    "        print()\n",
    "#       for i in A:\n",
    "#         for j in i:\n",
    "#             print(j, end = \" \")\n",
    "#         print()\n",
    "        \n",
    "A = [[1, 2, 3],\n",
    "     [4, 5, 6],\n",
    "     [7, 8, 9],\n",
    "     [10, 11, 12]\n",
    "    ]\n",
    "printMatrix(A)"
   ]
  },
  {
   "cell_type": "code",
   "execution_count": 6,
   "id": "eb533505",
   "metadata": {},
   "outputs": [
    {
     "name": "stdout",
     "output_type": "stream",
     "text": [
      "1 2 3 \n",
      "4 5 6 \n",
      "7 8 9 \n",
      "10 11 12 \n"
     ]
    }
   ],
   "source": [
    "def printMatrix(A):\n",
    "    for i in range(len(A)):\t\t#照顧矩陣每一列，由i走訪\n",
    "        for j in range(len(A[i])):\t\t#照顧第i列的每一個元素，寫A[0]也可以\n",
    "            print(A[i][j], end = ' ')  \n",
    "        print()\t\t\t\t\t#印完一列要換行\n",
    "\n",
    "A = [[1,2,3],\n",
    "    [4,5,6],\n",
    "    [7,8,9],\n",
    "    [10,11,12]]\n",
    "printMatrix(A)"
   ]
  },
  {
   "cell_type": "markdown",
   "id": "a6a874ae",
   "metadata": {},
   "source": [
    "## 範例2.5矩陣的轉置"
   ]
  },
  {
   "cell_type": "code",
   "execution_count": 6,
   "id": "c9a6833b",
   "metadata": {},
   "outputs": [
    {
     "name": "stdout",
     "output_type": "stream",
     "text": [
      "1 2 3 \n",
      "4 5 6 \n",
      "7 8 9 \n",
      "10 11 12 \n",
      "1 4 7 10 \n",
      "2 5 8 11 \n",
      "3 6 9 12 \n"
     ]
    }
   ],
   "source": [
    "def transMatrix(A, B):\n",
    "    for i in range(len(A)):\n",
    "        for j in range(len(A[0])):\n",
    "            B[j][i] = A[i][j]\n",
    "            \n",
    "A = [[1, 2, 3], [4, 5, 6], [7, 8, 9], [10, 11, 12]]\n",
    "B = [[0] * len(A) for _ in range(len(A[0]))]\n",
    "printMatrix(A)\n",
    "transMatrix(A, B)\n",
    "printMatrix(B)"
   ]
  },
  {
   "cell_type": "code",
   "execution_count": 7,
   "id": "8ba5463e",
   "metadata": {},
   "outputs": [
    {
     "name": "stdout",
     "output_type": "stream",
     "text": [
      "1 2 3 \n",
      "4 5 6 \n",
      "7 8 9 \n",
      "10 11 12 \n",
      "\n",
      "1 4 7 10 \n",
      "2 5 8 11 \n",
      "3 6 9 12 \n"
     ]
    }
   ],
   "source": [
    "def transMatrix(A, B):\n",
    "    for i in range(len(A)):      #照顧矩陣A每一列\n",
    "        for j in range(len(A[0])):  #照顧矩陣A第i列的每一行\n",
    "            B[j][i] = A[i][j]\n",
    "\n",
    "A = [[1,2,3], [4,5,6], [7,8,9], [10,11,12]]\n",
    "B = [[0]*len(A) for _ in range(len(A[0]))]\n",
    "printMatrix(A)\n",
    "transMatrix(A, B)\n",
    "print()\n",
    "printMatrix(B)"
   ]
  },
  {
   "cell_type": "markdown",
   "id": "d8507fae",
   "metadata": {},
   "source": [
    "## 範例2.6兩個矩陣的相加"
   ]
  },
  {
   "cell_type": "code",
   "execution_count": 9,
   "id": "ca024bcc",
   "metadata": {},
   "outputs": [
    {
     "name": "stdout",
     "output_type": "stream",
     "text": [
      "2 3 4 \n",
      "5 6 7 \n",
      "8 9 10 \n",
      "11 12 13 \n"
     ]
    }
   ],
   "source": [
    "def addMatrix(A, B, C):\n",
    "    for i in range(len(A)):\n",
    "        for j in range(len(A[i])):\n",
    "            C[i][j] = A[i][j] + B[i][j]\n",
    "\n",
    "\n",
    "A = [[1,2,3], [4,5,6], [7,8,9], [10,11,12]]\n",
    "B = [[1, 1, 1], [1, 1, 1], [1, 1, 1], [1, 1, 1]]\n",
    "C = [[0] * len(A[0]) for _ in range(len(A))]\n",
    "addMatrix(A, B, C)\n",
    "printMatrix(C)"
   ]
  },
  {
   "cell_type": "markdown",
   "id": "4ebf34a4",
   "metadata": {},
   "source": [
    "## 範例2.7兩個矩陣的相乘"
   ]
  },
  {
   "cell_type": "code",
   "execution_count": 14,
   "id": "cb000e95",
   "metadata": {},
   "outputs": [
    {
     "name": "stdout",
     "output_type": "stream",
     "text": [
      "8 1 -1 8 \n",
      "16 3 -1 18 \n",
      "24 5 -1 28 \n"
     ]
    }
   ],
   "source": [
    "def multiplyMatrix(A, B, C):\n",
    "    for i in range(len(A)):\n",
    "        for j in range(len(B[0])):\n",
    "            for k in range(len(A[0])):#A[0]可換成B\n",
    "                C[i][j] += A[i][k] * B[k][j]\n",
    "\n",
    "A = [[1, 2], [3, 4], [5, 6]]\n",
    "B = [[0, 1, 1, 2], [4, 0, -1, 3]]\n",
    "C = [[0] * len(B[0]) for _ in range(len(A))]\n",
    "multiplyMatrix(A, B, C)\n",
    "printMatrix(C)"
   ]
  },
  {
   "cell_type": "code",
   "execution_count": 6,
   "id": "88527baf",
   "metadata": {},
   "outputs": [
    {
     "data": {
      "text/plain": [
       "2"
      ]
     },
     "execution_count": 6,
     "metadata": {},
     "output_type": "execute_result"
    }
   ],
   "source": [
    "lis = [0,1,2,3]\n",
    "lis.index(2)"
   ]
  },
  {
   "cell_type": "code",
   "execution_count": 16,
   "id": "0eec4eae",
   "metadata": {},
   "outputs": [
    {
     "name": "stdout",
     "output_type": "stream",
     "text": [
      "i: 3\n",
      "j: 1\n",
      "7\n"
     ]
    }
   ],
   "source": [
    "#2.4\n",
    "Y = [[0] * 4 for _ in range(4)]\n",
    "a = int(input(\"i: \"))\n",
    "b = int(input(\"j: \"))\n",
    "for i in range(4):\n",
    "    for j in range(4):\n",
    "        Y[i][j] = 2 * i * j + 1\n",
    "print(Y[a][b])"
   ]
  },
  {
   "cell_type": "markdown",
   "id": "c3b28f34",
   "metadata": {},
   "source": [
    "## 刷題16:費式數列DP版"
   ]
  },
  {
   "cell_type": "code",
   "execution_count": 9,
   "id": "11eef27a",
   "metadata": {},
   "outputs": [
    {
     "name": "stdout",
     "output_type": "stream",
     "text": [
      "輸入整數n，n >= 2:　9\n",
      "34\n"
     ]
    }
   ],
   "source": [
    "def Fib_DP(n):\n",
    "    A = [0] * (n + 1)\n",
    "    A[1] = 1\n",
    "    for i in range(2, n+1):\n",
    "        A[i] = A[i - 1] + A[i - 2]\n",
    "    return A[n]\n",
    "\n",
    "n = int(input(\"輸入整數n，n >= 2:　\"))\n",
    "print(Fib_DP(n))"
   ]
  },
  {
   "cell_type": "markdown",
   "id": "6e3b233a",
   "metadata": {},
   "source": [
    "## 刷題17:二項式係數DP版"
   ]
  },
  {
   "cell_type": "code",
   "execution_count": 15,
   "id": "9756670c",
   "metadata": {},
   "outputs": [
    {
     "name": "stdout",
     "output_type": "stream",
     "text": [
      "輸入整數n、k，n >= k: 20 10\n",
      "184756\n"
     ]
    }
   ],
   "source": [
    "def Binomial(n, k):\n",
    "    A = [[1] * (k + 1) for _ in range(n + 1)]\n",
    "    for i in range(2, n + 1):\n",
    "        right = min(i, k + 1)\n",
    "        for j in range(1, right):\n",
    "            A[i][j] = A[i - 1][j - 1] + A[i - 1][j]\n",
    "    return A[n][k]\n",
    "\n",
    "n, k = map(int, input(\"輸入整數n、k，n >= k: \").split())\n",
    "print(Binomial(n, k))"
   ]
  },
  {
   "cell_type": "markdown",
   "id": "1213f65e",
   "metadata": {},
   "source": [
    "## 刷題18:巴斯卡三角形Pascal Triangle"
   ]
  },
  {
   "cell_type": "code",
   "execution_count": 20,
   "id": "b431fe80",
   "metadata": {},
   "outputs": [
    {
     "name": "stdout",
     "output_type": "stream",
     "text": [
      "輸入整數n: 5\n",
      "1 1 1 1 1 \n",
      "1 1 1 1 1 \n",
      "1 2 1 1 1 \n",
      "1 3 3 1 1 \n",
      "1 4 6 4 1 \n"
     ]
    }
   ],
   "source": [
    "def Pascal(n):\n",
    "    P = [[1] * (n + 1) for _ in range(n + 1)]\n",
    "    for i in range(3, n + 1):\n",
    "        for j in range(2, i):\n",
    "            P[i][j] = P[i - 1][j - 1] + P[i - 1][j]\n",
    "            \n",
    "    for i in range(1, n + 1):\n",
    "        for j in range(1, n + 1):\n",
    "            print(P[i][j], end = \" \")\n",
    "        print()\n",
    "\n",
    "\n",
    "n = int(input(\"輸入整數n: \"))\n",
    "Pascal(n)"
   ]
  },
  {
   "cell_type": "code",
   "execution_count": 29,
   "id": "02e1970f",
   "metadata": {},
   "outputs": [
    {
     "name": "stdout",
     "output_type": "stream",
     "text": [
      "輸入整數n: 5\n",
      "1 1 1 1 1 \n",
      "1 1 1 1 1 \n",
      "1 2 1 1 1 \n",
      "1 3 3 1 1 \n",
      "1 4 6 4 1 \n"
     ]
    }
   ],
   "source": [
    "def Pascal(n):\n",
    "    array = [[1] * (n) for _ in range(n)]\n",
    "    for i in range(2, n):\n",
    "        for j in range(1, i):\n",
    "            array[i][j] = array[i - 1][j - 1] + array[i - 1][j]\n",
    "    \n",
    "    for i in range(0, n):\n",
    "        for j in range(0, n):\n",
    "            print(array[i][j], end = \" \")\n",
    "        print()\n",
    "\n",
    "\n",
    "n = int(input(\"輸入整數n: \"))\n",
    "Pascal(n)"
   ]
  },
  {
   "cell_type": "markdown",
   "id": "85560009",
   "metadata": {},
   "source": [
    "# 2-2字串"
   ]
  },
  {
   "cell_type": "code",
   "execution_count": 22,
   "id": "95cbe394",
   "metadata": {},
   "outputs": [
    {
     "name": "stdout",
     "output_type": "stream",
     "text": [
      "H e l l o ,   S t r i n g \n",
      "H e l l o ,   S t r i n g "
     ]
    }
   ],
   "source": [
    "a = \"Hello, String\"\n",
    "b = \"!!!\"\n",
    "\n",
    "for x in a:\n",
    "    print(x, end = \" \")\n",
    "\n",
    "print()\n",
    "    \n",
    "for i in range(len(a)):\n",
    "    print(a[i], end = \" \")"
   ]
  },
  {
   "cell_type": "code",
   "execution_count": 24,
   "id": "f9d6b5e1",
   "metadata": {},
   "outputs": [
    {
     "name": "stdout",
     "output_type": "stream",
     "text": [
      "今日有今日的風景\n",
      "明日有明日的風景\n"
     ]
    }
   ],
   "source": [
    "a = \"明日有明日的風景\"\n",
    "b = a.replace(\"明\", \"今\")\n",
    "print(b, a, sep = \"\\n\")"
   ]
  },
  {
   "cell_type": "code",
   "execution_count": 25,
   "id": "f5021cdb",
   "metadata": {},
   "outputs": [
    {
     "name": "stdout",
     "output_type": "stream",
     "text": [
      "明日有今日的風景\n"
     ]
    }
   ],
   "source": [
    "a = \"明日有明日的風景\"\n",
    "b = list(a)\n",
    "b[3] = \"今\"\n",
    "a = \"\".join(b)\n",
    "print(a)"
   ]
  },
  {
   "cell_type": "markdown",
   "id": "34ba8f8c",
   "metadata": {},
   "source": [
    "## 刷題19:判斷回文數字"
   ]
  },
  {
   "cell_type": "code",
   "execution_count": 5,
   "id": "ee2e97f0",
   "metadata": {},
   "outputs": [
    {
     "name": "stdout",
     "output_type": "stream",
     "text": [
      "輸入一串數字: 903\n",
      "否\n"
     ]
    }
   ],
   "source": [
    "def palindrome(s):\n",
    "    left = 0\n",
    "    right = len(s) - 1\n",
    "    while left < right:\n",
    "        if s[left] != s[right]:\n",
    "            return \"否\"\n",
    "        left += 1\n",
    "        right -= 1\n",
    "    return \"是\"\n",
    "\n",
    "s = input(\"輸入一串數字: \")\n",
    "print(palindrome(s))"
   ]
  },
  {
   "cell_type": "markdown",
   "id": "672ad98d",
   "metadata": {},
   "source": [
    "## 刷題20:員工出勤紀錄"
   ]
  },
  {
   "cell_type": "code",
   "execution_count": 17,
   "id": "66f982e2",
   "metadata": {},
   "outputs": [
    {
     "name": "stdout",
     "output_type": "stream",
     "text": [
      "輸入出勤紀錄: ppallp\n",
      "是\n"
     ]
    }
   ],
   "source": [
    "def checkRecord(s):\n",
    "    abs = count = max_count = 0\n",
    "    for x in s:\n",
    "        if x == \"L\":\n",
    "            count += 1\n",
    "            max_count = max(count, max_count)\n",
    "        else:\n",
    "            count = 0\n",
    "            if x == \"A\":\n",
    "                abs += 1\n",
    "                \n",
    "    if max_count > 2 or abs > 1:\n",
    "        return \"否\"\n",
    "    else:\n",
    "        return \"是\"\n",
    "\n",
    "s = input(\"輸入出勤紀錄: \").upper()\n",
    "print(checkRecord(s))"
   ]
  },
  {
   "cell_type": "code",
   "execution_count": 20,
   "id": "b6a42cd9",
   "metadata": {},
   "outputs": [
    {
     "name": "stdout",
     "output_type": "stream",
     "text": [
      "輸入出勤紀錄: apallpp\n",
      "否\n"
     ]
    }
   ],
   "source": [
    "def checkRecord(s):\n",
    "    count = max_count = 0\n",
    "    for x in s:\n",
    "        if x == \"L\":\n",
    "            count += 1\n",
    "            max_count = max(count, max_count)\n",
    "        else:\n",
    "            count = 0\n",
    "        \n",
    "    abs = s.count(\"A\")\n",
    "    #print(abs, max_count)\n",
    "                \n",
    "    if max_count < 3 and abs < 2:# max_count <= 2, abs <= 1也可以\n",
    "        return \"是\"\n",
    "    else:\n",
    "        return \"否\"\n",
    "\n",
    "s = input(\"輸入出勤紀錄: \").upper()\n",
    "print(checkRecord(s))"
   ]
  },
  {
   "cell_type": "markdown",
   "id": "2f986f7c",
   "metadata": {},
   "source": [
    "## 刷題21:Excel欄位編碼"
   ]
  },
  {
   "cell_type": "code",
   "execution_count": 15,
   "id": "aac2d179",
   "metadata": {},
   "outputs": [
    {
     "name": "stdout",
     "output_type": "stream",
     "text": [
      "輸入整數: 2147483647\n",
      "FXSHRXW\n"
     ]
    }
   ],
   "source": [
    "# ord(\"A\")\n",
    "def columnEncode(n):\n",
    "    T = \"\"\n",
    "    while n > 0:\n",
    "        x = (n - 1) % 26\n",
    "        ch = chr(x + ord(\"A\"))\n",
    "        T = ch + T\n",
    "        n = (n - 1) // 26\n",
    "    return T\n",
    "\n",
    "n = int(input(\"輸入整數: \"))\n",
    "print(columnEncode(n))"
   ]
  },
  {
   "cell_type": "code",
   "execution_count": 16,
   "id": "8186bcf4",
   "metadata": {},
   "outputs": [
    {
     "data": {
      "text/plain": [
       "'ABCDEFGHIJKLMNOPQRSTUVWXYZ'"
      ]
     },
     "execution_count": 16,
     "metadata": {},
     "output_type": "execute_result"
    }
   ],
   "source": [
    "import string\n",
    "string.ascii_uppercase"
   ]
  },
  {
   "cell_type": "code",
   "execution_count": 32,
   "id": "8a61dbba",
   "metadata": {},
   "outputs": [
    {
     "name": "stdout",
     "output_type": "stream",
     "text": [
      "輸入整數: 2147483647\n",
      "FXSHRXW\n"
     ]
    }
   ],
   "source": [
    "import string\n",
    "\n",
    "def columnEncode(n):\n",
    "    s = \"\"\n",
    "    ord = {index : value for index, value in enumerate(string.ascii_uppercase)}\n",
    "#     return ord\n",
    "    while n > 0:\n",
    "        x = (n - 1) % 26\n",
    "        ch = ord[x]\n",
    "        s = ch + s\n",
    "        n = (n - 1) // 26\n",
    "    return s\n",
    "\n",
    "n = int(input(\"輸入整數: \"))\n",
    "print(columnEncode(n))"
   ]
  },
  {
   "cell_type": "code",
   "execution_count": 35,
   "id": "0d0ad4c4",
   "metadata": {},
   "outputs": [
    {
     "name": "stdout",
     "output_type": "stream",
     "text": [
      "{0: 'A', 1: 'B', 2: 'C', 3: 'D', 4: 'E', 5: 'F', 6: 'G', 7: 'H', 8: 'I', 9: 'J', 10: 'K', 11: 'L', 12: 'M', 13: 'N', 14: 'O', 15: 'P', 16: 'Q', 17: 'R', 18: 'S', 19: 'T', 20: 'U', 21: 'V', 22: 'W', 23: 'X', 24: 'Y', 25: 'Z'}\n",
      "702 ZZ\n",
      "702 ZZ\n",
      "{0: 'A', 1: 'B', 2: 'C', 3: 'D', 4: 'E', 5: 'F', 6: 'G', 7: 'H', 8: 'I', 9: 'J', 10: 'K', 11: 'L', 12: 'M', 13: 'N', 14: 'O', 15: 'P', 16: 'Q', 17: 'R', 18: 'S', 19: 'T', 20: 'U', 21: 'V', 22: 'W', 23: 'X', 24: 'Y', 25: 'Z'}\n",
      "2147483647 FXSHRXW\n",
      "2147483647 FXSHRXW\n"
     ]
    }
   ],
   "source": [
    "import string\n",
    "def columnEncode(n):\n",
    "    Title = ''\n",
    "    while n>0:\n",
    "        y = (n-1) % 26\n",
    "        n = (n-1)//26\n",
    "        Title = chr(y+ord('A')) + Title\n",
    "    return Title\n",
    "def convertToTitle(n):  #字典版\n",
    "    ord = dict((index,value) for index, value in \\\n",
    "        enumerate(string.ascii_uppercase))\n",
    "    print(ord)\n",
    "    Title = \"\"\n",
    "    while n>0:\n",
    "        y = (n-1) % 26\n",
    "        n = (n-1)//26\n",
    "        Title = ord[y] + Title\n",
    "    return Title\n",
    "  \n",
    "print(702, convertToTitle(702))\n",
    "print(702, columnEncode(702))\n",
    "print(2147483647, convertToTitle(2147483647))\n",
    "print(2147483647, columnEncode(2147483647))"
   ]
  },
  {
   "cell_type": "code",
   "execution_count": 26,
   "id": "3cc97e92",
   "metadata": {},
   "outputs": [
    {
     "name": "stdout",
     "output_type": "stream",
     "text": [
      "輸入s1的英文字串: abc\n",
      "輸入s2的英文字串: abcd\n",
      "-1\n"
     ]
    }
   ],
   "source": [
    "#2.7\n",
    "def compare(s1, s2):\n",
    "    l1 = len(s1)\n",
    "    l2 = len(s2)\n",
    "    l3 = min(l1, l2)\n",
    "\n",
    "    for i in range(l3):\n",
    "        ord1 = s1[i]\n",
    "        ord2 = s2[i]\n",
    "        if ord1 > ord2:\n",
    "            return 1\n",
    "        elif ord1 < ord2:\n",
    "            return -1\n",
    "    if l1 == l2:\n",
    "        return 0\n",
    "    elif l1 > l2:\n",
    "        return 1\n",
    "    else:\n",
    "        return -1\n",
    "\n",
    "s1 = input(\"輸入s1的英文字串: \")\n",
    "s2 = input(\"輸入s2的英文字串: \")\n",
    "print(compare(s1, s2))"
   ]
  },
  {
   "cell_type": "code",
   "execution_count": 22,
   "id": "60ada4eb",
   "metadata": {},
   "outputs": [
    {
     "name": "stdout",
     "output_type": "stream",
     "text": [
      "5\n",
      "6\n",
      "7\n",
      "8\n",
      "9\n"
     ]
    }
   ],
   "source": [
    "lis = [5, 6, 7, 8, 9]\n",
    "for _ in range(5):\n",
    "    print(lis[_])\n",
    "\n"
   ]
  },
  {
   "cell_type": "code",
   "execution_count": 37,
   "id": "e344a2fa",
   "metadata": {},
   "outputs": [
    {
     "name": "stdout",
     "output_type": "stream",
     "text": [
      "True\n",
      "6\n",
      "-1\n"
     ]
    }
   ],
   "source": [
    "Text = \"I saw Joe this morning\"\n",
    "Pattern = \"Joe\"\n",
    "print(Pattern in Text)\n",
    "print(Text.find(Pattern))\n",
    "print(Text.find(\"joe\"))"
   ]
  },
  {
   "cell_type": "markdown",
   "id": "06e9e736",
   "metadata": {},
   "source": [
    "## 範例2.8暴力法字串比對"
   ]
  },
  {
   "cell_type": "code",
   "execution_count": 39,
   "id": "0c91f2c6",
   "metadata": {},
   "outputs": [
    {
     "name": "stdout",
     "output_type": "stream",
     "text": [
      "輸入字串Text: hi i am vick\n",
      "輸入字串Pattern: vick\n",
      "8\n"
     ]
    }
   ],
   "source": [
    "def find(Text, Pattern):\n",
    "    T = P = StartT = 0\n",
    "    n = len(Text)\n",
    "    m = len(Pattern)\n",
    "    EndT = m - 1\n",
    "    while P < m and StartT <= n - m:\n",
    "        if Text[T] == Pattern[P]:\n",
    "            P += 1\n",
    "            T += 1\n",
    "        else:\n",
    "            StartT += 1\n",
    "            EndT += 1\n",
    "            T = StartT\n",
    "            P = 0\n",
    "        if P == m:\n",
    "            return StartT\n",
    "        \n",
    "        \n",
    "    return -1\n",
    "\n",
    "Text = input(\"輸入字串Text: \")\n",
    "Pattern = input(\"輸入字串Pattern: \")\n",
    "print(find(Text, Pattern))"
   ]
  }
 ],
 "metadata": {
  "kernelspec": {
   "display_name": "Python 3 (ipykernel)",
   "language": "python",
   "name": "python3"
  },
  "language_info": {
   "codemirror_mode": {
    "name": "ipython",
    "version": 3
   },
   "file_extension": ".py",
   "mimetype": "text/x-python",
   "name": "python",
   "nbconvert_exporter": "python",
   "pygments_lexer": "ipython3",
   "version": "3.9.7"
  }
 },
 "nbformat": 4,
 "nbformat_minor": 5
}
