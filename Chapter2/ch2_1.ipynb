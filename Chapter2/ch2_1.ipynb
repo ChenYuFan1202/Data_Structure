{
 "cells": [
  {
   "cell_type": "markdown",
   "id": "2aa0dabd",
   "metadata": {},
   "source": [
    "# 2-1陣列"
   ]
  },
  {
   "cell_type": "markdown",
   "id": "0e7252d8",
   "metadata": {},
   "source": [
    "## 範例2.1插入元素到陣列中的指定位置"
   ]
  },
  {
   "cell_type": "code",
   "execution_count": 12,
   "id": "9a1a3538",
   "metadata": {},
   "outputs": [
    {
     "data": {
      "text/plain": [
       "[5, 11, 25, 27, 36, 49, 56, 77]"
      ]
     },
     "execution_count": 12,
     "metadata": {},
     "output_type": "execute_result"
    }
   ],
   "source": [
    "def arrayInsert(arr, k, value):\n",
    "    for i in range(len(arr) - 1, k, -1):\n",
    "        arr[i] = arr[i - 1]\n",
    "    arr[k] = value\n",
    "    \n",
    "A = [5, 11, 25, 36, 49, 56, 77, 120]\n",
    "arrayInsert(A, 3, 27)\n",
    "A"
   ]
  },
  {
   "cell_type": "code",
   "execution_count": 41,
   "id": "de3fc84e",
   "metadata": {},
   "outputs": [
    {
     "name": "stdout",
     "output_type": "stream",
     "text": [
      "[5, 11, 25, 27, 36, 49, 56, 77]\n"
     ]
    }
   ],
   "source": [
    "def arrayInsert(arr, k, value):\n",
    "    for i in range(len(arr)-1, k, -1):\t# n-1 >= i > k，亦即k < i <= n-1\n",
    "\t    arr[i] = arr[i-1] \t\t\t\t# i-1在左、i在右，亦即由左往右移\n",
    "    arr[k] = value\t\n",
    "\n",
    "A = [5, 11, 25, 36, 49, 56, 77, 120]\n",
    "arrayInsert(A, 3, 27)\n",
    "print(A)"
   ]
  },
  {
   "cell_type": "code",
   "execution_count": 13,
   "id": "841c2969",
   "metadata": {},
   "outputs": [
    {
     "data": {
      "text/plain": [
       "[5, 11, 25, 27, 36, 49, 56, 77, 120]"
      ]
     },
     "execution_count": 13,
     "metadata": {},
     "output_type": "execute_result"
    }
   ],
   "source": [
    "A = [5, 11, 25, 36, 49, 56, 77, 120]\n",
    "A.insert(3, 27)\n",
    "#A[3:3] = [27]\n",
    "A"
   ]
  },
  {
   "cell_type": "markdown",
   "id": "50723417",
   "metadata": {},
   "source": [
    "## 範例2.2刪除陣列中指定位置的元素"
   ]
  },
  {
   "cell_type": "code",
   "execution_count": 1,
   "id": "b6dccd6d",
   "metadata": {},
   "outputs": [
    {
     "name": "stdout",
     "output_type": "stream",
     "text": [
      "0.828125\n",
      "[5, 11, 25, 49, 56, 77, 120, None]\n"
     ]
    }
   ],
   "source": [
    "from time import process_time\n",
    "start = process_time()\n",
    "def arrayDelete(arr, k):\n",
    "    for i in range(k, len(arr) - 1):\n",
    "        arr[i] = arr[i + 1]\n",
    "    arr[-1] = None\n",
    "\n",
    "A = [5, 11, 25, 36, 49, 56, 77, 120]\n",
    "arrayDelete(A, 3)\n",
    "end = process_time()\n",
    "print(end)\n",
    "print(A)"
   ]
  },
  {
   "cell_type": "code",
   "execution_count": 2,
   "id": "43cc0ec0",
   "metadata": {},
   "outputs": [
    {
     "name": "stdout",
     "output_type": "stream",
     "text": [
      "0.828125\n"
     ]
    },
    {
     "data": {
      "text/plain": [
       "[5, 11, 25, 49, 56, 77, 120]"
      ]
     },
     "execution_count": 2,
     "metadata": {},
     "output_type": "execute_result"
    }
   ],
   "source": [
    "from time import process_time\n",
    "start = process_time()\n",
    "A = [5, 11, 25, 36, 49, 56, 77, 120]\n",
    "del A[3]\n",
    "end = process_time()\n",
    "print(end)\n",
    "A"
   ]
  },
  {
   "cell_type": "code",
   "execution_count": 42,
   "id": "9fed1a66",
   "metadata": {},
   "outputs": [
    {
     "name": "stdout",
     "output_type": "stream",
     "text": [
      "[5, 11, 25, 49, 56, 77, 120, None]\n"
     ]
    }
   ],
   "source": [
    "def arrayDelete(arr, k):\n",
    "    for i in range(k, len(arr)-1):\t\t# k <= i < n-1\n",
    "\t    arr[i] = arr[i+1] \t\t\t\t# i+1在右、i在左，亦即由右往左移\n",
    "    arr[-1] = None\t\t\t\t\t#最後一個位置填None\n",
    "\n",
    "A = [5, 11, 25, 36, 49, 56, 77, 120]\n",
    "arrayDelete(A, 3)\n",
    "print(A)"
   ]
  },
  {
   "cell_type": "code",
   "execution_count": 9,
   "id": "45b98d7b",
   "metadata": {},
   "outputs": [
    {
     "name": "stdout",
     "output_type": "stream",
     "text": [
      "輸入A or B: A\n",
      "336\n"
     ]
    }
   ],
   "source": [
    "def findMax(arr):\n",
    "    max_now = arr[0]\n",
    "    for i in range(1, len(arr)):\n",
    "        if arr[i] > max_now:\n",
    "            max_now = arr[i]\n",
    "    return max_now\n",
    "\n",
    "\n",
    "A = [5, 11, 25, 336, 49, 256, 77, 120]\n",
    "B = [36, 5, 25, 120, 49, 11, 56, 77]\n",
    "\n",
    "name = input(\"輸入A or B: \")\n",
    "if name == \"A\":\n",
    "    print(findMax(A))\n",
    "elif name == \"B\":\n",
    "    print(findMax(B))\n",
    "else:\n",
    "    print(\"輸錯了\")"
   ]
  },
  {
   "cell_type": "markdown",
   "id": "ea076f21",
   "metadata": {},
   "source": [
    "## 範例2.3找出陣列中最大（或最小）的元素"
   ]
  },
  {
   "cell_type": "code",
   "execution_count": 18,
   "id": "b17aebd7",
   "metadata": {},
   "outputs": [
    {
     "name": "stdout",
     "output_type": "stream",
     "text": [
      "336\n"
     ]
    }
   ],
   "source": [
    "def findMax(arr):\n",
    "    max_now = arr[0]\n",
    "    for i in range(1, len(arr)):\n",
    "        max_now = max(max_now, arr[i])\n",
    "    return max_now\n",
    "\n",
    "A = [5, 11, 25, 336, 49, 256, 77, 120]\n",
    "B = [36, 5, 25, 120, 49, 11, 56, 77]\n",
    "print(findMax(A))"
   ]
  },
  {
   "cell_type": "code",
   "execution_count": 43,
   "id": "578bc1c8",
   "metadata": {},
   "outputs": [
    {
     "name": "stdout",
     "output_type": "stream",
     "text": [
      "336\n",
      "最大的元素在：3\n"
     ]
    }
   ],
   "source": [
    "def findMax(arr):\n",
    "    max_now = arr[0]\n",
    "    for i in range(1, len(arr)):\t\t\t\t# 1  i < n\n",
    "\t    max_now = max(max_now, arr[i]) \t# 輪流挑戰\n",
    "    return max_now\t\t\t\t\t# 最後勝者\n",
    "\n",
    "def findMaxPos(arr):\n",
    "    max_now = 0\t\t\t\t\t# 第0個位置的資料先當霸主\n",
    "    for i in range(1, len(arr)):\n",
    "        if arr[i] > arr[max_now]:\t\t\n",
    "            max_now = i\n",
    "    return max_now\t\t\t\t\t# 最後勝者\n",
    "\n",
    "A = [5, 11, 25, 336, 49, 256, 77, 120]\n",
    "print(findMax(A))\n",
    "print(f\"最大的元素在：{findMaxPos(A)}\")\n"
   ]
  },
  {
   "cell_type": "code",
   "execution_count": 11,
   "id": "3b6691b3",
   "metadata": {},
   "outputs": [
    {
     "name": "stdout",
     "output_type": "stream",
     "text": [
      "最大元素的位置:3\n"
     ]
    }
   ],
   "source": [
    "def findMaxPos(arr):\n",
    "    max_now = 0\n",
    "    for i in range(1, len(arr)):\n",
    "        if arr[i] > arr[max_now]:\n",
    "            max_now = i\n",
    "    return max_now\n",
    "\n",
    "A = [5, 11, 25, 336, 49, 256, 77, 120]\n",
    "B = [36, 5, 25, 120, 49, 11, 56, 77]\n",
    "print(\"最大元素的位置:{}\".format(findMaxPos(B)))"
   ]
  },
  {
   "cell_type": "markdown",
   "id": "1a598039",
   "metadata": {},
   "source": [
    "## 延伸刷題:找出最大元素的位置"
   ]
  },
  {
   "cell_type": "code",
   "execution_count": 21,
   "id": "5fe3a066",
   "metadata": {},
   "outputs": [
    {
     "name": "stdout",
     "output_type": "stream",
     "text": [
      "最大元素的位置:3\n"
     ]
    }
   ],
   "source": [
    "def findMaxPos(arr):\n",
    "    max_now = 0\n",
    "    for i in range(1,len(arr)):\n",
    "        if arr[i] > arr[max_now]:\n",
    "            max_now = i\n",
    "    return max_now\n",
    "\n",
    "A = [5, 11, 25, 336, 49, 256, 77, 120]\n",
    "print(\"最大元素的位置:{}\".format(findMaxPos(A)))"
   ]
  },
  {
   "cell_type": "markdown",
   "id": "f1ef8d7c",
   "metadata": {},
   "source": [
    "## 刷題10:找出小於n的質數"
   ]
  },
  {
   "cell_type": "code",
   "execution_count": 22,
   "id": "6ef13f20",
   "metadata": {},
   "outputs": [
    {
     "data": {
      "text/plain": [
       "[True, True, True, True, True]"
      ]
     },
     "execution_count": 22,
     "metadata": {},
     "output_type": "execute_result"
    }
   ],
   "source": [
    "[True] * 5"
   ]
  },
  {
   "cell_type": "code",
   "execution_count": 1,
   "id": "25f10f1a",
   "metadata": {},
   "outputs": [
    {
     "name": "stdout",
     "output_type": "stream",
     "text": [
      "輸入一正整數n，n > 2: 100\n",
      "0.890625 0.890625\n",
      "2 3 5 7 11 13 17 19 23 29 31 37 41 43 47 53 59 61 67 71 73 79 83 89 97 "
     ]
    }
   ],
   "source": [
    "from time import process_time\n",
    "start = process_time()\n",
    "def findPrime(n):\n",
    "    prime = [True] * n\n",
    "    for i in range(2, n):\n",
    "        if prime[i] == True:\n",
    "            for j in range(i + 1, n):\n",
    "                if (j % i) == 0:\n",
    "                    prime[j] = False\n",
    "    return prime\n",
    "\n",
    "n = int(input(\"輸入一正整數n，n > 2: \"))\n",
    "primes = findPrime(n)\n",
    "end = process_time()\n",
    "print(start, end)\n",
    "for i in range(2, n):\n",
    "    if primes[i]:# == True\n",
    "        print(i, end = \" \")"
   ]
  },
  {
   "cell_type": "code",
   "execution_count": 46,
   "id": "eb87691b",
   "metadata": {},
   "outputs": [
    {
     "name": "stdout",
     "output_type": "stream",
     "text": [
      "10\n",
      "2 3 5 7 "
     ]
    }
   ],
   "source": [
    "from math import ceil\n",
    "def findPrime(n):\t\t\t# 進階版\n",
    "    prime = [True]*n\n",
    "    for i in range(2, ceil(n**0.5)):\n",
    "          if prime[i] == True:\n",
    "                for j in range(i*i, n, i): \n",
    "                    prime[j] = False\n",
    "    return prime\n",
    "\n",
    "def findPrime_Old(n):\n",
    "    prime = [True]*n\t\t\t#產生陣列\n",
    "    for i in range(2, n):\n",
    "        if prime[i] == True:\t\t#若i是質數\n",
    "            for j in range(i+1, n):\n",
    "                if (j % i) == 0:\t\t\t#檢查i+1 ~ n-1 每一個數是否為i的倍數\n",
    "                    prime[j] = False\n",
    "    return prime\t  \t\t\n",
    "\n",
    "n = int(input())\n",
    "primes = findPrime(n)\n",
    "for i in range(2, n):\n",
    "    if primes[i]:\n",
    "        print(i, end = \" \")"
   ]
  },
  {
   "cell_type": "markdown",
   "id": "5addd348",
   "metadata": {},
   "source": [
    "## 延伸刷題:找出小於n的質數（進階版）"
   ]
  },
  {
   "cell_type": "code",
   "execution_count": 2,
   "id": "2b055c6d",
   "metadata": {},
   "outputs": [
    {
     "name": "stdout",
     "output_type": "stream",
     "text": [
      "輸入n正整數，n > 2: 100\n",
      "0.890625 0.90625\n",
      "2 3 5 7 11 13 17 19 23 29 31 37 41 43 47 53 59 61 67 71 73 79 83 89 97 "
     ]
    }
   ],
   "source": [
    "from math import ceil\n",
    "from time import process_time\n",
    "\n",
    "start = process_time()\n",
    "def findPrime(n):\n",
    "    prime = [True] * n\n",
    "    for i in range(2, ceil(n ** (0.5))):\n",
    "        if prime[i] == True:\n",
    "            for j in range(i ** 2, n, i):\n",
    "                   prime[j] = False\n",
    "    return prime\n",
    "        \n",
    "\n",
    "n = int(input(\"輸入n正整數，n > 2: \"))\n",
    "primes = findPrime(n)\n",
    "end = process_time()\n",
    "print(start, end)\n",
    "for i in range(2, n):\n",
    "    if primes[i]:\n",
    "        print(i, end = \" \")"
   ]
  },
  {
   "cell_type": "code",
   "execution_count": 16,
   "id": "1d3f9028",
   "metadata": {},
   "outputs": [
    {
     "data": {
      "text/plain": [
       "1"
      ]
     },
     "execution_count": 16,
     "metadata": {},
     "output_type": "execute_result"
    }
   ],
   "source": [
    "from math import ceil\n",
    "ceil(0.05)"
   ]
  },
  {
   "cell_type": "markdown",
   "id": "97a6e40e",
   "metadata": {},
   "source": [
    "## 刷題11:從陣列中找出相加等於k的兩數"
   ]
  },
  {
   "cell_type": "code",
   "execution_count": 32,
   "id": "6f7a7ac8",
   "metadata": {},
   "outputs": [
    {
     "name": "stdout",
     "output_type": "stream",
     "text": [
      "輸入k值: 18\n",
      "7 11\n"
     ]
    }
   ],
   "source": [
    "def twoSum(arr, k):\n",
    "    for i in range(len(arr) - 1):\n",
    "        for j in range(i + 1, len(arr)):\n",
    "            if arr[i] + arr[j] == k:\n",
    "                return arr[i], arr[j]\n",
    "\n",
    "nums = [2, -3, 7, 11, 15, 17]\n",
    "k = int(input(\"輸入k值: \"))\n",
    "num1, num2 = twoSum(nums, k)\n",
    "print(num1, num2)"
   ]
  },
  {
   "cell_type": "code",
   "execution_count": 45,
   "id": "e617ebef",
   "metadata": {},
   "outputs": [
    {
     "name": "stdout",
     "output_type": "stream",
     "text": [
      "18\n",
      "7 11\n"
     ]
    }
   ],
   "source": [
    "def twoSum(nums, k):\n",
    "    for i in range(len(nums)):\t\t\t\t\n",
    "        for j in range(i+1, len(nums)):\t\t\n",
    "            if nums[i] + nums[j] == k:\n",
    "                return nums[i], nums[j]\n",
    "\n",
    "nums = [2,-3, 7, 11,15, 17]\n",
    "k = int(input())\t\t\t\t\n",
    "i, j = twoSum(nums, k)\n",
    "print(i, j)"
   ]
  },
  {
   "cell_type": "code",
   "execution_count": 34,
   "id": "eddc2f9f",
   "metadata": {},
   "outputs": [
    {
     "name": "stdout",
     "output_type": "stream",
     "text": [
      "52\n"
     ]
    }
   ],
   "source": [
    "#2.1\n",
    "arr = [0] * 10\n",
    "for i in range(10):\n",
    "    arr[i] = i\n",
    "sum = 0\n",
    "for i in range(1, 9):\n",
    "    sum = sum - arr[i - 1] + arr[i] + arr[i + 1]\n",
    "print(sum)"
   ]
  },
  {
   "cell_type": "markdown",
   "id": "514881bb",
   "metadata": {},
   "source": [
    "## 刷題12:找零錢問題"
   ]
  },
  {
   "cell_type": "code",
   "execution_count": 49,
   "id": "89f89194",
   "metadata": {},
   "outputs": [
    {
     "name": "stdout",
     "output_type": "stream",
     "text": [
      "輸入要找零的錢: 999\n",
      "[(50, 19), (10, 4), (5, 1), (1, 4)]\n"
     ]
    }
   ],
   "source": [
    "statements = []\n",
    "coins = [50, 10, 5, 1]\n",
    "count = 0\n",
    "m = int(input(\"輸入要找零的錢: \"))\n",
    "for i in coins:\n",
    "    count += m // i\n",
    "    statements.append((i, m // i))\n",
    "    m = m % i\n",
    "    \n",
    "    \n",
    "print(statements)"
   ]
  },
  {
   "cell_type": "code",
   "execution_count": 8,
   "id": "84f9574c",
   "metadata": {},
   "outputs": [
    {
     "name": "stdout",
     "output_type": "stream",
     "text": [
      "輸入多少錢: 999\n",
      "[(50, 19), (10, 4), (5, 1), (1, 4)]\n"
     ]
    }
   ],
   "source": [
    "def myfun(m):\n",
    "    coins = [50, 10, 5, 1]\n",
    "    container = []\n",
    "    \n",
    "    for i in range(len(coins)):\n",
    "        count = 0\n",
    "        count += m // coins[i]\n",
    "        m = m % coins[i]\n",
    "        container.append((coins[i], count))\n",
    "    return container\n",
    "\n",
    "m = int(input(\"輸入多少錢: \"))\n",
    "print(myfun(m))"
   ]
  },
  {
   "cell_type": "code",
   "execution_count": 48,
   "id": "22a07514",
   "metadata": {},
   "outputs": [
    {
     "name": "stdout",
     "output_type": "stream",
     "text": [
      "177\n",
      "8\n"
     ]
    }
   ],
   "source": [
    "def findCoins(n):\n",
    "    coins = [50, 10, 5, 1]\n",
    "    count = 0\n",
    "    for i in range(len(coins)):\t\n",
    "        count += n // coins[i]\n",
    "        n = n % coins[i]\n",
    "    return count\n",
    "\n",
    "n = int(input())\t\t\t\t\n",
    "print(findCoins(n))"
   ]
  },
  {
   "cell_type": "markdown",
   "id": "85b6a071",
   "metadata": {},
   "source": [
    "## 刷題13:比例背包問題"
   ]
  },
  {
   "cell_type": "code",
   "execution_count": 12,
   "id": "47632c64",
   "metadata": {},
   "outputs": [
    {
     "name": "stdout",
     "output_type": "stream",
     "text": [
      "輸入容量: 30\n",
      "輸入物件種類: 3\n",
      "輸入n個物件的名稱: A B C\n",
      "輸入n個物件的重量: 5 10 20\n",
      "輸入n個物件的價值: 50 60 140\n",
      "220.0\n"
     ]
    }
   ],
   "source": [
    "def backPacking(objects, argW):\n",
    "    i = total_p = 0\n",
    "    while i < len(objects) and argW > 0:\n",
    "        if argW >= objects[i][2]:\n",
    "            total_p += objects[i][3]\n",
    "            argW -= objects[i][2]\n",
    "        else:\n",
    "            total_p += objects[i][0] * argW\n",
    "            argW = 0\n",
    "        i += 1\n",
    "    return total_p\n",
    "\n",
    "W_limit = int(input(\"輸入容量: \"))\n",
    "n = int(input(\"輸入物件種類: \"))\n",
    "name = input(\"輸入n個物件的名稱: \").split()\n",
    "W = list(map(int, input(\"輸入n個物件的重量: \").split()))\n",
    "P = list(map(int, input(\"輸入n個物件的價值: \").split()))\n",
    "items = [[] for _ in range(n)]\n",
    "for i in range(n):\n",
    "    items[i] = [P[i] / W[i], name[i], W[i], P[i]]\n",
    "    \n",
    "items.sort(reverse = True)#每個list的第0個元素去比\n",
    "print(backPacking(items, W_limit))\n",
    "#輸入範例\n",
    "#30\n",
    "#3\n",
    "#A  B  C\n",
    "#5  10  20\n",
    "#50  60  140"
   ]
  },
  {
   "cell_type": "code",
   "execution_count": 54,
   "id": "b773a6b4",
   "metadata": {},
   "outputs": [
    {
     "name": "stdout",
     "output_type": "stream",
     "text": [
      "[[10.0, 'A', 5, 50], [7.0, 'C', 20, 140], [6.0, 'B', 10, 60]]\n"
     ]
    }
   ],
   "source": [
    "print(items)"
   ]
  },
  {
   "cell_type": "code",
   "execution_count": 57,
   "id": "8f9a0eb5",
   "metadata": {},
   "outputs": [
    {
     "name": "stdout",
     "output_type": "stream",
     "text": [
      "3\n",
      "[[3, 8], [1, 9], [2, 10]]\n"
     ]
    }
   ],
   "source": [
    "l = [[1, 9], [3, 8], [2, 10]]\n",
    "print(len(l))\n",
    "l.sort(key = lambda e: e[1])\n",
    "print(l)"
   ]
  },
  {
   "cell_type": "code",
   "execution_count": 58,
   "id": "e5d34c4a",
   "metadata": {},
   "outputs": [
    {
     "name": "stdout",
     "output_type": "stream",
     "text": [
      "30\n",
      "3\n",
      "A B C\n",
      "5 10 20\n",
      "50 60 140\n",
      "220.0\n"
     ]
    }
   ],
   "source": [
    "def backPacking(argItems, argW):\n",
    "    i = total_p = 0\n",
    "    left_w = argW\n",
    "    while i<len(argItems) and left_w>0:\n",
    "        if argItems[i][2]<=left_w:\n",
    "            total_p += argItems[i][3]\n",
    "            left_w -= argItems[i][2]\n",
    "        else:\n",
    "            total_p += argItems[i][0]*left_w\n",
    "            left_w = 0\n",
    "        i += 1\n",
    "    return total_p\n",
    "\n",
    "W_limit = int(input())\n",
    "N = int(input())  \n",
    "items = [ [ ] for _ in range(N)]\n",
    "name = input().split()\n",
    "W = list(map(int, input().split()))\n",
    "P = list(map(int, input().split()))\n",
    "for i in range(N):\n",
    "    items[i] = [P[i]/W[i],name[i],W[i],P[i]]\n",
    "items.sort(reverse=True)  \n",
    "print(backPacking(items, W_limit))\n",
    "#輸入範例\n",
    "#30\n",
    "#3\n",
    "#A  B  C\n",
    "#5  10  20\n",
    "#50  60  140"
   ]
  },
  {
   "cell_type": "code",
   "execution_count": 10,
   "id": "5653ca34",
   "metadata": {},
   "outputs": [
    {
     "name": "stdout",
     "output_type": "stream",
     "text": [
      "輸入兩個數字: 1 5\n",
      "<map object at 0x000001C4DC2543A0>\n",
      "[1, 5]\n"
     ]
    }
   ],
   "source": [
    "a = map(int, input(\"輸入兩個數字: \").split())\n",
    "print(a)\n",
    "print(list(a))"
   ]
  },
  {
   "cell_type": "markdown",
   "id": "7f515ce8",
   "metadata": {},
   "source": [
    "## 刷題14:最少裝箱浪費問題"
   ]
  },
  {
   "cell_type": "code",
   "execution_count": 1,
   "id": "077f8596",
   "metadata": {},
   "outputs": [
    {
     "name": "stdout",
     "output_type": "stream",
     "text": [
      "輸入個商品體積: 2 3 5\n",
      "輸入供應商數量: 2\n",
      "輸入每個供應商各個箱子的體積: 4 8\n",
      "輸入每個供應商各個箱子的體積: 8 2\n",
      "6\n"
     ]
    }
   ],
   "source": [
    "from math import inf\n",
    "def packing(packages, boxes):\n",
    "    min_waste = inf\n",
    "    supFound = False\n",
    "    for company in range(len(boxes)):\n",
    "        cur_waste = 0\n",
    "        product = 0\n",
    "        box = 0\n",
    "        while box < len(boxes[company]):\n",
    "            while packages[product] <= boxes[company][box]:\n",
    "                cur_waste += boxes[company][box] - packages[product]\n",
    "                product += 1\n",
    "                if product >= len(packages):\n",
    "                    min_waste = min(cur_waste, min_waste)\n",
    "                    supFound = True\n",
    "                    break\n",
    "            box += 1\n",
    "            if product >= len(packages):\n",
    "                break\n",
    "    if supFound:\n",
    "        return min_waste\n",
    "    return -1\n",
    "\n",
    "\n",
    "packages = list(map(int, input(\"輸入個商品體積: \").split()))\n",
    "packages.sort()\n",
    "m = int(input(\"輸入供應商數量: \"))\n",
    "boxes = [[] for _ in range(m)]\n",
    "for company in range(m):\n",
    "    boxes[company] = list(map(int, input(\"輸入每個供應商各個箱子的體積: \").split()))\n",
    "    boxes[company].sort()\n",
    "print(packing(packages, boxes))\n",
    "#輸入範例\n",
    "#2 3 5\n",
    "#2\n",
    "#4 8\n",
    "#8 2\n",
    "#輸出 6"
   ]
  },
  {
   "cell_type": "code",
   "execution_count": 59,
   "id": "fbe002f0",
   "metadata": {},
   "outputs": [
    {
     "name": "stdout",
     "output_type": "stream",
     "text": [
      "inf\n"
     ]
    }
   ],
   "source": [
    "from math import inf\n",
    "a = inf#無限大，infinity\n",
    "print(a)"
   ]
  },
  {
   "cell_type": "code",
   "execution_count": 65,
   "id": "1a9d96d6",
   "metadata": {},
   "outputs": [
    {
     "name": "stdout",
     "output_type": "stream",
     "text": [
      "2 3 5\n",
      "2\n",
      "4 8\n",
      "8 2\n",
      "6\n"
     ]
    }
   ],
   "source": [
    "from math import inf\n",
    "def packing(packages, boxes):\n",
    "    min_waste = inf # 最大數\n",
    "    supFound = False\n",
    "    for s in range(len(boxes)): # supplier，供應商 s\n",
    "        cur_waste = 0 # 供應商 s 的總浪費空間\n",
    "        p = 0 # 第 p 個商品，從第 0 個商品裝箱\n",
    "        b = 0 # 第 b 種箱子，從第 0 種箱子裝箱\n",
    "        while b < len(boxes[s]): # 還有箱子可裝箱\n",
    "            while packages[p] <= boxes[s][b]: # 裝得下\n",
    "                cur_waste += boxes[s][b] - packages[p] # 加總其空間浪費\n",
    "                p += 1 # 裝下一個商品\n",
    "                if p >= len(packages): # 商品都已裝箱\n",
    "                    min_waste = min(cur_waste, min_waste) # 必要時更新最小值\n",
    "                    supFound = True # 有供應商可完全裝箱\n",
    "                    break\n",
    "            b += 1 # 試下一種箱子\n",
    "            if p >= len(packages): # 商品都已裝箱，無須試下一種箱子\n",
    "                break\n",
    "    if supFound:\n",
    "        return min_waste\n",
    "    return -1\n",
    "\n",
    "packages = list(map(int, input().split()))\n",
    "packages.sort()\n",
    "m = int(input())  #供應商數量\n",
    "boxes = [[] for _ in range(m)]\n",
    "for s in range(m): #每一個供應商提供的箱子種類\n",
    "    boxes[s] = list(map(int, input().split()))\n",
    "    boxes[s].sort()\n",
    "print(packing(packages, boxes))\n",
    "#輸入範例\n",
    "#2 3 5\n",
    "#2\n",
    "#4 8\n",
    "#8 2\n",
    "#輸出 6"
   ]
  },
  {
   "cell_type": "code",
   "execution_count": 6,
   "id": "2d3807a3",
   "metadata": {},
   "outputs": [
    {
     "name": "stdout",
     "output_type": "stream",
     "text": [
      "3 5 8 12 11 10\n",
      "3\n",
      "12\n",
      "11 9\n",
      "10 5 14\n",
      "9\n"
     ]
    }
   ],
   "source": [
    "from math import inf\n",
    "    \n",
    "def packing(packages, boxes):\n",
    "    min_waste = inf\n",
    "    sup = False\n",
    "    for company in range(len(boxes)):\n",
    "        cur_waste = 0\n",
    "        box = 0\n",
    "        package = 0\n",
    "        while box < len(boxes[company]):\n",
    "            while package < len(packages):\n",
    "                if packages[package] <= boxes[company][box]:\n",
    "                    cur_waste += boxes[company][box] - packages[package]\n",
    "                    package += 1\n",
    "                else:\n",
    "                    break\n",
    "                    \n",
    "            box += 1                    \n",
    "            if package >= len(packages):\n",
    "                sup = True\n",
    "                min_waste = min(cur_waste, min_waste)\n",
    "                break\n",
    "                \n",
    "    if sup:\n",
    "        return min_waste\n",
    "    return -1\n",
    "\n",
    "packages = list(map(int, input().split()))\n",
    "packages.sort()\n",
    "m = int(input())  #供應商數量\n",
    "boxes = [[] for _ in range(m)]\n",
    "for s in range(m): #每一個供應商提供的箱子種類\n",
    "    boxes[s] = list(map(int, input().split()))\n",
    "    boxes[s].sort()\n",
    "print(packing(packages, boxes))\n",
    "#2 3 5\n",
    "#2\n",
    "#4 8\n",
    "#8 2\n",
    "#輸出 6"
   ]
  },
  {
   "cell_type": "markdown",
   "id": "e3b41d3a",
   "metadata": {},
   "source": [
    "## 刷題15:最大子陣列（Maximum Subarray）"
   ]
  },
  {
   "cell_type": "code",
   "execution_count": 5,
   "id": "b8860224",
   "metadata": {},
   "outputs": [
    {
     "name": "stdout",
     "output_type": "stream",
     "text": [
      "6\n"
     ]
    }
   ],
   "source": [
    "def maxSubArr(nums):\n",
    "    max_sum = -inf#float(\"-inf\")\n",
    "    cur_sum = 0\n",
    "    for i in range(len(nums)):\n",
    "        cur_sum += nums[i]\n",
    "        max_sum = max(max_sum, cur_sum)\n",
    "        cur_sum = max(cur_sum, 0)\n",
    "    return max_sum\n",
    "\n",
    "\n",
    "nums = [-2, 1, -3, 4, -1, 2, 1, -5, 4]\n",
    "# nums = [-3, 1, -2, 5, 1, -2, 6, -9]\n",
    "print(maxSubArr(nums))"
   ]
  },
  {
   "cell_type": "code",
   "execution_count": 8,
   "id": "55016010",
   "metadata": {},
   "outputs": [
    {
     "name": "stdout",
     "output_type": "stream",
     "text": [
      "6\n"
     ]
    }
   ],
   "source": [
    "def maxSubArr(nums):\n",
    "    max_sum = float(\"-inf\")\n",
    "    cur_sum = 0\n",
    "    for i in range(len(nums)):\n",
    "        cur_sum += nums[i]\n",
    "        max_sum = max(max_sum, cur_sum)\n",
    "        cur_sum = max(cur_sum, 0)\n",
    "    return max_sum\n",
    "\n",
    "nums = [-2, 1, -3, 4, -1, 2, 1, -5, 4]\n",
    "# nums = [-3, 1, -2, 5, 1, -2, 6, -9]\n",
    "print(maxSubArr(nums))"
   ]
  },
  {
   "cell_type": "code",
   "execution_count": 3,
   "id": "785c1248",
   "metadata": {},
   "outputs": [
    {
     "data": {
      "text/plain": [
       "-inf"
      ]
     },
     "execution_count": 3,
     "metadata": {},
     "output_type": "execute_result"
    }
   ],
   "source": [
    "float(\"-inf\")#沒from math import inf就可以用\n",
    "#-inf、inf要import才能用"
   ]
  },
  {
   "cell_type": "markdown",
   "id": "8760a665",
   "metadata": {},
   "source": [
    "## 延伸刷題:最大子陣列位置"
   ]
  },
  {
   "cell_type": "code",
   "execution_count": 18,
   "id": "990f3e25",
   "metadata": {},
   "outputs": [
    {
     "name": "stdout",
     "output_type": "stream",
     "text": [
      "(6, 3, 6)\n"
     ]
    }
   ],
   "source": [
    "def maxSubArr2(nums):\n",
    "    max_sum = float(\"-inf\")\n",
    "    cur_sum = 0\n",
    "    starti = max_starti = max_endi = 0\n",
    "    for i in range(len(nums)):\n",
    "        cur_sum += nums[i]\n",
    "        \n",
    "        if cur_sum > max_sum:\n",
    "            max_sum = cur_sum\n",
    "            max_starti = starti\n",
    "            max_endi = i\n",
    "        if cur_sum < 0:\n",
    "            cur_sum = 0\n",
    "            starti = i + 1\n",
    "            \n",
    "    return max_sum, max_starti, max_endi\n",
    "            \n",
    "\n",
    "nums = [-2, 1, -3, 4, -1, 2, 1, -5, 4]\n",
    "# nums = [-3, 1, -2, 5, 1, -2, 6, -9]\n",
    "print(maxSubArr2(nums))"
   ]
  },
  {
   "cell_type": "code",
   "execution_count": 17,
   "id": "30f35d7b",
   "metadata": {},
   "outputs": [
    {
     "name": "stdout",
     "output_type": "stream",
     "text": [
      "(6, 3, 6)\n"
     ]
    }
   ],
   "source": [
    "def maxSubArr2(nums):\n",
    "    max_sum = float(\"-inf\")\n",
    "    cur_sum = 0\n",
    "    starti = max_starti = max_endi = 0\n",
    "    for i in range(len(nums)):\n",
    "        cur_sum += nums[i]\n",
    "        if cur_sum > max_sum:\n",
    "            max_sum = cur_sum\n",
    "            max_starti = starti\n",
    "            max_endi = i\n",
    "        if cur_sum < 0:\n",
    "            cur_sum = 0\n",
    "            starti = i + 1\n",
    "    return max_sum, max_starti, max_endi\n",
    "\n",
    "nums = [-2, 1, -3, 4, -1, 2, 1, -5, 4]\n",
    "# nums = [-3, 1, -2, 5, 1, -2, 6, -9]\n",
    "print(maxSubArr2(nums))"
   ]
  }
 ],
 "metadata": {
  "kernelspec": {
   "display_name": "Python 3 (ipykernel)",
   "language": "python",
   "name": "python3"
  },
  "language_info": {
   "codemirror_mode": {
    "name": "ipython",
    "version": 3
   },
   "file_extension": ".py",
   "mimetype": "text/x-python",
   "name": "python",
   "nbconvert_exporter": "python",
   "pygments_lexer": "ipython3",
   "version": "3.9.7"
  }
 },
 "nbformat": 4,
 "nbformat_minor": 5
}
