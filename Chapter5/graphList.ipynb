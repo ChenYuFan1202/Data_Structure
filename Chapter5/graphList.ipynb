{
 "cells": [
  {
   "cell_type": "code",
   "execution_count": 3,
   "id": "be44f5e7",
   "metadata": {},
   "outputs": [
    {
     "name": "stdout",
     "output_type": "stream",
     "text": [
      "[[1, 2, 3], [0, 3], [0, 3], [0, 1, 2]]\n"
     ]
    }
   ],
   "source": [
    "class GraphList:\n",
    "    def read(self):\n",
    "        self.n, self.e = map(int, input(\"請輸入頂點數和邊數: \").split())\n",
    "        self.L = [[] for _ in range(self.n)]\n",
    "        for _ in range(self.e):\n",
    "            i, j = map(int, input(\"請輸入每個邊的起點和終點: \").split())\n",
    "            self.L[i].append(j)\n",
    "        print(self.L)\n",
    "    def readFile(self, fileName):\n",
    "        fp = open(fileName, \"r\")\n",
    "        self.n, self.e = map(int, fp.readline().split())\n",
    "        self.L = [[] for _ in range(self.n)]\n",
    "        for _ in range(self.e):\n",
    "            i, j = map(int, fp.readline().split())\n",
    "            self.L[i].append(j)\n",
    "        print(self.L)\n",
    "        \n",
    "g = GraphList()\n",
    "# g.read()\n",
    "g.readFile(\"graphList.txt\")"
   ]
  }
 ],
 "metadata": {
  "kernelspec": {
   "display_name": "Python 3 (ipykernel)",
   "language": "python",
   "name": "python3"
  },
  "language_info": {
   "codemirror_mode": {
    "name": "ipython",
    "version": 3
   },
   "file_extension": ".py",
   "mimetype": "text/x-python",
   "name": "python",
   "nbconvert_exporter": "python",
   "pygments_lexer": "ipython3",
   "version": "3.9.7"
  }
 },
 "nbformat": 4,
 "nbformat_minor": 5
}
