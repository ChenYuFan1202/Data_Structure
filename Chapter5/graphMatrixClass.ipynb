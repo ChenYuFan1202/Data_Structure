{
 "cells": [
  {
   "cell_type": "code",
   "execution_count": 1,
   "id": "0aa77b73",
   "metadata": {},
   "outputs": [
    {
     "name": "stdout",
     "output_type": "stream",
     "text": [
      "0 0 1 1 1 0 \n",
      "0 0 1 0 0 1 \n",
      "1 1 0 0 0 1 \n",
      "1 0 0 0 0 0 \n",
      "1 0 0 0 0 0 \n",
      "0 1 1 0 0 0 \n",
      "\n"
     ]
    }
   ],
   "source": [
    "class GraphMatrix:\n",
    "    def read(self):\n",
    "        self.n = int(input(\"請輸入頂點數: \"))\n",
    "        self.L = [[] for _ in range(self.n)]\n",
    "        for i in range(self.n):\n",
    "            self.L[i] = list(map(int, input(\"請輸入一行串列: \").split()))\n",
    "    def readFile(self, fileName):\n",
    "        fp = open(fileName, \"r\")\n",
    "        self.n = int(fp.readline())\n",
    "        self.L = [[] for _ in range(self.n)]\n",
    "        for i in range(self.n):\n",
    "            self.L[i] = list(map(int, fp.readline().split()))\n",
    "    def print(self):\n",
    "        for i in range(self.n):\n",
    "            for j in range(self.n):\n",
    "                print(self.L[i][j], end = \" \")\n",
    "            print()\n",
    "        print()\n",
    "\n",
    "def main():\n",
    "    g = GraphMatrix()\n",
    "    #g.read()\n",
    "    g.readFile(\"graphArray.txt\")\n",
    "    g.print()\n",
    "\n",
    "if __name__ == \"__main__\":\n",
    "    main()"
   ]
  },
  {
   "cell_type": "code",
   "execution_count": 10,
   "id": "451aa41f",
   "metadata": {},
   "outputs": [
    {
     "name": "stdout",
     "output_type": "stream",
     "text": [
      "請輸入頂點數： 3\n",
      "請輸入各列元素: 1 0 1\n",
      "請輸入各列元素: 1 1 1\n",
      "請輸入各列元素: 0 0 0\n",
      "1 0 1 \n",
      "1 1 1 \n",
      "0 0 0 \n",
      "\n"
     ]
    }
   ],
   "source": [
    "class GraphMatrix:\n",
    "    def read(self):\n",
    "        self.n = int(input(\"請輸入頂點數： \"))\n",
    "        self.A = [[] for _ in range(self.n)]\n",
    "        for i in range(self.n):\n",
    "            self.A[i] = list(map(int, input(\"請輸入各列元素: \").split()))\n",
    "    def readFile(self, fileName):\n",
    "        fp = open(fileName, \"r\")\n",
    "        self.n = int(fp.readline())\n",
    "        self.A = [[] for _ in range(self.n)]\n",
    "        for i in range(self.n):\n",
    "            self.A[i] = list(map(int, fp.readline().split()))\n",
    "    def print(self):\n",
    "        for i in range(self.n):\n",
    "            for j in range(self.n):\n",
    "                print(self.A[i][j], end = \" \")\n",
    "            print()\n",
    "        print()\n",
    "            \n",
    "def main():\n",
    "    g = GraphMatrix()\n",
    "    g.read()\n",
    "    #g.readFile(\"graphArray.txt\")\n",
    "    g.print()\n",
    "\n",
    "if __name__ == \"__main__\":\n",
    "    main()       "
   ]
  }
 ],
 "metadata": {
  "kernelspec": {
   "display_name": "Python 3 (ipykernel)",
   "language": "python",
   "name": "python3"
  },
  "language_info": {
   "codemirror_mode": {
    "name": "ipython",
    "version": 3
   },
   "file_extension": ".py",
   "mimetype": "text/x-python",
   "name": "python",
   "nbconvert_exporter": "python",
   "pygments_lexer": "ipython3",
   "version": "3.9.7"
  }
 },
 "nbformat": 4,
 "nbformat_minor": 5
}
