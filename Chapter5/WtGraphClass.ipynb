{
 "cells": [
  {
   "cell_type": "code",
   "execution_count": 2,
   "id": "d6f495c5",
   "metadata": {},
   "outputs": [
    {
     "name": "stdout",
     "output_type": "stream",
     "text": [
      "請輸入頂點數和邊數: 5 12\n",
      "請輸入每個邊的起點、終點、權重: 0 1 2\n",
      "請輸入每個邊的起點、終點、權重: 0 3 8\n",
      "請輸入每個邊的起點、終點、權重: 0 4 10\n",
      "請輸入每個邊的起點、終點、權重: 1 0 2\n",
      "請輸入每個邊的起點、終點、權重: 1 2 3\n",
      "請輸入每個邊的起點、終點、權重: 2 1 3\n",
      "請輸入每個邊的起點、終點、權重: 2 3 5\n",
      "請輸入每個邊的起點、終點、權重: 3 0 8\n",
      "請輸入每個邊的起點、終點、權重: 3 2 5\n",
      "請輸入每個邊的起點、終點、權重: 3 4 9\n",
      "請輸入每個邊的起點、終點、權重: 4 0 10\n",
      "請輸入每個邊的起點、終點、權重: 4 3 9\n",
      "[(1, 2), (3, 8), (4, 10)]\n",
      "[(0, 2), (2, 3)]\n",
      "[(1, 3), (3, 5)]\n",
      "[(0, 8), (2, 5), (4, 9)]\n",
      "[(0, 10), (3, 9)]\n",
      "\n",
      "[(1, 2), (3, 8), (4, 10)]\n",
      "[(0, 2), (2, 3)]\n",
      "[(1, 3), (3, 5)]\n",
      "[(0, 8), (2, 5), (4, 9)]\n",
      "[(0, 10), (3, 9)]\n",
      "\n"
     ]
    }
   ],
   "source": [
    "class WtGraph:\n",
    "    def read(self):\n",
    "        self.n, self.e = map(int, input(\"請輸入頂點數和邊數: \").split())\n",
    "        self.L = [[] for _ in range(self.n)]\n",
    "        for _ in range(self.e):\n",
    "            u, v, w = map(int, input(\"請輸入每個邊的起點、終點、權重: \").split())\n",
    "            self.L[u].append((v, w))\n",
    "    def readFile(self, fileName):\n",
    "        fp = open(fileName, \"r\")\n",
    "        self.n, self.e = map(int, fp.readline().split())\n",
    "        self.L = [[] for _ in range(self.n)]\n",
    "        for _ in range(self.e):\n",
    "            u, v, w = map(int, fp.readline().split())\n",
    "            self.L[u].append((v, w))\n",
    "    def print(self):\n",
    "        for i in range(self.n):\n",
    "            print(self.L[i])\n",
    "        print()\n",
    "\n",
    "def main():\n",
    "    g1 = WtGraph()\n",
    "    g2 = WtGraph()\n",
    "    g1.read()\n",
    "    g2.readFile(\"wtGraphList.txt\")\n",
    "    g1.print()\n",
    "    g2.print()\n",
    "    \n",
    "if __name__ == \"__main__\":\n",
    "    main()"
   ]
  }
 ],
 "metadata": {
  "kernelspec": {
   "display_name": "Python 3 (ipykernel)",
   "language": "python",
   "name": "python3"
  },
  "language_info": {
   "codemirror_mode": {
    "name": "ipython",
    "version": 3
   },
   "file_extension": ".py",
   "mimetype": "text/x-python",
   "name": "python",
   "nbconvert_exporter": "python",
   "pygments_lexer": "ipython3",
   "version": "3.9.7"
  }
 },
 "nbformat": 4,
 "nbformat_minor": 5
}
