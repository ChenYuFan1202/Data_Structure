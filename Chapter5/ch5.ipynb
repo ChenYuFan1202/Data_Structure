{
 "cells": [
  {
   "cell_type": "markdown",
   "id": "302a5303",
   "metadata": {},
   "source": [
    "# 5-1圖的定義、資料結構與走訪"
   ]
  },
  {
   "cell_type": "markdown",
   "id": "367d48ae",
   "metadata": {},
   "source": [
    "## 範例5.1鄰接矩陣的類別"
   ]
  },
  {
   "cell_type": "code",
   "execution_count": 1,
   "id": "65b45f24",
   "metadata": {},
   "outputs": [
    {
     "name": "stdout",
     "output_type": "stream",
     "text": [
      "0 0 1 1 1 0 \n",
      "0 0 1 0 0 1 \n",
      "1 1 0 0 0 1 \n",
      "1 0 0 0 0 0 \n",
      "1 0 0 0 0 0 \n",
      "0 1 1 0 0 0 \n",
      "\n"
     ]
    }
   ],
   "source": [
    "class GraphMatrix:\n",
    "    def read(self):\n",
    "        self.n = int(input(\"請輸入頂點數:　\"))\n",
    "        self.L = [[] for _ in range(self.n)]\n",
    "        for i in range(self.n):\n",
    "            self.L[i] = list(map(int, input(\"請輸入一行串列: \").split()))\n",
    "    def readFile(self, fileName):\n",
    "        fp = open(fileName, \"r\")\n",
    "        self.n = int(fp.readline())\n",
    "        self.L = [[] for _ in range(self.n)]\n",
    "        for i in range(self.n):\n",
    "            self.L[i] = list(map(int, fp.readline().split()))\n",
    "    def print(self):\n",
    "        for i in range(self.n):\n",
    "            for j in range(self.n):\n",
    "                print(self.L[i][j], end = \" \")\n",
    "            print()\n",
    "        print()\n",
    "            \n",
    "g = GraphMatrix()\n",
    "# g.read()\n",
    "g.readFile(\"graphArray.txt\")\n",
    "g.print()"
   ]
  },
  {
   "cell_type": "markdown",
   "id": "542b4bb9",
   "metadata": {},
   "source": [
    "## 範例5.2 鄰接串列的類別"
   ]
  },
  {
   "cell_type": "code",
   "execution_count": 2,
   "id": "39ac19d2",
   "metadata": {},
   "outputs": [
    {
     "name": "stdout",
     "output_type": "stream",
     "text": [
      "請輸入頂點數和邊數: 4 10\n",
      "請輸入每個邊的起點和終點: 0 1\n",
      "請輸入每個邊的起點和終點: 0 2\n",
      "請輸入每個邊的起點和終點: 0 3\n",
      "請輸入每個邊的起點和終點: 1 0\n",
      "請輸入每個邊的起點和終點: 1 3\n",
      "請輸入每個邊的起點和終點: 2 0\n",
      "請輸入每個邊的起點和終點: 2 3\n",
      "請輸入每個邊的起點和終點: 3 0\n",
      "請輸入每個邊的起點和終點: 3 1\n",
      "請輸入每個邊的起點和終點: 3 2\n",
      "[1, 2, 3]\n",
      "[0, 3]\n",
      "[0, 3]\n",
      "[0, 1, 2]\n",
      "\n"
     ]
    }
   ],
   "source": [
    "class GraphList:\n",
    "    def read(self):\n",
    "        self.n, self.e = map(int, input(\"請輸入頂點數和邊數: \").split())\n",
    "        self.L = [[] for _ in range(self.n)]\n",
    "        for _ in range(self.e):\n",
    "            i, j = map(int, input(\"請輸入每個邊的起點和終點: \").split())\n",
    "            self.L[i].append(j)\n",
    "#         print(self.L)\n",
    "    def readFile(self, fileName):\n",
    "        fp = open(fileName, \"r\")\n",
    "        self.n, self.e = map(int, fp.readline().split())\n",
    "        self.L = [[] for _ in range(self.n)]\n",
    "        for _ in range(self.e):\n",
    "            i, j = map(int, fp.readline().split())\n",
    "            self.L[i].append(j)\n",
    "#         print(self.L)\n",
    "\n",
    "    def print(self):\n",
    "        for i in range(self.n):\n",
    "            print(self.L[i])\n",
    "        print()\n",
    "        \n",
    "            \n",
    "g = GraphList()\n",
    "g.read()\n",
    "# g.readFile(\"graphList.txt\")\n",
    "g.print()"
   ]
  },
  {
   "cell_type": "markdown",
   "id": "6afa8b1c",
   "metadata": {},
   "source": [
    "## 範例5.3 加權鄰接串列的類別"
   ]
  },
  {
   "cell_type": "code",
   "execution_count": 4,
   "id": "a409f1b3",
   "metadata": {},
   "outputs": [
    {
     "name": "stdout",
     "output_type": "stream",
     "text": [
      "請輸入頂點數和邊數: 5 12\n",
      "請輸入每個邊的起點、終點、權重: 0 1 2\n",
      "請輸入每個邊的起點、終點、權重: 0 3 8\n",
      "請輸入每個邊的起點、終點、權重: 0 4 10\n",
      "請輸入每個邊的起點、終點、權重: 1 0 2\n",
      "請輸入每個邊的起點、終點、權重: 1 2 3\n",
      "請輸入每個邊的起點、終點、權重: 2 1 3\n",
      "請輸入每個邊的起點、終點、權重: 2 3 5\n",
      "請輸入每個邊的起點、終點、權重: 3 0 8\n",
      "請輸入每個邊的起點、終點、權重: 3 2 5\n",
      "請輸入每個邊的起點、終點、權重: 3 4 9\n",
      "請輸入每個邊的起點、終點、權重: 4 0 10\n",
      "請輸入每個邊的起點、終點、權重: 4 3 9\n",
      "[(1, 2), (3, 8), (4, 10)]\n",
      "[(0, 2), (2, 3)]\n",
      "[(1, 3), (3, 5)]\n",
      "[(0, 8), (2, 5), (4, 9)]\n",
      "[(0, 10), (3, 9)]\n",
      "\n"
     ]
    }
   ],
   "source": [
    "class WtGraph:\n",
    "    def read(self):\n",
    "        self.n, self.e = map(int, input(\"請輸入頂點數和邊數: \").split())\n",
    "        self.L = [[] for _ in range(self.n)]\n",
    "        for _ in range(self.e):\n",
    "            u, v, w = map(int, input(\"請輸入每個邊的起點、終點、權重: \").split())\n",
    "            self.L[u].append((v, w))\n",
    "    def readFile(self, fileName):\n",
    "        fp = open(fileName, \"r\")\n",
    "        self.n, self.e = map(int, fp.readline().split())\n",
    "        self.L = [[] for _ in range(self.n)]\n",
    "        for _ in range(self.e):\n",
    "            u, v, w = map(int, fp.readline().split())\n",
    "            self.L[u].append((v, w))\n",
    "    def print(self):\n",
    "        for i in range(self.n):\n",
    "            print(self.L[i])\n",
    "        print()\n",
    "            \n",
    "g = WtGraph()\n",
    "g.read()\n",
    "# g.readFile(\"wtGraphList.txt\")\n",
    "g.print()"
   ]
  },
  {
   "cell_type": "markdown",
   "id": "da706ed1",
   "metadata": {},
   "source": [
    "## 刷題35：檢查是否為星形圖"
   ]
  },
  {
   "cell_type": "code",
   "execution_count": 2,
   "id": "136b0ac6",
   "metadata": {},
   "outputs": [
    {
     "name": "stdout",
     "output_type": "stream",
     "text": [
      "請輸入頂點數和邊數: 4 6\n",
      "請輸入每個邊的起點和終點: 0 1\n",
      "請輸入每個邊的起點和終點: 0 2\n",
      "請輸入每個邊的起點和終點: 0 3\n",
      "請輸入每個邊的起點和終點: 1 0\n",
      "請輸入每個邊的起點和終點: 2 0\n",
      "請輸入每個邊的起點和終點: 3 0\n",
      "[1, 2, 3]\n",
      "[0]\n",
      "[0]\n",
      "[0]\n",
      "\n",
      "True\n"
     ]
    }
   ],
   "source": [
    "from graphList import *\n",
    "def isStar(g):\n",
    "    num_star = 0\n",
    "    num_other = 0\n",
    "    for v in g.L:\n",
    "        if len(v) == g.n - 1:\n",
    "            num_star += 1\n",
    "        elif len(v) == 1:\n",
    "            num_other += 1\n",
    "    if g.e == 2 * (g.n - 1) and num_star == 1 and num_other == g.n - 1:\n",
    "        return True\n",
    "    return False\n",
    "    \n",
    "g1 = GraphList()\n",
    "g1.read()\n",
    "g1.print()\n",
    "print(isStar(g1))"
   ]
  },
  {
   "cell_type": "markdown",
   "id": "082f1466",
   "metadata": {},
   "source": [
    "## 刷題36：廣度優先走訪圖形"
   ]
  },
  {
   "cell_type": "code",
   "execution_count": 8,
   "id": "36ef6659",
   "metadata": {},
   "outputs": [
    {
     "data": {
      "text/plain": [
       "[0, 1, 2, 3, 6, 7, 4, 5, 8]"
      ]
     },
     "execution_count": 8,
     "metadata": {},
     "output_type": "execute_result"
    }
   ],
   "source": [
    "from queueClass import *\n",
    "\n",
    "class GraphList:\n",
    "    def read(self):\n",
    "        self.n, self.e = map(int, input(\"請輸入頂點數和邊數: \").split())\n",
    "        self.L = [[] for _ in range(self.n)]\n",
    "        for _ in range(self.e):\n",
    "            i, j = map(int, input(\"請輸入每個邊的起點和終點: \").split())\n",
    "            self.L[i].append(j)\n",
    "    \n",
    "    def readFile(self, fileName):\n",
    "        fp = open(fileName, \"r\")\n",
    "        self.n, self.e = map(int, fp.readline().split())\n",
    "        self.L = [[] for _ in range(self.n)]\n",
    "        for _ in range(self.e):\n",
    "            i, j = map(int, fp.readline().split())\n",
    "            self.L[i].append(j)\n",
    "            \n",
    "    def print(self):\n",
    "        for i in range(self.n):\n",
    "            print(self.L[i])\n",
    "        print()\n",
    "        \n",
    "    def BFS(self, vs):\n",
    "        q = Queue()\n",
    "        visited = [False] * self.n\n",
    "        visitOrder = []\n",
    "        q.enQueue(vs)\n",
    "        while not q.isEmpty():\n",
    "            vx = q.deQueue()\n",
    "            if not visited[vx]:\n",
    "                visited[vx] = True\n",
    "                visitOrder.append(vx)\n",
    "                for vy in self.L[vx]:\n",
    "                    if not visited[vy]:\n",
    "                        q.enQueue(vy)\n",
    "        return visitOrder\n",
    "        \n",
    "g = GraphList()\n",
    "g.readFile(\"graph5-12.txt\")\n",
    "# g.print()\n",
    "g.BFS(0)"
   ]
  },
  {
   "cell_type": "markdown",
   "id": "27c1f51f",
   "metadata": {},
   "source": [
    "## 刷題37：測試無向圖中的兩頂點是否存在路徑（連通）"
   ]
  },
  {
   "cell_type": "code",
   "execution_count": 3,
   "id": "ffb4ea68",
   "metadata": {},
   "outputs": [
    {
     "data": {
      "text/plain": [
       "False"
      ]
     },
     "execution_count": 3,
     "metadata": {},
     "output_type": "execute_result"
    }
   ],
   "source": [
    "from queueClass import *\n",
    "class GraphList:\n",
    "    def read(self):\n",
    "        self.n, self.e = map(int, input(\"請輸入頂點數和邊數: \").split())\n",
    "        self.L = [[] for _ in range(self.n)]\n",
    "        for _ in range(self.e):\n",
    "            i, j = map(int, input(\"請輸入每個邊的起點和終點: \").split())\n",
    "            self.L[i].append(j)\n",
    "\n",
    "    def readFile(self, fileName):\n",
    "        fp = open(fileName, \"r\")\n",
    "        self.n, self.e = map(int, fp.readline().split())\n",
    "        self.L = [[] for _ in range(self.n)]\n",
    "        for _ in range(self.e):\n",
    "            i, j = map(int, fp.readline().split())\n",
    "            self.L[i].append(j)\n",
    "\n",
    "    def BFS_test(self, vs, vd):\n",
    "        q = Queue()\n",
    "        visited = [False] * self.n\n",
    "        q.enQueue(vs)\n",
    "        while not q.isEmpty():\n",
    "            vx = q.deQueue()\n",
    "            if vx == vd:\n",
    "                return True\n",
    "            if not visited[vx]:\n",
    "                visited[vx] = True\n",
    "                for vy in self.L[vx]:\n",
    "                    if not visited[vy]:\n",
    "                        q.enQueue(vy)\n",
    "        return False\n",
    "    \n",
    "g = GraphList()\n",
    "g.readFile(\"graph#37.txt\")\n",
    "src, dst = map(int, input(\"請輸入起點和終點：　\").split())\n",
    "g.BFS_test(src, dst)"
   ]
  },
  {
   "cell_type": "markdown",
   "id": "258b637b",
   "metadata": {},
   "source": [
    "## 刷題38：深度優先走訪圖形"
   ]
  },
  {
   "cell_type": "code",
   "execution_count": 1,
   "id": "dc1b21d9",
   "metadata": {},
   "outputs": [
    {
     "name": "stdout",
     "output_type": "stream",
     "text": [
      "0 1\n"
     ]
    }
   ],
   "source": [
    "a, b = range(2)\n",
    "print(a, b)"
   ]
  },
  {
   "cell_type": "code",
   "execution_count": 11,
   "id": "4da38344",
   "metadata": {},
   "outputs": [
    {
     "name": "stdout",
     "output_type": "stream",
     "text": [
      "[0, 1, 7, 2, 3, 4, 6, 5, 8]\n"
     ]
    }
   ],
   "source": [
    "class GraphList:\n",
    "    WHITE, GREY, BLACK = range(3)\n",
    "    def read(self):\n",
    "        self.n, self.e = map(int, input(\"請輸入頂點數和邊數: \").split())\n",
    "        self.L = [[] for _ in range(self.n)]\n",
    "        for _ in range(self.e):\n",
    "            i, j = map(int, input(\"請輸入每個邊的起點和終點: \").split())\n",
    "            self.L[i].append(j)\n",
    "    \n",
    "    def readFile(self, fileName):\n",
    "        fp = open(fileName, \"r\")\n",
    "        self.n, self.e = map(int, fp.readline().split())\n",
    "        self.L = [[] for _ in range(self.n)]\n",
    "        for _ in range(self.e):\n",
    "            i, j = map(int, fp.readline().split())\n",
    "            self.L[i].append(j)\n",
    "            \n",
    "    def print(self):\n",
    "        for i in range(self.n):\n",
    "            print(self.L[i])\n",
    "        print()\n",
    "\n",
    "    def DFS(self, v):\n",
    "        if self.colorV[v] == self.WHITE:\n",
    "            self.colorV[v] = self.GREY\n",
    "            self.visitOrder.append(v)\n",
    "            for j in self.L[v]:\n",
    "                if self.colorV[j] == self.WHITE:\n",
    "                    self.DFS(j)\n",
    "                self.colorV[v] = self.BLACK # 有沒有縮排的結果是一樣的\n",
    "            \n",
    "g = GraphList()\n",
    "g.readFile(\"graph5-14.txt\")\n",
    "g.colorV = [g.WHITE] * g.n\n",
    "g.visitOrder = []\n",
    "vs = int(input(\"請輸入起點：　\"))\n",
    "g.DFS(vs)\n",
    "print(g.visitOrder)"
   ]
  },
  {
   "cell_type": "markdown",
   "id": "3626d866",
   "metadata": {},
   "source": [
    "## 範例5.5 DFS堆疊版"
   ]
  },
  {
   "cell_type": "code",
   "execution_count": 10,
   "id": "8db67db5",
   "metadata": {},
   "outputs": [
    {
     "data": {
      "text/plain": [
       "[0, 7, 6, 5, 4, 8, 2, 3, 1]"
      ]
     },
     "execution_count": 10,
     "metadata": {},
     "output_type": "execute_result"
    }
   ],
   "source": [
    "from stackClass import *\n",
    "class GraphList:\n",
    "    def read(self):\n",
    "        self.n, self.e = map(int, input(\"請輸入頂點數和邊數: \").split())\n",
    "        self.L = [[] for _ in range(self.n)]\n",
    "        for _ in range(self.e):\n",
    "            i, j = map(int, input(\"請輸入每個邊的起點和終點: \").split())\n",
    "            self.L[i].append(j)\n",
    "    \n",
    "    def readFile(self, fileName):\n",
    "        fp = open(fileName, \"r\")\n",
    "        self.n, self.e = map(int, fp.readline().split())\n",
    "        self.L = [[] for _ in range(self.n)]\n",
    "        for _ in range(self.e):\n",
    "            i, j = map(int, fp.readline().split())\n",
    "            self.L[i].append(j)\n",
    "            \n",
    "    def print(self):\n",
    "        for i in range(self.n):\n",
    "            print(self.L[i])\n",
    "        print()\n",
    "\n",
    "    def DFS(self, vs):\n",
    "        s = Stack()\n",
    "        visited = [False] * self.n\n",
    "        visitOrder = []\n",
    "        s.push(vs)\n",
    "        while not s.isEmpty():\n",
    "            vx = s.pop()\n",
    "            if not visited[vx]:\n",
    "                visited[vx] = True\n",
    "                visitOrder.append(vx)\n",
    "                for vy in self.L[vx]:\n",
    "                    if not visited[vy]: # visited[vy] == False也可以\n",
    "                        s.push(vy)\n",
    "        return visitOrder\n",
    "    \n",
    "g = GraphList()\n",
    "g.readFile(\"graph5-14.txt\")\n",
    "g.DFS(0)"
   ]
  },
  {
   "cell_type": "markdown",
   "id": "92ac5c79",
   "metadata": {},
   "source": [
    "## 刷題39：檢查兩個頂點間是否有路徑"
   ]
  },
  {
   "cell_type": "code",
   "execution_count": 16,
   "metadata": {},
   "outputs": [
    {
     "data": {
      "text/plain": [
       "True"
      ]
     },
     "execution_count": 16,
     "metadata": {},
     "output_type": "execute_result"
    }
   ],
   "source": [
    "class GraphList:\n",
    "    WHITE, GREY, BLACK = range(3)\n",
    "    def read(self):\n",
    "        self.n, self.e = map(int, input(\"請輸入頂點數和邊數: \").split())\n",
    "        self.L = [[] for _ in range(self.n)]\n",
    "        for _ in range(self.e):\n",
    "            i, j = map(int, input(\"請輸入每個邊的起點和終點: \").split())\n",
    "            self.L[i].append(j)\n",
    "    \n",
    "    def readFile(self, fileName):\n",
    "        fp = open(fileName, \"r\")\n",
    "        self.n, self.e = map(int, fp.readline().split())\n",
    "        self.L = [[] for _ in range(self.n)]\n",
    "        for _ in range(self.e):\n",
    "            i, j = map(int, fp.readline().split())\n",
    "            self.L[i].append(j)\n",
    "            \n",
    "    def print(self):\n",
    "        for i in range(self.n):\n",
    "            print(self.L[i])\n",
    "        print()\n",
    "\n",
    "    def hasPath(self, u, target):\n",
    "        if self.colorV[u] == self.WHITE:\n",
    "            self.colorV[u] = self.GREY\n",
    "            if u == target:\n",
    "                self.findFlag = True\n",
    "                return\n",
    "            for v in self.L[u]:\n",
    "                if self.findFlag == True:\n",
    "                    return\n",
    "                if self.colorV[v] == self.WHITE:\n",
    "                    self.hasPath(v, target)\n",
    "            self.colorV[u] = self.BLACK\n",
    "\n",
    "g = GraphList()\n",
    "g.readFile(\"graph5-15.txt\")\n",
    "start, target = map(int, input(\"請輸入起點和終點：　\").split())\n",
    "g.colorV = [g.WHITE] * g.n\n",
    "g.findFlag = False\n",
    "g.hasPath(start, target)\n",
    "g.findFlag"
   ]
  },
  {
   "cell_type": "markdown",
   "id": "d9216291",
   "metadata": {},
   "source": [
    "## 刷題40：檢查圖形是否為連通圖"
   ]
  },
  {
   "cell_type": "code",
   "execution_count": 23,
   "id": "61dc45c4",
   "metadata": {},
   "outputs": [
    {
     "name": "stdout",
     "output_type": "stream",
     "text": [
      "[1, 2, 3]\n",
      "[0, 4]\n",
      "[0, 3]\n",
      "[0, 2]\n",
      "[1]\n",
      "\n"
     ]
    },
    {
     "data": {
      "text/plain": [
       "True"
      ]
     },
     "execution_count": 23,
     "metadata": {},
     "output_type": "execute_result"
    }
   ],
   "source": [
    "class GraphList:\n",
    "    WHITE, GREY, BLACK = range(3)\n",
    "    def read(self):\n",
    "        self.n, self.e = map(int, input(\"請輸入頂點數和邊數: \").split())\n",
    "        self.L = [[] for _ in range(self.n)]\n",
    "        for _ in range(self.e):\n",
    "            i, j = map(int, input(\"請輸入每個邊的起點和終點: \").split())\n",
    "            self.L[i].append(j)\n",
    "    \n",
    "    def readFile(self, fileName):\n",
    "        fp = open(fileName, \"r\")\n",
    "        self.n, self.e = map(int, fp.readline().split())\n",
    "        self.L = [[] for _ in range(self.n)]\n",
    "        for _ in range(self.e):\n",
    "            i, j = map(int, fp.readline().split())\n",
    "            self.L[i].append(j)\n",
    "            \n",
    "    def print(self):\n",
    "        for i in range(self.n):\n",
    "            print(self.L[i])\n",
    "        print()\n",
    "\n",
    "    def DFS(self, v):\n",
    "        if self.colorV[v] == self.WHITE:\n",
    "            self.colorV[v] = self.GREY\n",
    "            for j in self.L[v]:\n",
    "                if self.colorV[j] == self.WHITE:\n",
    "                    self.DFS(j)\n",
    "            self.colorV[j] = self.BLACK\n",
    "\n",
    "    def isConnected(self):\n",
    "        self.DFS(1)\n",
    "        if self.colorV.count(self.WHITE):\n",
    "            return False\n",
    "        return True\n",
    "\n",
    "\n",
    "g = GraphList()\n",
    "g.readFile(\"graph5-16-1.txt\") # graph5-16-1.txt有畫虛線\n",
    "g.print()\n",
    "g.colorV = [g.WHITE] * g.n\n",
    "g.isConnected()"
   ]
  },
  {
   "cell_type": "markdown",
   "id": "80e12dae",
   "metadata": {},
   "source": [
    "## 刷題41：檢查有向圖是否有死結"
   ]
  },
  {
   "cell_type": "code",
   "execution_count": 2,
   "id": "689c1f79",
   "metadata": {},
   "outputs": [
    {
     "name": "stdout",
     "output_type": "stream",
     "text": [
      "[2, 4]\n",
      "[0]\n",
      "[1]\n",
      "[0, 1]\n",
      "[]\n",
      "\n"
     ]
    },
    {
     "data": {
      "text/plain": [
       "True"
      ]
     },
     "execution_count": 2,
     "metadata": {},
     "output_type": "execute_result"
    }
   ],
   "source": [
    "class GraphList:\n",
    "    WHITE, GREY, BLACK = range(3)\n",
    "    def read(self):\n",
    "        self.n, self.e = map(int, input(\"請輸入頂點數和邊數: \").split())\n",
    "        self.L = [[] for _ in range(self.n)]\n",
    "        for _ in range(self.e):\n",
    "            i, j = map(int, input(\"請輸入每個邊的起點和終點: \").split())\n",
    "            self.L[i].append(j)\n",
    "    \n",
    "    def readFile(self, fileName):\n",
    "        fp = open(fileName, \"r\")\n",
    "        self.n, self.e = map(int, fp.readline().split())\n",
    "        self.L = [[] for _ in range(self.n)]\n",
    "        for _ in range(self.e):\n",
    "            i, j = map(int, fp.readline().split())\n",
    "            self.L[i].append(j)\n",
    "            \n",
    "    def print(self):\n",
    "        for i in range(self.n):\n",
    "            print(self.L[i])\n",
    "        print()\n",
    "\n",
    "    def DFS2(self, v):\n",
    "        if self.colorV[v] == self.WHITE:\n",
    "            self.colorV[v] = self.GREY\n",
    "            for u in self.L[v]:\n",
    "                if self.findFlag:\n",
    "                    return\n",
    "                if self.colorV[u] == self.GREY:\n",
    "                    self.findFlag = True\n",
    "                else:\n",
    "                    self.DFS2(u)\n",
    "            self.colorV[v] = self.BLACK\n",
    "\n",
    "    def hasCycle(self):\n",
    "        self.colorV = [self.WHITE] * self.n\n",
    "        self.findFlag = False\n",
    "        unvisitV = self.colorV.count(self.WHITE)\n",
    "        while unvisitV and not self.findFlag:\n",
    "            v = self.colorV.index(self.WHITE)\n",
    "            self.DFS2(v)\n",
    "            unvisitV = self.colorV.count(self.WHITE)\n",
    "        return self.findFlag\n",
    "\n",
    "\n",
    "g = GraphList()\n",
    "g.readFile(\"graph5-17.txt\")\n",
    "g.print()\n",
    "g.hasCycle()"
   ]
  },
  {
   "cell_type": "markdown",
   "id": "0a34a45a",
   "metadata": {},
   "source": [
    "## 刷題42：修課限制是否可行"
   ]
  },
  {
   "cell_type": "code",
   "execution_count": 4,
   "id": "5b7f930c",
   "metadata": {},
   "outputs": [
    {
     "name": "stdout",
     "output_type": "stream",
     "text": [
      "[2, 4]\n",
      "[0]\n",
      "[1]\n",
      "[0, 1]\n",
      "[]\n",
      "\n"
     ]
    },
    {
     "data": {
      "text/plain": [
       "False"
      ]
     },
     "execution_count": 4,
     "metadata": {},
     "output_type": "execute_result"
    }
   ],
   "source": [
    "class GraphList:\n",
    "    WHITE, GREY, BLACK = range(3)\n",
    "    def read(self):\n",
    "        self.n, self.e = map(int, input(\"請輸入頂點數和邊數: \").split())\n",
    "        self.L = [[] for _ in range(self.n)]\n",
    "        for _ in range(self.e):\n",
    "            i, j = map(int, input(\"請輸入每個邊的起點和終點: \").split())\n",
    "            self.L[i].append(j)\n",
    "    \n",
    "    def readFile(self, fileName):\n",
    "        fp = open(fileName, \"r\")\n",
    "        self.n, self.e = map(int, fp.readline().split())\n",
    "        self.L = [[] for _ in range(self.n)]\n",
    "        for _ in range(self.e):\n",
    "            i, j = map(int, fp.readline().split())\n",
    "            self.L[i].append(j)\n",
    "            \n",
    "    def print(self):\n",
    "        for i in range(self.n):\n",
    "            print(self.L[i])\n",
    "        print()\n",
    "\n",
    "    def DFS2(self, v):\n",
    "        if self.colorV[v] == self.WHITE:\n",
    "            self.colorV[v] = self.GREY\n",
    "            for j in self.L[v]:\n",
    "                if self.findFlag:\n",
    "                    return\n",
    "                if self.colorV[j] == self.GREY:\n",
    "                    self.findFlag = True\n",
    "                else:\n",
    "                    self.DFS2(j)\n",
    "            self.colorV[v] = self.BLACK\n",
    "\n",
    "    def hasCycle(self):\n",
    "        self.colorV = [self.WHITE] * self.n\n",
    "        self.findFlag = False\n",
    "        unvisitV = self.colorV.count(self.WHITE)\n",
    "        while unvisitV and not self.findFlag:\n",
    "            v = self.colorV.index(self.WHITE)\n",
    "            self.DFS2(v)\n",
    "            unvisitV = self.colorV.count(self.WHITE)\n",
    "        return self.findFlag\n",
    "\n",
    "g = GraphList()\n",
    "g.readFile(\"graph5-17.txt\")\n",
    "g.print()\n",
    "not g.hasCycle()"
   ]
  },
  {
   "cell_type": "markdown",
   "id": "c60f0465",
   "metadata": {},
   "source": [
    "## 刷題43：檢查無向圖是否有環路"
   ]
  },
  {
   "cell_type": "code",
   "execution_count": 8,
   "id": "ab5ee7a6",
   "metadata": {},
   "outputs": [
    {
     "name": "stdout",
     "output_type": "stream",
     "text": [
      "[2, 3]\n",
      "[4]\n",
      "[0, 3]\n",
      "[0, 2]\n",
      "[1]\n",
      "\n"
     ]
    },
    {
     "data": {
      "text/plain": [
       "True"
      ]
     },
     "execution_count": 8,
     "metadata": {},
     "output_type": "execute_result"
    }
   ],
   "source": [
    "class GraphList:\n",
    "    WHITE, GREY, BLACK = range(3)\n",
    "    def read(self):\n",
    "        self.n, self.e = map(int, input(\"請輸入頂點數和邊數: \").split())\n",
    "        self.L = [[] for _ in range(self.n)]\n",
    "        for _ in range(self.e):\n",
    "            i, j = map(int, input(\"請輸入每個邊的起點和終點: \").split())\n",
    "            self.L[i].append(j)\n",
    "    \n",
    "    def readFile(self, fileName):\n",
    "        fp = open(fileName, \"r\")\n",
    "        self.n, self.e = map(int, fp.readline().split())\n",
    "        self.L = [[] for _ in range(self.n)]\n",
    "        for _ in range(self.e):\n",
    "            i, j = map(int, fp.readline().split())\n",
    "            self.L[i].append(j)\n",
    "            \n",
    "    def print(self):\n",
    "        for i in range(self.n):\n",
    "            print(self.L[i])\n",
    "        print()\n",
    "\n",
    "    def hasCycle(self):\n",
    "        self.colorV = [self.WHITE] * self.n\n",
    "        self.findFlag = False\n",
    "        self.visitE = []\n",
    "        unvisitV = self.colorV.count(self.WHITE)\n",
    "        while unvisitV and not self.findFlag:\n",
    "            v = self.colorV.index(self.WHITE)\n",
    "            self.DFS2(v)\n",
    "            unvisitV = self.colorV.count(self.WHITE)\n",
    "        return self.findFlag\n",
    "    \n",
    "    def DFS2(self, v):\n",
    "        if self.colorV[v] == self.WHITE:\n",
    "            self.colorV[v] = self.GREY\n",
    "            for u in self.L[v]:\n",
    "                if self.findFlag:\n",
    "                    return\n",
    "                if (u, v) not in self.visitE:\n",
    "                    if self.colorV[u] == self.GREY:\n",
    "                        self.findFlag = True\n",
    "                    else:\n",
    "                        self.visitE.append((v, u))\n",
    "                        self.DFS2(u)\n",
    "            self.colorV[v] = self.BLACK\n",
    "\n",
    "g = GraphList()\n",
    "g.readFile(\"graph5-18.txt\")\n",
    "g.print()\n",
    "g.hasCycle()\n"
   ]
  },
  {
   "cell_type": "markdown",
   "id": "5d315426",
   "metadata": {},
   "source": [
    "## 刷題44：計算地圖中最大的島"
   ]
  },
  {
   "cell_type": "code",
   "execution_count": 14,
   "id": "d4e0b6c1",
   "metadata": {},
   "outputs": [
    {
     "name": "stdout",
     "output_type": "stream",
     "text": [
      "1 1 0 0 0 0 0 0 0 0 \n",
      "1 0 0 0 0 0 0 0 0 1 \n",
      "0 0 0 1 0 0 1 1 0 0 \n",
      "0 0 1 1 0 0 0 1 0 0 \n",
      "0 0 1 1 0 0 0 0 0 0 \n",
      "0 0 1 0 0 0 0 0 1 0 \n",
      "0 0 0 0 0 0 1 0 0 0 \n",
      "0 0 0 0 0 0 1 0 0 0 \n",
      "\n"
     ]
    },
    {
     "data": {
      "text/plain": [
       "6"
      ]
     },
     "execution_count": 14,
     "metadata": {},
     "output_type": "execute_result"
    }
   ],
   "source": [
    "class MapClass:\n",
    "    def __init__(self):\n",
    "        self.fourDir = [[0, 1], [1, 0], [0, -1], [-1, 0]]\n",
    "    \n",
    "    def read(self):\n",
    "        self.m, self.n = map(int, input(\"請輸入有幾列和有幾欄：　\").split())\n",
    "        self.A = [[] for _ in range(self.m)]\n",
    "        for i in range(self.m):\n",
    "            self.A[i] = list(map(int, input(\"請輸入第{}列的資料\".format(i)).split()))\n",
    "        # print(self.A)\n",
    "\n",
    "    def readFile(self, fileName):\n",
    "        fp = open(fileName, \"r\")\n",
    "        self.m, self.n = map(int, fp.readline().split())\n",
    "        self.A = [[] for _ in range(self.m)]\n",
    "        for i in range(self.m):\n",
    "            self.A[i] = list(map(int, fp.readline().split()))\n",
    "\n",
    "    def print(self):\n",
    "        for i in range(self.m):\n",
    "            for j in range(self.n):\n",
    "                print(self.A[i][j], end = \" \")\n",
    "            print()\n",
    "        print()\n",
    "\n",
    "    def MaxArea(self):\n",
    "        maxCount = 0\n",
    "        for i in range(self.m):\n",
    "            for j in range(self.n):\n",
    "                if self.A[i][j] == 1:\n",
    "                    maxCount = max(maxCount, self.DFS(i, j))\n",
    "        return maxCount\n",
    "    \n",
    "    def DFS(self, i, j):\n",
    "        if not (0 <= i < self.m and 0 <= j < self.n and self.A[i][j] == 1):\n",
    "            return 0\n",
    "        self.A[i][j] = 2\n",
    "        localCount = 0\n",
    "        for x, y in self.fourDir:\n",
    "            localCount += self.DFS(i + x, j + y)\n",
    "        return localCount + 1\n",
    "\n",
    "g = MapClass()\n",
    "# g.read()\n",
    "g.readFile(\"Map44.txt\")\n",
    "g.print()\n",
    "g.MaxArea()"
   ]
  },
  {
   "cell_type": "markdown",
   "id": "b68effd4",
   "metadata": {},
   "source": [
    "# 5-2圖形上的貪婪演算法"
   ]
  },
  {
   "cell_type": "markdown",
   "id": "5bcaada3",
   "metadata": {},
   "source": [
    "## 刷題45：取得加權圖的最小花費展開樹MCST"
   ]
  },
  {
   "cell_type": "code",
   "execution_count": 17,
   "id": "4a5998c3",
   "metadata": {},
   "outputs": [
    {
     "name": "stdout",
     "output_type": "stream",
     "text": [
      "[(1, 2), (3, 8), (4, 10)]\n",
      "[(0, 2), (2, 3)]\n",
      "[(1, 3), (3, 5)]\n",
      "[(0, 8), (2, 5), (4, 9)]\n",
      "[(0, 10), (3, 9)]\n",
      "\n"
     ]
    },
    {
     "data": {
      "text/plain": [
       "19"
      ]
     },
     "execution_count": 17,
     "metadata": {},
     "output_type": "execute_result"
    }
   ],
   "source": [
    "class wtGraph:\n",
    "    def read(self):\n",
    "        self.n, self.e = map(int, input(\"請輸入多少個頂點和邊：　\").split())\n",
    "        self.L = [[] for _ in range(self.n)]\n",
    "        for _ in range(self.e):\n",
    "            i, j, w = map(int, input(\"請輸入兩個頂點和權重：　\").split())\n",
    "            self.L[i].append((j ,w)) # append裡面也要有括號\n",
    "\n",
    "    def readFile(self, fileName):\n",
    "        fp = open(fileName, \"r\")\n",
    "        self.n, self.e = map(int, fp.readline().split())\n",
    "        self.L = [[] for _ in range(self.n)]\n",
    "        for _ in range(self.e):\n",
    "            i, j, w = map(int, fp.readline().split())\n",
    "            self.L[i].append((j, w)) # append裡面也要有括號\n",
    "\n",
    "    def print(self):\n",
    "        for i in range(self.n):\n",
    "            print(self.L[i])\n",
    "        print()\n",
    "\n",
    "    def MCST(self):\n",
    "        self.T = []\n",
    "        self.candidate = []\n",
    "        self.fillCandi()\n",
    "        sum = 0\n",
    "        while len(self.T) < self.n - 1:\n",
    "            edge = self.candidate.pop(0)\n",
    "            if not self.testCycle(edge):\n",
    "                self.T.append(edge)\n",
    "                sum += edge[0]\n",
    "        return sum\n",
    "    \n",
    "    def fillCandi(self):\n",
    "        for u in range(len(self.L)):\n",
    "            for e in self.L[u]:\n",
    "                v, w = e[0], e[1]\n",
    "                if (w, v, u) not in self.candidate:\n",
    "                    self.candidate.append((w, u, v))\n",
    "        return self.candidate.sort()\n",
    "    \n",
    "    def testCycle(self, edge):\n",
    "        findu = findv = False\n",
    "        for e in self.T:\n",
    "            if e[1] == edge[1] or e[2] == edge[1]:\n",
    "                findu = True\n",
    "            if e[1] == edge[2] or e[2] == edge[2]:\n",
    "                findv = True\n",
    "        return findu and findv\n",
    "\n",
    "g = wtGraph()\n",
    "g.readFile(\"wtGraphList.txt\")\n",
    "g.print()\n",
    "g.MCST()"
   ]
  },
  {
   "cell_type": "markdown",
   "id": "f259ecbe",
   "metadata": {},
   "source": [
    "## 刷題46：取得加權圖的最短路徑"
   ]
  },
  {
   "cell_type": "code",
   "execution_count": 9,
   "id": "fccc4c10",
   "metadata": {},
   "outputs": [
    {
     "name": "stdout",
     "output_type": "stream",
     "text": [
      "0 1 3 5 6 "
     ]
    },
    {
     "data": {
      "text/plain": [
       "9"
      ]
     },
     "execution_count": 9,
     "metadata": {},
     "output_type": "execute_result"
    }
   ],
   "source": [
    "from WtGraphClass import *\n",
    "from queue import PriorityQueue\n",
    "from stackClass import *\n",
    "\n",
    "g = WtGraph()\n",
    "g.readFile(\"wtGraph5-23.txt\")\n",
    "\n",
    "def Dijkstra(g, vs, vd):\n",
    "    dist = [float(\"inf\")] * g.n\n",
    "    dist[vs] = 0\n",
    "    prev = [None] * g.n\n",
    "    decided = []\n",
    "    pd = PriorityQueue()\n",
    "    pd.put((0, vs))\n",
    "    while not pd.empty():\n",
    "        d, vx = pd.get()\n",
    "        decided.append(vx)\n",
    "        if vx == vd:\n",
    "            break\n",
    "        for i in range(len(g.L[vx])):\n",
    "            vt = g.L[vx][i][0]\n",
    "            w = g.L[vx][i][1]\n",
    "            if vt not in decided:\n",
    "                if dist[vx] + w < dist[vt]:\n",
    "                    dist[vt] = dist[vx] + w\n",
    "                    pd.put((dist[vt], vt))\n",
    "                    prev[vt] = vx\n",
    "    tracePath(prev, vs, vd)\n",
    "    return dist[vd]\n",
    "\n",
    "def tracePath(prev, src, dest):\n",
    "    path = Stack()\n",
    "    path.push(dest)\n",
    "    v = prev[dest]\n",
    "    path.push(v)\n",
    "    while v:\n",
    "        v = prev[v]\n",
    "        path.push(v)\n",
    "    while not path.isEmpty():\n",
    "        print(path.pop(), end = \" \")\n",
    "\n",
    "Dijkstra(g, 0, 6)\n",
    "# g.print()"
   ]
  },
  {
   "cell_type": "markdown",
   "id": "45c09d35",
   "metadata": {},
   "source": [
    "# 5-3工作網路（Activity Network）"
   ]
  },
  {
   "cell_type": "markdown",
   "id": "b834dc65",
   "metadata": {},
   "source": [
    "## 範例5.6 取得無環有向圖的拓樸順序"
   ]
  },
  {
   "cell_type": "code",
   "execution_count": 1,
   "id": "857f36bb",
   "metadata": {},
   "outputs": [
    {
     "name": "stdout",
     "output_type": "stream",
     "text": [
      "0 1 2 3 4 5 6 7 8 "
     ]
    }
   ],
   "source": [
    "from queueClass import *\n",
    "from graphList import *\n",
    "\n",
    "g = GraphList()\n",
    "g.readFile(\"graph5-26.txt\")\n",
    "\n",
    "def TopSort(g):\n",
    "    candidate = Queue()\n",
    "    indegree = [0] * g.n\n",
    "    visited = [False] * g.n\n",
    "    for u in range(len(g.L)):\n",
    "        for v in g.L[u]:\n",
    "            indegree[v] += 1\n",
    "    \n",
    "    for u in range(len(indegree)):\n",
    "        if indegree[u] == 0:\n",
    "            candidate.enQueue(u)\n",
    "\n",
    "    while not all(visited):\n",
    "        if candidate.isEmpty():\n",
    "            return False\n",
    "        u = candidate.deQueue()\n",
    "        print(u, end = \" \")\n",
    "        visited[u] = True\n",
    "        for v in g.L[u]:\n",
    "            indegree[v] -= 1\n",
    "            if indegree[v] == 0:\n",
    "                candidate.enQueue(v)\n",
    "    return True\n",
    "\n",
    "if not TopSort(g):\n",
    "    print(\"Cycle found!\")"
   ]
  }
 ],
 "metadata": {
  "kernelspec": {
   "display_name": "Python 3 (ipykernel)",
   "language": "python",
   "name": "python3"
  },
  "language_info": {
   "codemirror_mode": {
    "name": "ipython",
    "version": 3
   },
   "file_extension": ".py",
   "mimetype": "text/x-python",
   "name": "python",
   "nbconvert_exporter": "python",
   "pygments_lexer": "ipython3",
   "version": "3.9.7"
  }
 },
 "nbformat": 4,
 "nbformat_minor": 5
}
