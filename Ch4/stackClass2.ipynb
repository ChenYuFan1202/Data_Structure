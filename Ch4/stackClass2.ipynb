{
 "cells": [
  {
   "cell_type": "code",
   "execution_count": 2,
   "id": "aaae570f",
   "metadata": {},
   "outputs": [
    {
     "name": "stdout",
     "output_type": "stream",
     "text": [
      "True\n",
      "5\n",
      "4 \n"
     ]
    }
   ],
   "source": [
    "maxSize = 10000\n",
    "class Stack:\n",
    "    def __init__(self, maxsize = maxSize):\n",
    "        self._maxsize = maxSize\n",
    "        self._item = [0] * self._maxsize\n",
    "        self._top = -1\n",
    "    def isEmpty(self):\n",
    "        if self._top < 0:#== -1?\n",
    "            return True\n",
    "        else:\n",
    "            return False\n",
    "    def isFull(self):\n",
    "        if self._top >= self._maxsize - 1:#len(self._item)不行，是因為全部都用0來代替了\n",
    "            return True\n",
    "        else:\n",
    "            return False\n",
    "    def push(self, value):\n",
    "        if not self.isFull():\n",
    "            self._top += 1\n",
    "            self._item[self._top] = value\n",
    "    def pop(self):\n",
    "        if not self.isEmpty():\n",
    "            popped = self._item[self._top]\n",
    "            self._top -= 1\n",
    "            return popped\n",
    "        return None\n",
    "    def peek(self):\n",
    "        if not self.isEmpty():\n",
    "            return self._item[self._top]\n",
    "        return None\n",
    "    def print(self):#bottom up\n",
    "        for i in range(self._top + 1):\n",
    "            print(self._item[i], end = \" \")\n",
    "        print()\n",
    "        \n",
    "def main():\n",
    "    a = Stack()\n",
    "    print(a.isEmpty())\n",
    "    a.push(4)\n",
    "    a.push(5)\n",
    "    print(a.pop())\n",
    "    a.print()\n",
    "    \n",
    "if __name__ == \"__main__\":\n",
    "    main()"
   ]
  }
 ],
 "metadata": {
  "kernelspec": {
   "display_name": "Python 3 (ipykernel)",
   "language": "python",
   "name": "python3"
  },
  "language_info": {
   "codemirror_mode": {
    "name": "ipython",
    "version": 3
   },
   "file_extension": ".py",
   "mimetype": "text/x-python",
   "name": "python",
   "nbconvert_exporter": "python",
   "pygments_lexer": "ipython3",
   "version": "3.9.7"
  }
 },
 "nbformat": 4,
 "nbformat_minor": 5
}
