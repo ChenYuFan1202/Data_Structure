{
 "cells": [
  {
   "cell_type": "code",
   "execution_count": 1,
   "id": "ea7cc671",
   "metadata": {},
   "outputs": [
    {
     "name": "stdout",
     "output_type": "stream",
     "text": [
      "True\n",
      "5\n",
      "6\n",
      "top to bottom: 6 4 \n"
     ]
    }
   ],
   "source": [
    "class Stack:\n",
    "    def __init__(self):\n",
    "        self.item = list()\n",
    "    def isEmpty(self):\n",
    "        return len(self.item) == 0\n",
    "    def isFull(self):\n",
    "        return False\n",
    "    def push(self, value):\n",
    "        self.item.append(value)\n",
    "    def pop(self):\n",
    "        if not self.isEmpty():\n",
    "            return self.item.pop()\n",
    "        else:\n",
    "            return None\n",
    "    def peek(self):\n",
    "        if not self.isEmpty():\n",
    "            return self.item[-1]\n",
    "    def print(self):\n",
    "        print(\"top to bottom: \", end = \"\")\n",
    "        for i in range(1 , len(self.item) + 1):\n",
    "            print(self.item[-i], end = \" \")\n",
    "        print()\n",
    "        \n",
    "def main():\n",
    "    a = Stack()\n",
    "    print(a.isEmpty())\n",
    "    a.push(4)\n",
    "    a.push(5)\n",
    "    print(a.pop())\n",
    "    a.push(6)\n",
    "    print(a.peek())\n",
    "    a.print()\n",
    "        \n",
    "if __name__ == \"__main__\":\n",
    "    main()"
   ]
  }
 ],
 "metadata": {
  "kernelspec": {
   "display_name": "Python 3 (ipykernel)",
   "language": "python",
   "name": "python3"
  },
  "language_info": {
   "codemirror_mode": {
    "name": "ipython",
    "version": 3
   },
   "file_extension": ".py",
   "mimetype": "text/x-python",
   "name": "python",
   "nbconvert_exporter": "python",
   "pygments_lexer": "ipython3",
   "version": "3.9.7"
  }
 },
 "nbformat": 4,
 "nbformat_minor": 5
}
