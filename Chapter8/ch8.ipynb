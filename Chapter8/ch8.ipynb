{
 "cells": [
  {
   "cell_type": "markdown",
   "metadata": {},
   "source": [
    "# 8-1 在循序結構上的搜尋"
   ]
  },
  {
   "cell_type": "markdown",
   "metadata": {},
   "source": [
    "## 範例8.1 設計循序搜尋法"
   ]
  },
  {
   "cell_type": "code",
   "execution_count": 2,
   "metadata": {},
   "outputs": [
    {
     "name": "stdout",
     "output_type": "stream",
     "text": [
      "2\n",
      "7\n",
      "-1\n"
     ]
    }
   ],
   "source": [
    "def seqSearch(a, key):\n",
    "    for i in range(len(a)):\n",
    "        if a[i] == key:\n",
    "            return i\n",
    "    return -1\n",
    "\n",
    "nums = [39, 81, 6, 78, 69, 41, 52, 33, 55, 77]\n",
    "print(seqSearch(nums, 6))\n",
    "print(seqSearch(nums, 33))\n",
    "print(seqSearch(nums, 35))"
   ]
  },
  {
   "cell_type": "markdown",
   "metadata": {},
   "source": [
    "## 刷題67：二分搜尋法"
   ]
  },
  {
   "cell_type": "code",
   "execution_count": 4,
   "metadata": {},
   "outputs": [
    {
     "name": "stdout",
     "output_type": "stream",
     "text": [
      "0\n",
      "8\n",
      "-1\n"
     ]
    }
   ],
   "source": [
    "def binSearch(a, key):\n",
    "    left = 0\n",
    "    r = len(a) - 1\n",
    "    while left <= r:\n",
    "        m = (left + r) // 2\n",
    "        if a[m] == key:\n",
    "            return m\n",
    "        elif a[m] < key:\n",
    "            left = m + 1\n",
    "        else:\n",
    "            r = m - 1\n",
    "    return -1\n",
    "\n",
    "nums = [6, 33, 39, 41, 52, 55, 69, 77, 78, 81]\n",
    "print(binSearch(nums, 6))\n",
    "print(binSearch(nums, 78))\n",
    "print(binSearch(nums, 35))"
   ]
  },
  {
   "cell_type": "markdown",
   "metadata": {},
   "source": [
    "## 刷題68：搜尋儲存位置或可插入點"
   ]
  },
  {
   "cell_type": "code",
   "execution_count": 5,
   "metadata": {},
   "outputs": [
    {
     "name": "stdout",
     "output_type": "stream",
     "text": [
      "0\n",
      "1\n",
      "4\n",
      "10\n"
     ]
    }
   ],
   "source": [
    "def binSearch2(a, key):\n",
    "    left = 0\n",
    "    r = len(a) - 1\n",
    "    while left <= r:\n",
    "        m = (left + r) // 2\n",
    "        if a[m] == key:\n",
    "            return m\n",
    "        elif a[m] < key:\n",
    "            left = m + 1\n",
    "        else:\n",
    "            r = m - 1\n",
    "    return left\n",
    "\n",
    "nums = [6, 33, 39, 41, 52, 55, 69, 77, 78, 81]\n",
    "print(binSearch2(nums, 5))\n",
    "print(binSearch2(nums, 33))\n",
    "print(binSearch2(nums, 42))\n",
    "print(binSearch2(nums, 90))"
   ]
  },
  {
   "cell_type": "markdown",
   "metadata": {},
   "source": [
    "## 刷題69：找出相加等於k的兩數（二分搜尋法）"
   ]
  },
  {
   "cell_type": "code",
   "execution_count": 7,
   "metadata": {},
   "outputs": [
    {
     "data": {
      "text/plain": [
       "[-3, 2, 7, 11, 15, 17]"
      ]
     },
     "execution_count": 7,
     "metadata": {},
     "output_type": "execute_result"
    }
   ],
   "source": [
    "nums = [2, -3, 7, 11, 15, 17]\n",
    "nums.sort()\n",
    "nums"
   ]
  },
  {
   "cell_type": "code",
   "execution_count": 16,
   "metadata": {},
   "outputs": [
    {
     "name": "stdout",
     "output_type": "stream",
     "text": [
      "-3 15\n"
     ]
    }
   ],
   "source": [
    "def binSearch(a, key):\n",
    "    left = 0\n",
    "    r = len(a) - 1\n",
    "    while left <= r:\n",
    "        m = (left + r) // 2\n",
    "        if key == a[m]:\n",
    "            return m\n",
    "        elif key > a[m]:\n",
    "            left = m + 1\n",
    "        else:\n",
    "            r = m - 1\n",
    "    return -1\n",
    "\n",
    "def twoSum(nums, k):\n",
    "    nums.sort() # 其實沒有排序也可以，但輸入4等重覆的數字會報出同樣的位置\n",
    "    for num in nums:\n",
    "        if binSearch(nums, k - num) != -1:\n",
    "            return num, k - num\n",
    "\n",
    "nums = [2, -3, 7, 11, 15, 17]\n",
    "k = int(input(\"請輸入一個數值: \"))\n",
    "i, j = twoSum(nums, k)\n",
    "print(i, j)"
   ]
  },
  {
   "cell_type": "markdown",
   "metadata": {},
   "source": [
    "## 延伸刷題：相加等於k的答案不存在的處理方式"
   ]
  },
  {
   "cell_type": "code",
   "execution_count": 13,
   "metadata": {},
   "outputs": [
    {
     "name": "stdout",
     "output_type": "stream",
     "text": [
      "None None\n"
     ]
    }
   ],
   "source": [
    "def binSearch(a, key):\n",
    "    left = 0\n",
    "    r = len(a) - 1\n",
    "    while left <= r:\n",
    "        m = (left + r) // 2\n",
    "        if key == a[m]:\n",
    "            return m\n",
    "        elif key > a[m]:\n",
    "            left = m + 1\n",
    "        else:\n",
    "            r = m - 1\n",
    "    return -1\n",
    "\n",
    "def twoSum(nums, k):\n",
    "    nums.sort()\n",
    "    for num in nums:\n",
    "        if binSearch(nums, k - num) != -1:\n",
    "            return num, k - num\n",
    "    return None, None\n",
    "\n",
    "nums = [2, -3, 7, 11, 15, 17]\n",
    "k = int(input(\"請輸入一個數值: \"))\n",
    "i, j = twoSum(nums, k)\n",
    "print(i, j)"
   ]
  },
  {
   "cell_type": "markdown",
   "metadata": {},
   "source": [
    "## 刷題70：找出相加等於k的兩數之位置"
   ]
  },
  {
   "cell_type": "code",
   "execution_count": 14,
   "metadata": {},
   "outputs": [
    {
     "name": "stdout",
     "output_type": "stream",
     "text": [
      "1 2\n"
     ]
    }
   ],
   "source": [
    "def binSearch(a, key):\n",
    "    left = 0\n",
    "    r = len(a) - 1\n",
    "    while left <= r:\n",
    "        m = (left + r) // 2\n",
    "        if key == a[m]:\n",
    "            return m\n",
    "        elif key > a[m]:\n",
    "            left = m + 1\n",
    "        else:\n",
    "            r = m - 1\n",
    "    return -1\n",
    "\n",
    "def twoSum2(nums, k):\n",
    "    valuePos = []\n",
    "    for i in range(len(nums)):\n",
    "        valuePos.append([nums[i], i])\n",
    "    valuePos.sort(key = lambda x: x[0]) # 有沒有key都一樣\n",
    "    # print(valuePos)\n",
    "    nums.sort() # 這也要排序是因為兩個串列才會位置一致\n",
    "    for i in range(len(nums)):\n",
    "        j = binSearch(nums, k - nums[i])\n",
    "        if j != -1: # j也是位置（新位置）\n",
    "            return valuePos[i][1], valuePos[j][1] # 透過新位置去找舊位置\n",
    "    \n",
    "\n",
    "nums = [2, -3, 7, 11, 15, 17]\n",
    "k = int(input(\"請輸入一個數值: \"))\n",
    "# twoSum2(nums, k)\n",
    "i, j = twoSum2(nums, k)\n",
    "print(i, j)"
   ]
  },
  {
   "cell_type": "markdown",
   "metadata": {},
   "source": [
    "## 延伸刷題：使用字典來解Two Sum問題"
   ]
  },
  {
   "cell_type": "code",
   "execution_count": 50,
   "metadata": {},
   "outputs": [
    {
     "name": "stdout",
     "output_type": "stream",
     "text": [
      "1 2\n"
     ]
    }
   ],
   "source": [
    "# def binSearch(a, key):\n",
    "#     left = 0\n",
    "#     r = len(a) - 1\n",
    "#     while left <= r:\n",
    "#         m = (left + r) // 2\n",
    "#         if key == a[m]:\n",
    "#             return m\n",
    "#         elif key > a[m]:\n",
    "#             left = m + 1\n",
    "#         else:\n",
    "#             r = m - 1\n",
    "#     return -1\n",
    "\n",
    "def twoSum3(nums, k):\n",
    "    pos = {}\n",
    "    for i in range(len(nums)):\n",
    "        pos[nums[i]] = i\n",
    "    # print(pos)\n",
    "    nums.sort()\n",
    "    for num in nums:\n",
    "        if k - num in pos.keys(): # 和沒有.keys()的意思一樣\n",
    "            return pos[num], pos[k - num]\n",
    "\n",
    "nums = [2, -3, 7, 11, 15, 17]\n",
    "k = int(input(\"請輸入一個數值: \"))\n",
    "i, j = twoSum3(nums, k)\n",
    "print(i, j) # 如果輸入4，會有重複的問題，除非先排序"
   ]
  },
  {
   "cell_type": "markdown",
   "metadata": {},
   "source": [
    "## 範例8.2 設計內插搜尋法"
   ]
  },
  {
   "cell_type": "code",
   "execution_count": 64,
   "metadata": {},
   "outputs": [
    {
     "data": {
      "text/plain": [
       "(4, -3)"
      ]
     },
     "execution_count": 64,
     "metadata": {},
     "output_type": "execute_result"
    }
   ],
   "source": [
    "int(4.5), int(-3.5)"
   ]
  },
  {
   "cell_type": "code",
   "execution_count": 37,
   "metadata": {},
   "outputs": [
    {
     "name": "stdout",
     "output_type": "stream",
     "text": [
      "0\n",
      "-1\n",
      "-1\n"
     ]
    }
   ],
   "source": [
    "def interSearch(a, key):\n",
    "    left, r = 0, len(a) - 1\n",
    "    while left <= r:\n",
    "        if a[r] == a[left]:\n",
    "            x = 0\n",
    "        else:\n",
    "            x = min(1, (key - a[left]) / (a[r] - a[left]))\n",
    "        m = int(left + x * (r - left))\n",
    "        # print(x, m)\n",
    "        if a[m] == key:\n",
    "            return m\n",
    "        elif a[m] < key:\n",
    "            left = m + 1\n",
    "        else:\n",
    "            r = m - 1\n",
    "    return -1\n",
    "\n",
    "nums = [6, 33, 39, 41, 52, 55, 69, 77, 78, 81]\n",
    "print(interSearch(nums, 6))\n",
    "print(interSearch(nums, -5))\n",
    "print(interSearch(nums, 35))"
   ]
  },
  {
   "cell_type": "markdown",
   "metadata": {},
   "source": [
    "## 刷題71：在3個陣列出現至少2次的數"
   ]
  },
  {
   "cell_type": "code",
   "execution_count": 40,
   "metadata": {},
   "outputs": [
    {
     "name": "stdout",
     "output_type": "stream",
     "text": [
      "[20, 31]\n"
     ]
    }
   ],
   "source": [
    "def twoThree(nums1, nums2, nums3):\n",
    "    count = {}\n",
    "    setAll = set(nums1) | set(nums2) | set(nums3)\n",
    "    # return setAll\n",
    "    for num in setAll:\n",
    "        if num in nums1:\n",
    "            count[num] = count.get(num, 0) + 1\n",
    "        if num in nums2:\n",
    "            count[num] = count.get(num, 0) + 1\n",
    "        if num in nums3:\n",
    "            count[num] = count.get(num, 0) + 1\n",
    "    result = []\n",
    "    for num in count:\n",
    "        if count[num] >= 2:\n",
    "            result.append(num)\n",
    "    return result\n",
    "\n",
    "a1 = [1, 1, 31, 20]\n",
    "a2 = [20, 31, 3]\n",
    "a3 = [31]\n",
    "print(twoThree(a1, a2, a3))\n",
    "#輸出：[20, 31]"
   ]
  },
  {
   "cell_type": "markdown",
   "metadata": {},
   "source": [
    "## 刷題72：找出幸運數"
   ]
  },
  {
   "cell_type": "code",
   "execution_count": 58,
   "metadata": {},
   "outputs": [
    {
     "name": "stdout",
     "output_type": "stream",
     "text": [
      "3\n"
     ]
    }
   ],
   "source": [
    "def luckyNumber(nums):\n",
    "    count = {}\n",
    "    for num in nums:\n",
    "        count[num] = count.get(num, 0) + 1\n",
    "    maxLucky = -1\n",
    "    for num in count:\n",
    "        if count[num] == num:\n",
    "            maxLucky = max(maxLucky, num)\n",
    "    return maxLucky\n",
    "\n",
    "a = [4, 5, 1, 2, 2, 3, 3, 3]\n",
    "print(luckyNumber(a))\n",
    "#輸出 3 "
   ]
  },
  {
   "cell_type": "markdown",
   "metadata": {},
   "source": [
    "# 8-2 在索引結構上的搜尋"
   ]
  },
  {
   "cell_type": "markdown",
   "metadata": {},
   "source": [
    "# 8-3 雜湊表"
   ]
  },
  {
   "cell_type": "code",
   "execution_count": 59,
   "metadata": {},
   "outputs": [
    {
     "name": "stdout",
     "output_type": "stream",
     "text": [
      "101\n",
      "-3422848804281318962\n",
      "46116860184272906\n",
      "-46116860184272906\n"
     ]
    }
   ],
   "source": [
    "print(hash(101))\n",
    "print(hash('hash function'))\n",
    "print(hash(10.02))\n",
    "print(hash(-10.02))"
   ]
  },
  {
   "cell_type": "markdown",
   "metadata": {},
   "source": [
    "## 範例8.3 設計雜湊表類別"
   ]
  },
  {
   "cell_type": "code",
   "execution_count": 66,
   "metadata": {},
   "outputs": [
    {
     "data": {
      "text/plain": [
       "100"
      ]
     },
     "execution_count": 66,
     "metadata": {},
     "output_type": "execute_result"
    }
   ],
   "source": [
    "class MapEntry:\n",
    "    def __init__(self, key, value):\n",
    "        self.key = key\n",
    "        self.value = value\n",
    "class HashTable:\n",
    "    def __init__(self, M = 101):\n",
    "        self.m = M\n",
    "        self.table = [None] * self.m\n",
    "    def add(self, key, value):\n",
    "        entry = MapEntry(key, value)\n",
    "        slot = abs(hash(key)) % self.m\n",
    "        while self.table[slot]:\n",
    "            slot = (slot + 1) % self.m\n",
    "        self.table[slot] = entry\n",
    "    def get(self, key):\n",
    "        slot = abs(hash(key)) % self.m\n",
    "        while self.table[slot] and self.table[slot].key != key:\n",
    "            slot = (slot + 1) % self.m\n",
    "        if not self.table[slot]:\n",
    "            return None\n",
    "        return self.table[slot].value\n",
    "    \n",
    "h = HashTable()\n",
    "h.add(\"android\", 100)\n",
    "h.add(\"ios\", 101)\n",
    "h.get(\"android\")\n",
    "# h.get(\"ios\")"
   ]
  },
  {
   "cell_type": "markdown",
   "metadata": {},
   "source": [
    "## 刷題73：找出相加等於k的兩數－雜湊版"
   ]
  },
  {
   "cell_type": "code",
   "execution_count": 73,
   "metadata": {},
   "outputs": [
    {
     "data": {
      "text/plain": [
       "(1, 3589164201368197367)"
      ]
     },
     "execution_count": 73,
     "metadata": {},
     "output_type": "execute_result"
    }
   ],
   "source": [
    "hash(1), hash(\"1\")"
   ]
  },
  {
   "cell_type": "code",
   "execution_count": 68,
   "metadata": {},
   "outputs": [
    {
     "name": "stdout",
     "output_type": "stream",
     "text": [
      "1 4\n"
     ]
    }
   ],
   "source": [
    "from HashTableClass import *\n",
    "\n",
    "def twoSum4(nums, k):\n",
    "    h = HashTable()\n",
    "    for i in range(len(nums)):\n",
    "        h.add(nums[i], i)\n",
    "    for num in nums:\n",
    "        value = h.get(k - num)\n",
    "        if value != None:\n",
    "            return h.get(num), value\n",
    "\n",
    "nums = [2, -3, 7, 11, 15, 17]\n",
    "k = int(input(\"請輸入一個值: \"))\n",
    "i, j = twoSum4(nums, k)\n",
    "print(i, j)"
   ]
  },
  {
   "cell_type": "markdown",
   "metadata": {},
   "source": [
    "## 刷題74：找出最長不重覆子字串"
   ]
  },
  {
   "cell_type": "code",
   "execution_count": 70,
   "metadata": {},
   "outputs": [
    {
     "name": "stdout",
     "output_type": "stream",
     "text": [
      "5\n"
     ]
    }
   ],
   "source": [
    "def longestSub(chars):\n",
    "    pos = {}\n",
    "    maxLen, curLen, curStart = 0, 0, 0\n",
    "    for i in range(len(chars)):\n",
    "        ch = chars[i]\n",
    "        if ch in pos and pos[ch] >= curStart:\n",
    "            curStart = pos[ch] + 1\n",
    "            curLen = i - curStart + 1\n",
    "        else:\n",
    "            curLen += 1\n",
    "            maxLen = max(maxLen, curLen) # 放裡面或外面都一樣\n",
    "        pos[ch] = i # 新增或更新字母位置\n",
    "    return maxLen\n",
    "\n",
    "strIn = list(input(\"請輸入字串: \")) # 輸入 fsfetwenwe\n",
    "print(longestSub(strIn))"
   ]
  }
 ],
 "metadata": {
  "kernelspec": {
   "display_name": "Python 3",
   "language": "python",
   "name": "python3"
  },
  "language_info": {
   "codemirror_mode": {
    "name": "ipython",
    "version": 3
   },
   "file_extension": ".py",
   "mimetype": "text/x-python",
   "name": "python",
   "nbconvert_exporter": "python",
   "pygments_lexer": "ipython3",
   "version": "3.9.7"
  }
 },
 "nbformat": 4,
 "nbformat_minor": 2
}
