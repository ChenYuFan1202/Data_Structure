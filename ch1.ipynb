{
 "cells": [
  {
   "cell_type": "code",
   "execution_count": 1,
   "id": "73db3e27",
   "metadata": {},
   "outputs": [
    {
     "data": {
      "text/plain": [
       "1024"
      ]
     },
     "execution_count": 1,
     "metadata": {},
     "output_type": "execute_result"
    }
   ],
   "source": [
    "def pow(x,y):\n",
    "    p = 1\n",
    "    for _ in range(1,y + 1):\n",
    "        p *= x\n",
    "    return p    \n",
    "        \n",
    "pow(2,10)"
   ]
  },
  {
   "cell_type": "markdown",
   "id": "4dfe79c0",
   "metadata": {},
   "source": [
    "## 範例1.1單層for迴圈的設計-數列累加"
   ]
  },
  {
   "cell_type": "code",
   "execution_count": 1,
   "id": "29f6a819",
   "metadata": {},
   "outputs": [
    {
     "name": "stdout",
     "output_type": "stream",
     "text": [
      "輸入整數n: 5\n",
      "15\n"
     ]
    }
   ],
   "source": [
    "n = int(input(\"輸入整數n: \"))\n",
    "total = 0\n",
    "for i in range(1, n + 1):\n",
    "    total += i\n",
    "print(total)"
   ]
  },
  {
   "cell_type": "markdown",
   "id": "bc77d0ad",
   "metadata": {},
   "source": [
    "## 範例1.2單層for迴圈的設計-計算級數"
   ]
  },
  {
   "cell_type": "code",
   "execution_count": 4,
   "id": "f928e63e",
   "metadata": {},
   "outputs": [
    {
     "name": "stdout",
     "output_type": "stream",
     "text": [
      "2.9411699999999996\n"
     ]
    }
   ],
   "source": [
    "x = 1.4\n",
    "total = 0\n",
    "for i in range(6):\n",
    "    total += (x ** i) / (2 ** i)\n",
    "print(total)"
   ]
  },
  {
   "cell_type": "code",
   "execution_count": 5,
   "id": "24b03e1e",
   "metadata": {},
   "outputs": [
    {
     "name": "stdout",
     "output_type": "stream",
     "text": [
      "2.9411699999999996\n"
     ]
    }
   ],
   "source": [
    "sum = 0\n",
    "termi = 1\n",
    "x = 1.4\n",
    "for i in range(0, 6): # i 的範圍是從 0 到 5，i沒有用途可以用_，避免分散注意力\n",
    "  sum += termi\n",
    "  termi = termi * x/2\n",
    "print(sum)"
   ]
  },
  {
   "cell_type": "markdown",
   "id": "044784ce",
   "metadata": {},
   "source": [
    "## 刷題1:找出數字0連續出現最多的次數"
   ]
  },
  {
   "cell_type": "code",
   "execution_count": 2,
   "id": "0507a3d9",
   "metadata": {},
   "outputs": [
    {
     "name": "stdout",
     "output_type": "stream",
     "text": [
      "輸入一整數n: 008780056\n",
      "2\n"
     ]
    }
   ],
   "source": [
    "n = int(input(\"輸入一整數n: \"))\n",
    "count = 0\n",
    "max_count = 0\n",
    "while n > 0:\n",
    "    d = n % 10\n",
    "    n = n // 10\n",
    "    if d == 0:\n",
    "        count += 1\n",
    "        max_count = max(count,max_count)\n",
    "    else:\n",
    "        count = 0\n",
    "        \n",
    "print(max_count)"
   ]
  },
  {
   "cell_type": "code",
   "execution_count": 10,
   "id": "ec886716",
   "metadata": {},
   "outputs": [
    {
     "name": "stdout",
     "output_type": "stream",
     "text": [
      "20005\n",
      "3\n"
     ]
    }
   ],
   "source": [
    "def\tcountZero(n):\n",
    "  count, max_count = 0, 0\t\t# 初設為0\n",
    "  while n > 0:\n",
    "    d = n % 10\t\t\t\t# 取得個位數字\n",
    "    if d == 0:\t\t\t\t\t# 個位數字為0\n",
    "      count += 1\t\t\t\t# 計數器加1\n",
    "      max_count = max(max_count, count)\t# max_count紀錄目前最大\n",
    "    else:\n",
    "      count = 0\t\t\t\t# 個位數字不為0則計數器歸零\n",
    "    n = n // 10\t\t\t\t# 去除1位數字\n",
    "  return max_count\t\t\t#max_count是答案\n",
    "n = int(input())\n",
    "print(countZero(n))\t"
   ]
  },
  {
   "cell_type": "code",
   "execution_count": 8,
   "id": "960c43c2",
   "metadata": {},
   "outputs": [
    {
     "name": "stdout",
     "output_type": "stream",
     "text": [
      "輸入一整數n: 91\n",
      "0\n"
     ]
    }
   ],
   "source": [
    "from math import log,floor\n",
    "def count_zero(n):\n",
    "    count,max_count = 0,0\n",
    "    digit = floor(log(n,10)) + 1\n",
    "    \n",
    "    for _ in range(digit):\n",
    "        high = n // (10 ** (digit - 1)) \n",
    "        if high == 0:\n",
    "            count += 1\n",
    "            max_count = max(count,max_count)\n",
    "        else:\n",
    "            count = 0\n",
    "        n = n % (10 ** (digit - 1))\n",
    "        digit -= 1\n",
    "    return max_count\n",
    "\n",
    "n = int(input(\"輸入一整數n: \"))\n",
    "print(count_zero(n))"
   ]
  },
  {
   "cell_type": "markdown",
   "id": "9531288e",
   "metadata": {},
   "source": [
    "## 刷題2:判斷是否為回文數字"
   ]
  },
  {
   "cell_type": "code",
   "execution_count": 29,
   "id": "c901c7c8",
   "metadata": {},
   "outputs": [
    {
     "name": "stdout",
     "output_type": "stream",
     "text": [
      "輸入一個整數n: 1\n",
      "True\n"
     ]
    }
   ],
   "source": [
    "from math import log,floor\n",
    "\n",
    "\n",
    "\n",
    "def check(n,d,t):\n",
    "    for _ in range(t):\n",
    "        high = n // (10 ** (d - 1))\n",
    "        low = n % 10\n",
    "        #print(high,low)\n",
    "        if high != low:\n",
    "            return False\n",
    "        n = n % (10 ** (d - 1))\n",
    "        n = n // 10\n",
    "        d -= 2\n",
    "    return True\n",
    "\n",
    "n = int(input(\"輸入一個整數n: \"))\n",
    "digits = floor(log(n,10)) + 1\n",
    "times = digits // 2\n",
    "print(check(n,digits,times))"
   ]
  },
  {
   "cell_type": "code",
   "execution_count": 11,
   "id": "2f273bb6",
   "metadata": {},
   "outputs": [
    {
     "name": "stdout",
     "output_type": "stream",
     "text": [
      "11\n",
      "True\n"
     ]
    }
   ],
   "source": [
    "from math import floor, log\t\t\t\t\t#要使用數學函式floor, log\n",
    "def\tpalindrome(n):\n",
    "    digits = floor(log(n,10))+1\t\t#計算n的總位數\n",
    "    d = digits // 2\t\t\t\t\t\t#計算迴圈重複次數\n",
    "    for _ in range(d):\n",
    "        low = n % 10\t\t\t\t\t\t#取得最低位數字\n",
    "        high = n // 10**(digits-1) \t#取得最高位數字\n",
    "        if low != high:\n",
    "            return False\n",
    "        n = n % 10**(digits-1)\t\t#去掉最高位數字\n",
    "        n = n // 10\t\t\t\t\t\t#去掉最低位數字\n",
    "        digits -= 2\t\t\t\t\t\t#總位數少2\n",
    "    return True\n",
    "\n",
    "n = int(input())\n",
    "print(palindrome(n))\t"
   ]
  },
  {
   "cell_type": "markdown",
   "id": "e5344bad",
   "metadata": {},
   "source": [
    "## 刷題3:雙層for迴圈的設計-詞彙的配對"
   ]
  },
  {
   "cell_type": "code",
   "execution_count": 13,
   "id": "ee3a7eb9",
   "metadata": {},
   "outputs": [
    {
     "name": "stdout",
     "output_type": "stream",
     "text": [
      "好吃的蘋果\n",
      "好吃的手機\n",
      "好看的蘋果\n",
      "好看的手機\n",
      "好玩的蘋果\n",
      "好玩的手機\n"
     ]
    }
   ],
   "source": [
    "A = [\"好吃的\",\"好看的\",\"好玩的\"]\n",
    "B = [\"蘋果\",\"手機\"]\n",
    "for adj in A:\n",
    "    for n in B:\n",
    "        print(adj + n)"
   ]
  },
  {
   "cell_type": "code",
   "execution_count": 14,
   "id": "ec5eab47",
   "metadata": {},
   "outputs": [
    {
     "name": "stdout",
     "output_type": "stream",
     "text": [
      "好吃的 蘋果\n",
      "好吃的 手機\n",
      "好看的 蘋果\n",
      "好看的 手機\n",
      "好玩的 蘋果\n",
      "好玩的 手機\n",
      "\n",
      "好吃的 蘋果\n",
      "好看的 蘋果\n",
      "好玩的 蘋果\n",
      "好吃的 手機\n",
      "好看的 手機\n",
      "好玩的 手機\n"
     ]
    }
   ],
   "source": [
    "sum = 0\n",
    "termi = 1\n",
    "A = [\"好吃的\", \"好看的\", \"好玩的\"]\n",
    "B = [\"蘋果\", \"手機\"]\n",
    "for adj in A:\n",
    "  for noun in B:\n",
    "    print(adj, noun)\n",
    "print()\n",
    "for noun in B:\n",
    "  for adj in A:\n",
    "    print(adj, noun)"
   ]
  },
  {
   "cell_type": "markdown",
   "id": "dc5c7a26",
   "metadata": {},
   "source": [
    "## 刷題4:九九乘法表"
   ]
  },
  {
   "cell_type": "code",
   "execution_count": 25,
   "id": "7c5995dd",
   "metadata": {},
   "outputs": [
    {
     "name": "stdout",
     "output_type": "stream",
     "text": [
      "1 * 1 =  1  1 * 2 =  2  1 * 3 =  3  1 * 4 =  4  1 * 5 =  5  1 * 6 =  6  1 * 7 =  7  1 * 8 =  8  1 * 9 =  9  \n",
      "2 * 1 =  2  2 * 2 =  4  2 * 3 =  6  2 * 4 =  8  2 * 5 = 10  2 * 6 = 12  2 * 7 = 14  2 * 8 = 16  2 * 9 = 18  \n",
      "3 * 1 =  3  3 * 2 =  6  3 * 3 =  9  3 * 4 = 12  3 * 5 = 15  3 * 6 = 18  3 * 7 = 21  3 * 8 = 24  3 * 9 = 27  \n",
      "4 * 1 =  4  4 * 2 =  8  4 * 3 = 12  4 * 4 = 16  4 * 5 = 20  4 * 6 = 24  4 * 7 = 28  4 * 8 = 32  4 * 9 = 36  \n",
      "5 * 1 =  5  5 * 2 = 10  5 * 3 = 15  5 * 4 = 20  5 * 5 = 25  5 * 6 = 30  5 * 7 = 35  5 * 8 = 40  5 * 9 = 45  \n",
      "6 * 1 =  6  6 * 2 = 12  6 * 3 = 18  6 * 4 = 24  6 * 5 = 30  6 * 6 = 36  6 * 7 = 42  6 * 8 = 48  6 * 9 = 54  \n",
      "7 * 1 =  7  7 * 2 = 14  7 * 3 = 21  7 * 4 = 28  7 * 5 = 35  7 * 6 = 42  7 * 7 = 49  7 * 8 = 56  7 * 9 = 63  \n",
      "8 * 1 =  8  8 * 2 = 16  8 * 3 = 24  8 * 4 = 32  8 * 5 = 40  8 * 6 = 48  8 * 7 = 56  8 * 8 = 64  8 * 9 = 72  \n",
      "9 * 1 =  9  9 * 2 = 18  9 * 3 = 27  9 * 4 = 36  9 * 5 = 45  9 * 6 = 54  9 * 7 = 63  9 * 8 = 72  9 * 9 = 81  \n"
     ]
    }
   ],
   "source": [
    "for i in range(1,10):\n",
    "    for j in range(1,10):\n",
    "        print(\"%d * %d = %2d \" % (i,j,i * j),end = \" \")\n",
    "    print()"
   ]
  },
  {
   "cell_type": "code",
   "execution_count": 6,
   "id": "45d03daa",
   "metadata": {},
   "outputs": [
    {
     "name": "stdout",
     "output_type": "stream",
     "text": [
      "1X1= 1 1X2= 2 1X3= 3 1X4= 4 1X5= 5 1X6= 6 1X7= 7 1X8= 8 1X9= 9 \n",
      "2X1= 2 2X2= 4 2X3= 6 2X4= 8 2X5=10 2X6=12 2X7=14 2X8=16 2X9=18 \n",
      "3X1= 3 3X2= 6 3X3= 9 3X4=12 3X5=15 3X6=18 3X7=21 3X8=24 3X9=27 \n",
      "4X1= 4 4X2= 8 4X3=12 4X4=16 4X5=20 4X6=24 4X7=28 4X8=32 4X9=36 \n",
      "5X1= 5 5X2=10 5X3=15 5X4=20 5X5=25 5X6=30 5X7=35 5X8=40 5X9=45 \n",
      "6X1= 6 6X2=12 6X3=18 6X4=24 6X5=30 6X6=36 6X7=42 6X8=48 6X9=54 \n",
      "7X1= 7 7X2=14 7X3=21 7X4=28 7X5=35 7X6=42 7X7=49 7X8=56 7X9=63 \n",
      "8X1= 8 8X2=16 8X3=24 8X4=32 8X5=40 8X6=48 8X7=56 8X8=64 8X9=72 \n",
      "9X1= 9 9X2=18 9X3=27 9X4=36 9X5=45 9X6=54 9X7=63 9X8=72 9X9=81 \n"
     ]
    }
   ],
   "source": [
    "def\ttimesTable():\n",
    "  for r in range(1,10):\t\t\t\t# 1 <= r < 10\n",
    "    for c in range(1,10):\t\t\t# 1 <= c < 10\n",
    "\t    print(\"%1dX%1d=%2d\" %(r, c, r*c), end=\" \")\n",
    "    print()\t\t\t\t\t\t\t\t\t\t#換列，給下一個r\n",
    "\n",
    "timesTable()\t"
   ]
  },
  {
   "cell_type": "markdown",
   "id": "e0cffaa8",
   "metadata": {},
   "source": [
    "## 刷題5:星星金字塔"
   ]
  },
  {
   "cell_type": "code",
   "execution_count": 29,
   "id": "fc46f4ed",
   "metadata": {},
   "outputs": [
    {
     "name": "stdout",
     "output_type": "stream",
     "text": [
      "輸入整數n，n < 30: 4\n",
      "   *\n",
      "  ***\n",
      " *****\n",
      "*******\n"
     ]
    }
   ],
   "source": [
    "n = int(input(\"輸入整數n，n < 30: \"))\n",
    "for r in range(1,n + 1):\n",
    "    s = n - r\n",
    "    a = 2 * r - 1\n",
    "    print(\" \" * s + \"*\" * a)"
   ]
  },
  {
   "cell_type": "code",
   "execution_count": 8,
   "id": "97acb568",
   "metadata": {},
   "outputs": [
    {
     "name": "stdout",
     "output_type": "stream",
     "text": [
      "輸入整數n，n < 30: 4\n",
      "   *\n",
      "  ***\n",
      " *****\n",
      "*******\n"
     ]
    }
   ],
   "source": [
    "n = int(input(\"輸入整數n，n < 30: \"))\n",
    "for r in range(1, n + 1):\n",
    "    for a in range(n - r):\n",
    "        print(\" \",end = \"\")\n",
    "    print(\"*\" * (2 * r - 1),end = \"\")\n",
    "    print()"
   ]
  },
  {
   "cell_type": "code",
   "execution_count": 9,
   "id": "d7856977",
   "metadata": {},
   "outputs": [
    {
     "name": "stdout",
     "output_type": "stream",
     "text": [
      "輸入整數n，n < 30: 4\n",
      "   *\n",
      "  ***\n",
      " *****\n",
      "*******\n"
     ]
    }
   ],
   "source": [
    "n = int(input(\"輸入整數n，n < 30: \"))\n",
    "for r in range(1, n + 1):\n",
    "    for s in range(n - r):\n",
    "        print(\" \",end = \"\")\n",
    "    for a in range(2 * r - 1):\n",
    "        print(\"*\",end = \"\")\n",
    "    print()"
   ]
  },
  {
   "cell_type": "code",
   "execution_count": 30,
   "id": "7323314a",
   "metadata": {},
   "outputs": [
    {
     "name": "stdout",
     "output_type": "stream",
     "text": [
      "4\n",
      "   *\n",
      "  ***\n",
      " *****\n",
      "*******\n"
     ]
    }
   ],
   "source": [
    "def\tstarTree(n):\n",
    "  for r in range(1,n+1):\t\t# 1 <= r < n+1  (範圍1~n)\n",
    "    for s in range(n-r):\t\t# 0 <= s < n-r  (共n-r次)\n",
    "      print(' ', end = '')\t# 印空格，不換列\n",
    "    for c in range(2*r - 1):\t\t# 0 <= c < 2*r - 1 (共2*r-1次)\n",
    "\t    print('*', end = '') \t# 印星號，不換列\n",
    "    print()\t\t\t\t\t\t\t    #換列，給下一個r\n",
    "\n",
    "n = int(input())\n",
    "starTree(n)\t\t"
   ]
  },
  {
   "cell_type": "code",
   "execution_count": 3,
   "id": "974cb221",
   "metadata": {},
   "outputs": [
    {
     "name": "stdout",
     "output_type": "stream",
     "text": [
      "16\n"
     ]
    }
   ],
   "source": [
    "#1.1\n",
    "count = 0\n",
    "for _ in range(-5, 101, 7):\n",
    "    count += 1\n",
    "print(count)"
   ]
  },
  {
   "cell_type": "code",
   "execution_count": 2,
   "id": "25bc13a7",
   "metadata": {},
   "outputs": [
    {
     "name": "stdout",
     "output_type": "stream",
     "text": [
      "200\n"
     ]
    }
   ],
   "source": [
    "#1.2\n",
    "value = 100\n",
    "sum = 0\n",
    "while sum < 300:\n",
    "    value -= 20\n",
    "    if value < 0:\n",
    "        break\n",
    "    sum += value\n",
    "print(sum)"
   ]
  },
  {
   "cell_type": "code",
   "execution_count": 39,
   "id": "9201b071",
   "metadata": {},
   "outputs": [
    {
     "name": "stdout",
     "output_type": "stream",
     "text": [
      "輸入x值: 1\n",
      "0.3680555555555556\n"
     ]
    }
   ],
   "source": [
    "#1.3\n",
    "sign = (-1)\n",
    "d = 1\n",
    "total = 1\n",
    "x = int(input(\"輸入x值: \"))\n",
    "for t in range(1,7):\n",
    "    value = ((x**(t * 2)) / d) * sign\n",
    "    total +=  value   \n",
    "    sign = sign * (-1)\n",
    "    d = d * (t + 1)\n",
    "print(total)"
   ]
  },
  {
   "cell_type": "code",
   "execution_count": 32,
   "id": "478473cb",
   "metadata": {},
   "outputs": [
    {
     "data": {
      "text/plain": [
       "1"
      ]
     },
     "execution_count": 32,
     "metadata": {},
     "output_type": "execute_result"
    }
   ],
   "source": [
    "(0)**0"
   ]
  },
  {
   "cell_type": "code",
   "execution_count": 38,
   "id": "f0de6f6b",
   "metadata": {},
   "outputs": [
    {
     "data": {
      "text/plain": [
       "0.3680555555555556"
      ]
     },
     "execution_count": 38,
     "metadata": {},
     "output_type": "execute_result"
    }
   ],
   "source": [
    "(1/2) - (1/6) + (1/24) - (1/120) + (1/720)"
   ]
  },
  {
   "cell_type": "markdown",
   "id": "5c16d3f1",
   "metadata": {},
   "source": [
    "# 1-2遞迴"
   ]
  },
  {
   "cell_type": "markdown",
   "id": "77e35a0b",
   "metadata": {},
   "source": [
    "## 範例1.3遞迴累加式"
   ]
  },
  {
   "cell_type": "code",
   "execution_count": 1,
   "id": "f3894d77",
   "metadata": {},
   "outputs": [
    {
     "name": "stdout",
     "output_type": "stream",
     "text": [
      "輸入正整數n，n >= 2: 5\n",
      "40\n"
     ]
    }
   ],
   "source": [
    "def sum(n):\n",
    "    if n == 2:\n",
    "        return 2\n",
    "    return n * (n - 1) + sum(n - 1)\n",
    "    \n",
    "n = int(input(\"輸入正整數n，n >= 2: \"))\n",
    "print(sum(n))"
   ]
  },
  {
   "cell_type": "code",
   "execution_count": 3,
   "id": "8f29d0f0",
   "metadata": {},
   "outputs": [
    {
     "name": "stdout",
     "output_type": "stream",
     "text": [
      "輸入正整數n，n >= 2: 1\n",
      "0\n"
     ]
    }
   ],
   "source": [
    "def sum(n):\n",
    "    sum = 0\n",
    "    for i in range(1,n):\n",
    "        sum += i * (i + 1)\n",
    "    return sum\n",
    "\n",
    "n = int(input(\"輸入正整數n，n >= 2: \"))\n",
    "print(sum(n))"
   ]
  },
  {
   "cell_type": "markdown",
   "id": "ba7e9368",
   "metadata": {},
   "source": [
    "## 刷題6:遞迴版歐幾里得演算法"
   ]
  },
  {
   "cell_type": "code",
   "execution_count": 10,
   "id": "49649164",
   "metadata": {},
   "outputs": [
    {
     "name": "stdout",
     "output_type": "stream",
     "text": [
      "輸入m值: 51\n",
      "輸入n值，要比m小:16\n",
      "1\n"
     ]
    }
   ],
   "source": [
    "def GCD(m,n):\n",
    "    if (m % n) == 0:\n",
    "        return n\n",
    "    return GCD(n,m%n)\n",
    "\n",
    "\n",
    "m = int(input(\"輸入m值: \"))\n",
    "n = int(input(\"輸入n值，要比m小:\"))\n",
    "print(GCD(m,n))"
   ]
  },
  {
   "cell_type": "code",
   "execution_count": 18,
   "id": "ffc04a09",
   "metadata": {},
   "outputs": [
    {
     "name": "stdout",
     "output_type": "stream",
     "text": [
      "輸入正整數m、n，m > n: 18 12\n",
      "6\n"
     ]
    }
   ],
   "source": [
    "def GCD(m,n):\n",
    "    if n == 0:\n",
    "        return m\n",
    "    return GCD(n, m % n)\n",
    "\n",
    "\n",
    "# m = int(input(\"輸入整數m: \"))\n",
    "# n = int(input(\"輸入整數n,m > n: \"))\n",
    "m,n = map(int,input(\"輸入正整數m、n，m > n: \").split())\n",
    "print(GCD(m,n))"
   ]
  },
  {
   "cell_type": "code",
   "execution_count": 9,
   "id": "1cdb84ab",
   "metadata": {},
   "outputs": [
    {
     "name": "stdout",
     "output_type": "stream",
     "text": [
      "51 16\n",
      "1\n"
     ]
    }
   ],
   "source": [
    "def GCD(m, n):\t\n",
    "  if n == 0:\t\t\t\t\t#終止條件\n",
    "    return m \t\t\n",
    "  return GCD(n, m % n )  \t#遞迴呼叫\n",
    "\n",
    "a, b = map(int, input().split())\n",
    "print(GCD(a, b))"
   ]
  },
  {
   "cell_type": "markdown",
   "id": "880137b8",
   "metadata": {},
   "source": [
    "## 刷題7: 快速次方"
   ]
  },
  {
   "cell_type": "code",
   "execution_count": 21,
   "id": "d79ba09e",
   "metadata": {},
   "outputs": [
    {
     "name": "stdout",
     "output_type": "stream",
     "text": [
      "輸入實數x: 1.07\n",
      "輸入正整數n: 10\n",
      "1.9671513572895658\n"
     ]
    }
   ],
   "source": [
    "def FastExp(x,n):\n",
    "    if n == 1:\n",
    "        return x\n",
    "    half = FastExp(x,n // 2)\n",
    "    if n % 2 == 1:\n",
    "        return half * half * x\n",
    "    return half * half\n",
    "\n",
    "x = float(input(\"輸入實數x: \"))\n",
    "n = int(input(\"輸入正整數n: \"))\n",
    "print(FastExp(x,n))"
   ]
  },
  {
   "cell_type": "code",
   "execution_count": 22,
   "id": "956e500c",
   "metadata": {},
   "outputs": [
    {
     "name": "stdout",
     "output_type": "stream",
     "text": [
      "輸入實數x: 1.07\n",
      "輸入正整數n: 10\n",
      "1.9671513572895665\n"
     ]
    }
   ],
   "source": [
    "def FastExp(x,n):\n",
    "    return x ** n\n",
    "\n",
    "x = float(input(\"輸入實數x: \"))\n",
    "n = int(input(\"輸入正整數n: \"))\n",
    "print(FastExp(x,n))"
   ]
  },
  {
   "cell_type": "code",
   "execution_count": 20,
   "id": "a695a731",
   "metadata": {},
   "outputs": [
    {
     "name": "stdout",
     "output_type": "stream",
     "text": [
      "1.07 \n",
      "10\n",
      "1.9671513572895658\n"
     ]
    }
   ],
   "source": [
    "def FastExp(x, n):\t\n",
    "  if n == 1:\t\t\t\t\t#終止條件\n",
    "    return x \t\t\n",
    "  half = FastExp(x, n // 2 )  \t#遞迴呼叫，取得xn/2\n",
    "  if (n % 2) == 1:\t\t\t\t# n是奇數：xn = xn/2 * xn/2 * x\n",
    "    return half * half * x\t\t\n",
    "  return half * half\n",
    "  \n",
    "x = float(input())\n",
    "n = int(input())\n",
    "print(FastExp(x,n))"
   ]
  },
  {
   "cell_type": "code",
   "execution_count": 4,
   "id": "7ba27036",
   "metadata": {},
   "outputs": [
    {
     "name": "stdout",
     "output_type": "stream",
     "text": [
      "357\n"
     ]
    }
   ],
   "source": [
    "#1.5\n",
    "def maze(a, b, c):\n",
    "    if a < b:\n",
    "        return a\n",
    "    else:\n",
    "        return c * maze(a // b, b, c) + (a % b)\n",
    "print(maze(1020, 10, 7))"
   ]
  },
  {
   "cell_type": "code",
   "execution_count": 15,
   "id": "f8db0f87",
   "metadata": {},
   "outputs": [
    {
     "name": "stdout",
     "output_type": "stream",
     "text": [
      "2996\n"
     ]
    }
   ],
   "source": [
    "#1.6\n",
    "count = 0\n",
    "def f(n):\n",
    "    global count\n",
    "    sum = 0\n",
    "    \n",
    "    if n < 2:\n",
    "        return 0\n",
    "    for i in range(1, n + 1):\n",
    "        sum = sum + i\n",
    "        count += 1\n",
    "    sum += f(round(2 * n / 3))\n",
    "    return count\n",
    "print(f(1000))"
   ]
  },
  {
   "cell_type": "code",
   "execution_count": 7,
   "id": "b8b970fa",
   "metadata": {},
   "outputs": [
    {
     "name": "stdout",
     "output_type": "stream",
     "text": [
      "3\n"
     ]
    }
   ],
   "source": [
    "print(round(5 * 2 / 3))"
   ]
  },
  {
   "cell_type": "markdown",
   "id": "8f98726e",
   "metadata": {},
   "source": [
    "## 刷題8:河內塔遊戲"
   ]
  },
  {
   "cell_type": "code",
   "execution_count": 4,
   "id": "3e33cce5",
   "metadata": {},
   "outputs": [
    {
     "name": "stdout",
     "output_type": "stream",
     "text": [
      "請輸入正整數n: 3\n",
      "1:A->C\n",
      "2:A->B\n",
      "1:C->B\n",
      "3:A->C\n",
      "1:B->A\n",
      "2:B->C\n",
      "1:A->C\n"
     ]
    }
   ],
   "source": [
    "def hanoi(n, f, by, to):\n",
    "    if n > 0:\n",
    "        hanoi(n - 1, f, to, by)\n",
    "        print(f\"{n}:{f}->{to}\")\n",
    "        hanoi(n - 1, by, f, to)\n",
    "n = int(input(\"請輸入正整數n: \"))\n",
    "hanoi(n, \"A\", \"B\", \"C\")"
   ]
  },
  {
   "cell_type": "code",
   "execution_count": 5,
   "id": "b04132d1",
   "metadata": {},
   "outputs": [
    {
     "name": "stdout",
     "output_type": "stream",
     "text": [
      "輸入正整數n,n < 10: 3\n",
      "1 : A -> C\n",
      "2 : A -> B\n",
      "1 : C -> B\n",
      "3 : A -> C\n",
      "1 : B -> A\n",
      "2 : B -> C\n",
      "1 : A -> C\n"
     ]
    }
   ],
   "source": [
    "def hanoi(n, f, by, to):\n",
    "    if n > 0:\n",
    "        hanoi(n - 1, f, to, by)\n",
    "        print(\"{} : {} -> {}\".format(n, f, to))\n",
    "        hanoi(n - 1, by, f, to)\n",
    "\n",
    "n = int(input(\"輸入正整數n,n < 10: \"))\n",
    "hanoi(n, \"A\", \"B\", \"C\")"
   ]
  },
  {
   "cell_type": "markdown",
   "id": "3caed2a0",
   "metadata": {},
   "source": [
    "## 刷題9:計算第n個費伯納西數列"
   ]
  },
  {
   "cell_type": "code",
   "execution_count": 8,
   "id": "0282fb03",
   "metadata": {},
   "outputs": [
    {
     "name": "stdout",
     "output_type": "stream",
     "text": [
      "請輸入正整數n，n >= 2: 9\n",
      "34\n"
     ]
    }
   ],
   "source": [
    "def Fib(n):\n",
    "    if n == 0:\n",
    "        return 0\n",
    "    elif n == 1:\n",
    "        return 1\n",
    "    return Fib(n - 1) + Fib(n - 2)\n",
    "\n",
    "n = int(input(\"請輸入正整數n，n >= 2: \"))\n",
    "print(Fib(n))"
   ]
  },
  {
   "cell_type": "code",
   "execution_count": 16,
   "id": "30be5b28",
   "metadata": {},
   "outputs": [
    {
     "name": "stdout",
     "output_type": "stream",
     "text": [
      "9\n",
      "34\n"
     ]
    }
   ],
   "source": [
    "def Fib(n):\n",
    "    if n == 0: return 0\t\t\t#終止條件1\n",
    "    if n == 1: return 1\t\t\t#終止條件2\n",
    "    return Fib(n-1) + Fib(n-2)\t#兩個遞迴呼叫\n",
    "\n",
    "n = int(input())\n",
    "print(Fib(n))"
   ]
  },
  {
   "cell_type": "markdown",
   "id": "8de1c5e9",
   "metadata": {},
   "source": [
    "## 延伸刷題:費伯納西數列迴圈版"
   ]
  },
  {
   "cell_type": "code",
   "execution_count": 6,
   "id": "ab95bd2c",
   "metadata": {},
   "outputs": [
    {
     "name": "stdout",
     "output_type": "stream",
     "text": [
      "輸入正整數n，n >= 2: 3\n",
      "2\n"
     ]
    }
   ],
   "source": [
    "def Fib(n):\n",
    "    if n == 0:\n",
    "        return 0\n",
    "    elif n == 1:\n",
    "        return 1\n",
    "    n1 = 1\n",
    "    n2 = 0\n",
    "    for _ in range(2, n + 1):\n",
    "        n3 = n1 + n2\n",
    "        n1, n2 = n3, n1\n",
    "    return n3\n",
    "\n",
    "n = int(input(\"輸入正整數n，n >= 2: \"))\n",
    "print(Fib(n))"
   ]
  },
  {
   "cell_type": "code",
   "execution_count": 18,
   "id": "237bda8e",
   "metadata": {},
   "outputs": [
    {
     "name": "stdout",
     "output_type": "stream",
     "text": [
      "4\n",
      "1 1 1\n",
      "1 2 2\n",
      "2 3 3\n",
      "3\n"
     ]
    }
   ],
   "source": [
    "def iterativeFib(n):\n",
    "    if n == 0: return 0\t\t\t#底層1\n",
    "    if n == 1: return 1\t\t\t#底層2\n",
    "    Fn_1, Fn_2 = 1, 0\n",
    "    for i in range(2, n+1):  \t\t# 2 <= i < n+1\n",
    "        Fn = Fn_1 + Fn_2\t\t# 生成Fib(i)\n",
    "        Fn_2 = Fn_1\n",
    "        Fn_1 = Fn\n",
    "        print(Fn_2,Fn_1,Fn)\n",
    "    return Fn \n",
    "\n",
    "n = int(input())\n",
    "print(iterativeFib(n))"
   ]
  },
  {
   "cell_type": "code",
   "execution_count": 2,
   "id": "eafdce0a",
   "metadata": {},
   "outputs": [
    {
     "name": "stdout",
     "output_type": "stream",
     "text": [
      "輸入3或6: 6\n",
      "82\n"
     ]
    }
   ],
   "source": [
    "#1.7\n",
    "i = int(input(\"輸入3或6: \"))\n",
    "def f(n):\n",
    "    if n <= 2:\n",
    "        return 2\n",
    "    else:\n",
    "        return 2 * f(n - 1) + f(n - 2)\n",
    "print(f(i))"
   ]
  },
  {
   "cell_type": "markdown",
   "id": "47f1ebff",
   "metadata": {},
   "source": [
    "## 範例1.4二項式係數"
   ]
  },
  {
   "cell_type": "code",
   "execution_count": 19,
   "id": "17b3c758",
   "metadata": {},
   "outputs": [
    {
     "name": "stdout",
     "output_type": "stream",
     "text": [
      "請輸入正整數n、k，n >= k: 5 3\n",
      "10\n"
     ]
    }
   ],
   "source": [
    "def C(n,k):\n",
    "    if k == 0 or k == n:\n",
    "        return 1\n",
    "    return C(n - 1, k) + C(n - 1, k - 1)\n",
    "\n",
    "n,k = map(int, input(\"請輸入正整數n、k，n >= k: \").split())\n",
    "print(C(n,k))"
   ]
  },
  {
   "cell_type": "code",
   "execution_count": 3,
   "id": "2922e992",
   "metadata": {},
   "outputs": [
    {
     "name": "stdout",
     "output_type": "stream",
     "text": [
      "15\n"
     ]
    }
   ],
   "source": [
    "#1.8\n",
    "def f(n):\n",
    "    if n == 1:\n",
    "        return 1\n",
    "    return n + f(n - 1)\n",
    "\n",
    "print(f(5))"
   ]
  },
  {
   "cell_type": "code",
   "execution_count": 1,
   "id": "86f612b6",
   "metadata": {},
   "outputs": [
    {
     "name": "stdout",
     "output_type": "stream",
     "text": [
      "請輸入整數m,n: 2 5\n",
      "13\n",
      "0.0\n"
     ]
    }
   ],
   "source": [
    "#1.9\n",
    "from time import process_time\n",
    "m,n = map(int,input(\"請輸入整數m,n: \").split())\n",
    "start_t = process_time()\n",
    "def A(m,n):\n",
    "    if m == 0:\n",
    "        return n + 1\n",
    "    elif n == 0:\n",
    "        return A(m - 1, 1)\n",
    "    else:\n",
    "        return A(m - 1, A(m, n - 1))\n",
    "\n",
    "\n",
    "end_t = process_time()\n",
    "print(A(m,n))\n",
    "print(end_t - start_t)"
   ]
  },
  {
   "cell_type": "markdown",
   "id": "405e7e4b",
   "metadata": {},
   "source": [
    "# 1-3程式的效率-時間複雜度"
   ]
  },
  {
   "cell_type": "markdown",
   "id": "e03d3f2c",
   "metadata": {},
   "source": [
    "## 範例1.5單層for迴圈的計數"
   ]
  },
  {
   "cell_type": "code",
   "execution_count": 5,
   "id": "3fe00d1f",
   "metadata": {},
   "outputs": [
    {
     "name": "stdout",
     "output_type": "stream",
     "text": [
      "5\n",
      "15\n"
     ]
    }
   ],
   "source": [
    "# for i in range(1, n + 1):\n",
    "#     count = count + 1\n",
    "#     sum = sum + i\n",
    "    \n",
    "n = int(input())\n",
    "sum = count = 0\n",
    "for i in range(1, n+1): # i 的範圍是從 1 到 n\n",
    "    count = count + 1 # 也可寫成 count += 1\n",
    "    sum = sum + i\n",
    "print(sum)"
   ]
  },
  {
   "cell_type": "markdown",
   "id": "cce831ee",
   "metadata": {},
   "source": [
    "## 範例1.6雙層for迴圈"
   ]
  },
  {
   "cell_type": "code",
   "execution_count": 6,
   "id": "62004270",
   "metadata": {},
   "outputs": [
    {
     "name": "stdout",
     "output_type": "stream",
     "text": [
      "5\n",
      "60\n"
     ]
    }
   ],
   "source": [
    "# for i in range(1, n + 1):\n",
    "#     for j in range(1, n):\n",
    "#         count = count + 1\n",
    "#         sum = sum + i\n",
    "        \n",
    "n = int(input())\n",
    "sum = count = 0\n",
    "for i in range(1, n+1): # 定義 i 的範圍從 1 到 n\n",
    "    for j in range(1, n): # 定義 j 的範圍從 1 到 n-1\n",
    "        count = count + 1\n",
    "        sum = sum + i\n",
    "print(sum)"
   ]
  },
  {
   "cell_type": "markdown",
   "id": "d0e15a39",
   "metadata": {},
   "source": [
    "## 範例1.7雙層for迴圈，內圈次數由外圈決定"
   ]
  },
  {
   "cell_type": "code",
   "execution_count": 7,
   "id": "70c2ac25",
   "metadata": {},
   "outputs": [
    {
     "name": "stdout",
     "output_type": "stream",
     "text": [
      "4\n",
      "6\n"
     ]
    }
   ],
   "source": [
    "n = int(input())\n",
    "result = 0\n",
    "for i in range(1, n+1): # 定義 i 的範圍從 1 到 n\n",
    "    for j in range(i+1, n+1): # 注意：j 的範圍是從 i+1 到 n\n",
    "        result = result + 1\n",
    "print(result)"
   ]
  },
  {
   "cell_type": "markdown",
   "id": "145dbf0f",
   "metadata": {},
   "source": [
    "## 範例1.8三層for迴圈"
   ]
  },
  {
   "cell_type": "code",
   "execution_count": 9,
   "id": "06e0b00b",
   "metadata": {},
   "outputs": [
    {
     "name": "stdout",
     "output_type": "stream",
     "text": [
      "4\n",
      "20\n"
     ]
    }
   ],
   "source": [
    "n = int(input())\n",
    "result = 0\n",
    "for i in range(1, n+1): # 定義 i 的範圍從 1 到 n\n",
    "    for j in range(i, n+1): # j 的範圍是從 i 到 n\n",
    "        for k in range(j, n+1): # k 的範圍是從 j 到 n\n",
    "            result = result + 1\n",
    "print(result)"
   ]
  },
  {
   "cell_type": "code",
   "execution_count": 11,
   "id": "84477f38",
   "metadata": {},
   "outputs": [
    {
     "name": "stdout",
     "output_type": "stream",
     "text": [
      "30\n"
     ]
    }
   ],
   "source": [
    "#1.10\n",
    "sum = 0\n",
    "n = 5\n",
    "for k in range(1, n):\n",
    "    for i in range(k + 1, n + 1):\n",
    "        for j in range(k + 1, n + 1):\n",
    "            sum = sum + 1\n",
    "print(sum)"
   ]
  },
  {
   "cell_type": "code",
   "execution_count": 12,
   "id": "7b2554d8",
   "metadata": {},
   "outputs": [
    {
     "name": "stdout",
     "output_type": "stream",
     "text": [
      "220\n"
     ]
    }
   ],
   "source": [
    "count = 0\n",
    "for i in range(1, 11):\n",
    "    for j in range(1, i + 1):\n",
    "        for k in range(1, j + 1):\n",
    "            count += 1\n",
    "            \n",
    "print(count)"
   ]
  }
 ],
 "metadata": {
  "kernelspec": {
   "display_name": "Python 3 (ipykernel)",
   "language": "python",
   "name": "python3"
  },
  "language_info": {
   "codemirror_mode": {
    "name": "ipython",
    "version": 3
   },
   "file_extension": ".py",
   "mimetype": "text/x-python",
   "name": "python",
   "nbconvert_exporter": "python",
   "pygments_lexer": "ipython3",
   "version": "3.9.7"
  }
 },
 "nbformat": 4,
 "nbformat_minor": 5
}
