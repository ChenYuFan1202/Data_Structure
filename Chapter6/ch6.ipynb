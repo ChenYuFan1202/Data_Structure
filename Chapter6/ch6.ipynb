{
 "cells": [
  {
   "cell_type": "markdown",
   "metadata": {},
   "source": [
    "# 6-1 樹的資料結構與走訪"
   ]
  },
  {
   "cell_type": "markdown",
   "metadata": {},
   "source": [
    "## 範例6.1 建立樹的類別"
   ]
  },
  {
   "cell_type": "code",
   "execution_count": 2,
   "metadata": {},
   "outputs": [
    {
     "name": "stdout",
     "output_type": "stream",
     "text": [
      "0:[1, 2, 3] \n",
      "1:[4, 5] \n",
      "2:[6] \n",
      "3:[] \n",
      "4:[] \n",
      "5:[] \n",
      "6:[7, 8, 9] \n",
      "7:[] \n",
      "8:[] \n",
      "9:[] \n",
      "\n"
     ]
    }
   ],
   "source": [
    "class Tree:\n",
    "    def read(self):\n",
    "        self.n = int(input(\"請輸入樹的總節點數：　\"))\n",
    "        self.L = [[] for _ in range(self.n)]\n",
    "        for _ in range(self.n - 1):\n",
    "            i, j = map(int, input(\"請輸入i和j: \").split())\n",
    "            self.L[i].append(j)\n",
    "    \n",
    "    def readFile(self, fileName):\n",
    "        fp = open(fileName, \"r\")\n",
    "        self.n = int(fp.readline())\n",
    "        self.L = [[] for _ in range(self.n)]\n",
    "        for _ in range(self.n - 1):\n",
    "            i, j = map(int, fp.readline().split())\n",
    "            self.L[i].append(j)\n",
    "\n",
    "    def print(self):\n",
    "        for i in range(self.n):\n",
    "            print(\"{}:{} \".format(i, self.L[i])) # 每個節點以及此節點的子節點\n",
    "        print()\n",
    "\n",
    "t = Tree()\n",
    "t.readFile(\"tree6-1.txt\")\n",
    "t.print()"
   ]
  },
  {
   "cell_type": "markdown",
   "metadata": {},
   "source": [
    "## 刷題47：樹的BFS走訪"
   ]
  },
  {
   "cell_type": "code",
   "execution_count": 10,
   "metadata": {},
   "outputs": [
    {
     "name": "stdout",
     "output_type": "stream",
     "text": [
      "A B C D E F G H I J "
     ]
    }
   ],
   "source": [
    "from queueClass import *\n",
    "\n",
    "class Tree:\n",
    "    def read(self):\n",
    "        self.n = int(input(\"請輸入樹的總節點數：　\"))\n",
    "        self.L = [[] for _ in range(self.n)]\n",
    "        for _ in range(self.n - 1):\n",
    "            i, j = map(int, input(\"請輸入i和j: \").split())\n",
    "            self.L[i].append(j)\n",
    "    \n",
    "    def readFile(self, fileName):\n",
    "        fp = open(fileName, \"r\")\n",
    "        self.n = int(fp.readline())\n",
    "        self.L = [[] for _ in range(self.n)]\n",
    "        for _ in range(self.n - 1):\n",
    "            i, j = map(int, fp.readline().split())\n",
    "            self.L[i].append(j)\n",
    "\n",
    "    def print(self):\n",
    "        for i in range(self.n):\n",
    "            print(\"{}:{} \".format(i, self.L[i]))\n",
    "        print()\n",
    "\n",
    "    def findRoot(self):\n",
    "        indegree = [0] * self.n\n",
    "        for u in range(self.n):\n",
    "            for v in self.L[u]:\n",
    "                indegree[v] += 1\n",
    "        return indegree.index(0)\n",
    "    \n",
    "    def BFS(self):\n",
    "        q = Queue()\n",
    "        q.enQueue(self.findRoot())\n",
    "        while not q.isEmpty():\n",
    "            u = q.deQueue()\n",
    "            self.visitOrder.append(u)\n",
    "            for v in self.L[u]:\n",
    "                q.enQueue(v)\n",
    "    \n",
    "    def printVisitOrder(self):\n",
    "        for u in self.visitOrder:\n",
    "            print(chr(ord(\"A\") + u), end = \" \")\n",
    "\n",
    "t = Tree()\n",
    "t.readFile(\"tree6-1.txt\")\n",
    "t.visitOrder = []\n",
    "t.BFS()\n",
    "t.printVisitOrder()\n"
   ]
  },
  {
   "cell_type": "markdown",
   "metadata": {},
   "source": [
    "## 刷題48：樹的DFS走訪"
   ]
  },
  {
   "cell_type": "code",
   "execution_count": 11,
   "metadata": {},
   "outputs": [
    {
     "name": "stdout",
     "output_type": "stream",
     "text": [
      "A B E F C G H I J D "
     ]
    }
   ],
   "source": [
    "class Tree:\n",
    "    def read(self):\n",
    "        self.n = int(input(\"請輸入樹的總節點數：　\"))\n",
    "        self.L = [[] for _ in range(self.n)]\n",
    "        for _ in range(self.n - 1):\n",
    "            i, j = map(int, input(\"請輸入i和j: \").split())\n",
    "            self.L[i].append(j)\n",
    "    \n",
    "    def readFile(self, fileName):\n",
    "        fp = open(fileName, \"r\")\n",
    "        self.n = int(fp.readline())\n",
    "        self.L = [[] for _ in range(self.n)]\n",
    "        for _ in range(self.n - 1):\n",
    "            i, j = map(int, fp.readline().split())\n",
    "            self.L[i].append(j)\n",
    "\n",
    "    def print(self):\n",
    "        for i in range(self.n):\n",
    "            print(\"{}:{} \".format(i, self.L[i]))\n",
    "        print()\n",
    "\n",
    "    def findRoot(self):\n",
    "        self.indegree = [0] * self.n\n",
    "        for u in range(self.n):\n",
    "            for v in self.L[u]:\n",
    "                self.indegree[v] += 1\n",
    "        return self.indegree.index(0)\n",
    "    \n",
    "    def DFS(self, u):\n",
    "        self.visitOrder.append(u)\n",
    "        for v in self.L[u]:\n",
    "            self.DFS(v)\n",
    "\n",
    "    def printVisitOrder(self):\n",
    "        for u in self.visitOrder:\n",
    "            print(chr(ord(\"A\") + u), end = \" \")\n",
    "\n",
    "    \n",
    "t = Tree()\n",
    "t.readFile(\"tree6-1.txt\")\n",
    "t.visitOrder = []\n",
    "t.DFS(t.findRoot())\n",
    "t.printVisitOrder()"
   ]
  },
  {
   "cell_type": "markdown",
   "metadata": {},
   "source": [
    "## 刷題49：計算樹的高度"
   ]
  },
  {
   "cell_type": "code",
   "execution_count": 2,
   "metadata": {},
   "outputs": [
    {
     "name": "stdout",
     "output_type": "stream",
     "text": [
      "4\n"
     ]
    }
   ],
   "source": [
    "class Tree:\n",
    "    def read(self):\n",
    "        self.n = int(input(\"請輸入樹的總節點數：　\"))\n",
    "        self.L = [[] for _ in range(self.n)]\n",
    "        for _ in range(self.n - 1):\n",
    "            i, j = map(int, input(\"請輸入i和j: \").split())\n",
    "            self.L[i].append(j)\n",
    "    \n",
    "    def readFile(self, fileName):\n",
    "        fp = open(fileName, \"r\")\n",
    "        self.n = int(fp.readline())\n",
    "        self.L = [[] for _ in range(self.n)]\n",
    "        for _ in range(self.n - 1):\n",
    "            i, j = map(int, fp.readline().split())\n",
    "            self.L[i].append(j)\n",
    "\n",
    "    def print(self):\n",
    "        for i in range(self.n):\n",
    "            print(\"{}:{} \".format(i, self.L[i]))\n",
    "        print()\n",
    "\n",
    "    def findRoot(self):\n",
    "        self.indegree = [0] * self.n\n",
    "        for u in range(self.n):\n",
    "            for v in self.L[u]:\n",
    "                self.indegree[v] += 1\n",
    "        return self.indegree.index(0)\n",
    "    \n",
    "    def findH(self, u):\n",
    "        if len(self.L[u]) == 0:\n",
    "            return 1\n",
    "        maxh = 0\n",
    "        for v in self.L[u]:\n",
    "            maxh = max(maxh, self.findH(v))\n",
    "            # print(maxh)\n",
    "        return maxh + 1\n",
    "\n",
    "t = Tree()\n",
    "t.readFile(\"tree6-1.txt\")\n",
    "print(t.findH(t.findRoot()))"
   ]
  },
  {
   "cell_type": "markdown",
   "metadata": {},
   "source": [
    "## 刷題50：計算樹的最大距離"
   ]
  },
  {
   "cell_type": "code",
   "execution_count": 2,
   "metadata": {},
   "outputs": [
    {
     "data": {
      "text/plain": [
       "5"
      ]
     },
     "execution_count": 2,
     "metadata": {},
     "output_type": "execute_result"
    }
   ],
   "source": [
    "class Tree:\n",
    "    def read(self):\n",
    "        self.n = int(input(\"請輸入樹的總節點數：　\"))\n",
    "        self.L = [[] for _ in range(self.n)]\n",
    "        for _ in range(self.n - 1):\n",
    "            i, j = map(int, input(\"請輸入i和j: \").split())\n",
    "            self.L[i].append(j)\n",
    "    \n",
    "    def readFile(self, fileName):\n",
    "        fp = open(fileName, \"r\")\n",
    "        self.n = int(fp.readline())\n",
    "        self.L = [[] for _ in range(self.n)]\n",
    "        for _ in range(self.n - 1):\n",
    "            i, j = map(int, fp.readline().split())\n",
    "            self.L[i].append(j)\n",
    "\n",
    "    def print(self):\n",
    "        for i in range(self.n):\n",
    "            print(\"{}:{} \".format(i, self.L[i]))\n",
    "        print()\n",
    "\n",
    "    def findRoot(self):\n",
    "        self.indegree = [0] * self.n\n",
    "        for u in range(self.n):\n",
    "            for v in self.L[u]:\n",
    "                self.indegree[v] += 1\n",
    "        return self.indegree.index(0)\n",
    "    \n",
    "    def findDis(self, u):\n",
    "        if len(self.L[u]) == 0:\n",
    "            return 1\n",
    "        first = second = 0\n",
    "        for v in self.L[u]:\n",
    "            h = self.findDis(v)\n",
    "            if h > first:\n",
    "                second = first\n",
    "                first = h\n",
    "            elif h > second:\n",
    "                second = h\n",
    "        self.maxDis = max(self.maxDis, first + second)\n",
    "        return first + 1\n",
    "    \n",
    "t = Tree()\n",
    "t.readFile(\"tree6-1.txt\")\n",
    "t.maxDis = 0\n",
    "t.findDis(t.findRoot())\n",
    "t.maxDis"
   ]
  },
  {
   "cell_type": "markdown",
   "metadata": {},
   "source": [
    "# 6-2 二元樹（Binary Tree）"
   ]
  },
  {
   "cell_type": "code",
   "execution_count": 3,
   "metadata": {},
   "outputs": [
    {
     "data": {
      "text/plain": [
       "5"
      ]
     },
     "execution_count": 3,
     "metadata": {},
     "output_type": "execute_result"
    }
   ],
   "source": [
    "class BinTNode:\n",
    "    def __init__(self, data):\n",
    "        self.data = data\n",
    "        self.left_c = None\n",
    "        self.right_c = None\n",
    "\n",
    "class BinTree:\n",
    "    def __init__(self):\n",
    "        self.root = None\n",
    "    def read(self):\n",
    "        self.nodes = list(input(\"請輸入串列形式的節點資料: \").split())\n",
    "        self.current = 0\n",
    "        self.root = self.create()\n",
    "\n",
    "    def create(self):\n",
    "        nodedata = self.nodes[self.current]\n",
    "        self.current += 1\n",
    "        if nodedata == \"0\":\n",
    "            return\n",
    "        node = BinTNode(nodedata)\n",
    "        node.left_c = self.create()\n",
    "        node.right_c = self.create()\n",
    "        return node\n",
    "    \n",
    "t = BinTree()\n",
    "t.read()"
   ]
  },
  {
   "cell_type": "markdown",
   "metadata": {},
   "source": [
    "## 刷題51：計算二元樹的節點數"
   ]
  },
  {
   "cell_type": "code",
   "execution_count": 2,
   "metadata": {},
   "outputs": [
    {
     "name": "stdout",
     "output_type": "stream",
     "text": [
      "8\n",
      "A B D F C E G H "
     ]
    }
   ],
   "source": [
    "class BinTNode:\n",
    "    def __init__(self, data = 0): # data的預設值為0，但其實沒有差\n",
    "        self.data = data\n",
    "        self.left_c = None\n",
    "        self.right_c = None\n",
    "\n",
    "class BinTree:\n",
    "    def __init__(self):\n",
    "        self.root = None\n",
    "    def read(self):\n",
    "        self.nodes = list(input(\"請輸入串列形式的節點資料: \").split())\n",
    "        self.current = 0\n",
    "        self.root = self.create()\n",
    "    def readFile(self, fileName):\n",
    "        fp = open(fileName, \"r\")\n",
    "        self.nodes = list(fp.readline().split())\n",
    "        self.current = 0\n",
    "        self.root = self.create()\n",
    "    def create(self):\n",
    "        nodedata = self.nodes[self.current]\n",
    "        self.current += 1\n",
    "        if nodedata == \"0\":\n",
    "            return\n",
    "        node = BinTNode(nodedata)\n",
    "        node.left_c = self.create()\n",
    "        node.right_c = self.create()\n",
    "        # print(node)\n",
    "        return node\n",
    "    def countNode(self, p):\n",
    "        if not p:\n",
    "            return\n",
    "        self.n += 1\n",
    "        self.countNode(p.left_c)\n",
    "        self.countNode(p.right_c)\n",
    "    def preorder(self, p):\n",
    "        if not p:\n",
    "            return\n",
    "        print(p.data, end = \" \")\n",
    "        self.preorder(p.left_c)\n",
    "        self.preorder(p.right_c)\n",
    "        \n",
    "t = BinTree()\n",
    "t.readFile(\"btree6-7b.txt\")\n",
    "t.n = 0\n",
    "t.countNode(t.root)\n",
    "print(t.n)\n",
    "t.preorder(t.root)"
   ]
  },
  {
   "cell_type": "markdown",
   "metadata": {},
   "source": [
    "## 刷題52：計算二元樹的高度"
   ]
  },
  {
   "cell_type": "code",
   "execution_count": 7,
   "metadata": {},
   "outputs": [
    {
     "name": "stdout",
     "output_type": "stream",
     "text": [
      "4\n"
     ]
    }
   ],
   "source": [
    "class BinTNode:\n",
    "    def __init__(self, data = 0): # data的預設值為0\n",
    "        self.data = data\n",
    "        self.left_c = None\n",
    "        self.right_c = None\n",
    "\n",
    "class BinTree:\n",
    "    def __init__(self):\n",
    "        self.root = None\n",
    "    def read(self):\n",
    "        self.nodes = list(input(\"請輸入串列形式的節點資料: \").split())\n",
    "        self.current = 0\n",
    "        self.root = self.create()\n",
    "    def readFile(self, fileName):\n",
    "        fp = open(fileName, \"r\")\n",
    "        self.nodes = list(fp.readline().split())\n",
    "        self.current = 0\n",
    "        self.root = self.create()\n",
    "    def create(self):\n",
    "        nodedata = self.nodes[self.current]\n",
    "        self.current += 1\n",
    "        if nodedata == \"0\":\n",
    "            return\n",
    "        node = BinTNode(nodedata)\n",
    "        node.left_c = self.create()\n",
    "        node.right_c = self.create()\n",
    "        return node\n",
    "    def preorder(self, p):\n",
    "        if not p:\n",
    "            return\n",
    "        print(p.data, end = \" \")\n",
    "        self.preorder(p.left_c)\n",
    "        self.preorder(p.right_c)\n",
    "    def countH(self, p):\n",
    "        h = 0\n",
    "        # print(p.data)\n",
    "        if p.left_c:\n",
    "            hLeft = self.countH(p.left_c)\n",
    "            # print(h)\n",
    "            h = max(h, hLeft)\n",
    "            # print(h)\n",
    "        if p.right_c:\n",
    "            hRight = self.countH(p.right_c)\n",
    "            # print(h)\n",
    "            h = max(h, hRight)\n",
    "        return h + 1\n",
    "\n",
    "t = BinTree()\n",
    "t.readFile(\"btree6-7b.txt\")\n",
    "print(t.countH(t.root))"
   ]
  },
  {
   "cell_type": "markdown",
   "metadata": {},
   "source": [
    "## 刷題53：由中序順序及前序順序建構二元樹"
   ]
  },
  {
   "cell_type": "code",
   "execution_count": 17,
   "metadata": {},
   "outputs": [
    {
     "name": "stdout",
     "output_type": "stream",
     "text": [
      "F D B G H E C A "
     ]
    }
   ],
   "source": [
    "class BinTNode:\n",
    "    def __init__(self, data = 0):\n",
    "        self.data = data\n",
    "        self.left_c = None\n",
    "        self.right_c = None\n",
    "\n",
    "class BinTree:\n",
    "    def __init__(self):\n",
    "        self.root = None\n",
    "    def createByInPre(self):\n",
    "        self.inorder = list(input(\"請輸入中序的串列資料: \").split())\n",
    "        self.preorder = list(input(\"請輸入前序的串列資料: \").split())\n",
    "        n = len(self.inorder)\n",
    "        self.root = self.create(0, n - 1, 0, n - 1)\n",
    "    def create(self, inLeft, inRight, preLeft, preRight):\n",
    "        if inLeft > inRight or preLeft > preRight:\n",
    "            return None\n",
    "        d = self.preorder[preLeft]\n",
    "        m = self.inorder.index(d)\n",
    "        m1 = m - inLeft\n",
    "        node = BinTNode(d)\n",
    "        node.left_c = self.create(inLeft, m - 1, preLeft + 1, preLeft + m1)\n",
    "        node.right_c = self.create(m + 1, inRight, preLeft + m1 + 1, preRight)\n",
    "        return node\n",
    "    def postorder(self, p):\n",
    "        if not p:\n",
    "            return\n",
    "        self.postorder(p.left_c)\n",
    "        self.postorder(p.right_c)\n",
    "        print(p.data, end = \" \")\n",
    "    \n",
    "t = BinTree()\n",
    "t.createByInPre()\n",
    "t.postorder(t.root)\n",
    "\n",
    "#輸入範例\n",
    "# D F B A C G E H\n",
    "# A B D F C E G H\n",
    "#輸出 F D B G H E C A"
   ]
  },
  {
   "cell_type": "markdown",
   "metadata": {},
   "source": [
    "# 6-3搜尋樹（Search Tree）"
   ]
  },
  {
   "cell_type": "markdown",
   "metadata": {},
   "source": [
    "## 範例6.2 建立二搜尋樹"
   ]
  },
  {
   "cell_type": "code",
   "execution_count": 4,
   "metadata": {},
   "outputs": [
    {
     "name": "stdout",
     "output_type": "stream",
     "text": [
      "51 39 20 10 45 42 49 70 63 80 75 "
     ]
    }
   ],
   "source": [
    "class BinTNode:\n",
    "    def __init__(self, data):\n",
    "        self.data = data\n",
    "        self.left_c = None\n",
    "        self.right_c = None\n",
    "class BST:\n",
    "    def __init__(self):\n",
    "        self.root = None\n",
    "    def create(self):\n",
    "        self.nodes = list(input(\"請輸入串列形式的節點資料: \").split())\n",
    "        for nodedata in self.nodes:\n",
    "            node = BinTNode(nodedata)\n",
    "            self.insert(node)\n",
    "    def insert(self, newnode):\n",
    "        LEFT, RIGHT = range(2)\n",
    "        if not self.root:\n",
    "            self.root = newnode\n",
    "            return\n",
    "        current = self.root\n",
    "        while current:\n",
    "            curParent = current\n",
    "            if newnode.data < current.data: # current可以用curParent取代\n",
    "                direction = LEFT\n",
    "                current = current.left_c\n",
    "            elif newnode.data > current.data:\n",
    "                direction = RIGHT\n",
    "                current = current.right_c\n",
    "            else:\n",
    "                return\n",
    "        if direction == LEFT:\n",
    "            curParent.left_c = newnode\n",
    "        else:\n",
    "            curParent.right_c = newnode\n",
    "    def createFromFile(self, fileName):\n",
    "        fp = open(fileName, \"r\")\n",
    "        self.nodes = list(fp.readline().split())\n",
    "        for nodedata in self.nodes:\n",
    "            node = BinTNode(nodedata)\n",
    "            self.insert(node)\n",
    "    def preorder(self, p):\n",
    "        if not p:\n",
    "            return\n",
    "        print(p.data, end = \" \")\n",
    "        self.preorder(p.left_c)\n",
    "        self.preorder(p.right_c)\n",
    "    def inorder(self, p):\n",
    "        if not p:\n",
    "            return\n",
    "        self.inorder(p.left_c)\n",
    "        print(p.data, end = \" \")\n",
    "        self.inorder(p.right_c)\n",
    "    def postorder(self, p):\n",
    "        if not p:\n",
    "            return\n",
    "        self.postorder(p.left_c)\n",
    "        self.postorder(p.right_c)\n",
    "        print(p.data, end = \" \")\n",
    "\n",
    "t = BST()\n",
    "t.createFromFile(\"bst6-28.txt\")\n",
    "t.preorder(t.root)\n",
    "        "
   ]
  },
  {
   "cell_type": "markdown",
   "metadata": {},
   "source": [
    "## 範例6.3 在二元搜尋樹進行搜尋"
   ]
  },
  {
   "cell_type": "code",
   "execution_count": 28,
   "metadata": {},
   "outputs": [
    {
     "name": "stdout",
     "output_type": "stream",
     "text": [
      "51 39 20 10 45 42 49 70 63 80 75 "
     ]
    },
    {
     "data": {
      "text/plain": [
       "False"
      ]
     },
     "execution_count": 28,
     "metadata": {},
     "output_type": "execute_result"
    }
   ],
   "source": [
    "class BinTNode:\n",
    "    def __init__(self, data):\n",
    "        self.data = data\n",
    "        self.left_c = None\n",
    "        self.right_c = None\n",
    "class BST:\n",
    "    def __init__(self):\n",
    "        self.root = None\n",
    "    def create(self):\n",
    "        self.nodes = list(input(\"請輸入串列形式的節點資料: \").split())\n",
    "        for nodedata in self.nodes:\n",
    "            node = BinTNode(nodedata)\n",
    "            self.insert(node)\n",
    "    def insert(self, newnode):\n",
    "        LEFT, RIGHT = range(2)\n",
    "        if not self.root:\n",
    "            self.root = newnode\n",
    "            return\n",
    "        current = self.root\n",
    "        while current:\n",
    "            curParent = current\n",
    "            if newnode.data < current.data:\n",
    "                direction = LEFT\n",
    "                current = current.left_c\n",
    "            elif newnode.data > current.data:\n",
    "                direction = RIGHT\n",
    "                current = current.right_c\n",
    "            else:\n",
    "                return\n",
    "        if direction == LEFT:\n",
    "            curParent.left_c = newnode\n",
    "        else:\n",
    "            curParent.right_c = newnode\n",
    "    def createFromFile(self, fileName):\n",
    "        fp = open(fileName, \"r\")\n",
    "        self.nodes = list(fp.readline().split())\n",
    "        for nodedata in self.nodes:\n",
    "            node = BinTNode(nodedata)\n",
    "            self.insert(node)\n",
    "    def preorder(self, p):\n",
    "        if not p:\n",
    "            return\n",
    "        print(p.data, end = \" \")\n",
    "        self.preorder(p.left_c)\n",
    "        self.preorder(p.right_c)\n",
    "    def inorder(self, p):\n",
    "        if not p:\n",
    "            return\n",
    "        self.inorder(p.left_c)\n",
    "        print(p.data, end = \" \")\n",
    "        self.inorder(p.right_c)\n",
    "    def postorder(self, p):\n",
    "        if not p:\n",
    "            return\n",
    "        self.postorder(p.left_c)\n",
    "        self.postorder(p.right_c)\n",
    "        print(p.data, end = \" \")\n",
    "    def search(self, key):\n",
    "        current = self.root\n",
    "        while current:\n",
    "            if key < current.data:\n",
    "                current = current.left_c\n",
    "            elif key > current.data:\n",
    "                current = current.right_c\n",
    "            else:\n",
    "                return True\n",
    "        return False\n",
    "\n",
    "t = BST()\n",
    "t.createFromFile(\"bst6-28.txt\")\n",
    "t.preorder(t.root)\n",
    "key = input(\"請輸入key: \")\n",
    "t.search(key)"
   ]
  },
  {
   "cell_type": "markdown",
   "metadata": {},
   "source": [
    "## 刷題54：建立二元搜尋樹的Iterator類別"
   ]
  },
  {
   "cell_type": "code",
   "execution_count": 6,
   "metadata": {},
   "outputs": [
    {
     "name": "stdout",
     "output_type": "stream",
     "text": [
      "10\n",
      "20\n",
      "True\n"
     ]
    }
   ],
   "source": [
    "from BSTClass import *\n",
    "class BST_Iterator:\n",
    "    def __init__(self, root):\n",
    "        self.nodes = []\n",
    "        self.inorder(root)\n",
    "        self.current = 0\n",
    "    def inorder(self, node):\n",
    "        if not node:\n",
    "            return\n",
    "        self.inorder(node.left_c)\n",
    "        self.nodes.append(node.data)\n",
    "        self.inorder(node.right_c)\n",
    "    def next(self):\n",
    "        nodedata = self.nodes[self.current]\n",
    "        self.current += 1\n",
    "        return nodedata\n",
    "    def hasNext(self):\n",
    "        return self.current < len(self.nodes)\n",
    "    \n",
    "t = BST()\n",
    "t.createFromFile(\"bst6-28.txt\")\n",
    "obj = BST_Iterator(t.root)\n",
    "print(obj.next())\n",
    "print(obj.next())\n",
    "print(obj.hasNext())"
   ]
  },
  {
   "cell_type": "markdown",
   "metadata": {},
   "source": [
    "## 刷題55：計算二元搜尋樹的最小值距"
   ]
  },
  {
   "cell_type": "code",
   "execution_count": 10,
   "metadata": {},
   "outputs": [
    {
     "name": "stdout",
     "output_type": "stream",
     "text": [
      "2\n"
     ]
    }
   ],
   "source": [
    "from BSTClass import *\n",
    "from BST_IteratorClass import *\n",
    "# float(\"inf\") * (-1) == float(\"-inf\") # 結果是True\n",
    "\n",
    "t = BST()\n",
    "t.createFromFile(\"bst6-28.txt\")\n",
    "obj = BST_Iterator(t.root)\n",
    "mindiff = float(\"inf\")\n",
    "prev = -1 * float(\"inf\")\n",
    "while obj.hasNext():\n",
    "    current = int(obj.next()) # 第一次是第一筆資料\n",
    "    mindiff = min(mindiff, current - prev) # current - prev第一次執行是無限大，但這是故意的\n",
    "    prev = current\n",
    "print(mindiff)"
   ]
  },
  {
   "cell_type": "code",
   "execution_count": 22,
   "metadata": {},
   "outputs": [
    {
     "name": "stdout",
     "output_type": "stream",
     "text": [
      "inf\n"
     ]
    },
    {
     "data": {
      "text/plain": [
       "-inf"
      ]
     },
     "execution_count": 22,
     "metadata": {},
     "output_type": "execute_result"
    }
   ],
   "source": [
    "print(min(float(\"inf\"), 5 - float(\"-inf\")))\n",
    "min(float(\"inf\"), float(\"-inf\"))"
   ]
  },
  {
   "cell_type": "markdown",
   "metadata": {},
   "source": [
    "## 刷題56：找出相加等於k的兩數（Two Sum）"
   ]
  },
  {
   "cell_type": "code",
   "execution_count": 20,
   "metadata": {},
   "outputs": [
    {
     "name": "stdout",
     "output_type": "stream",
     "text": [
      "51 49\n"
     ]
    }
   ],
   "source": [
    "from BSTClass import *\n",
    "t = BST()\n",
    "t.createFromFile(\"bst6-28.txt\")\n",
    "k = int(input(\"請輸入k值: \"))\n",
    "nums = map(int, t.nodes)\n",
    "for num in nums:\n",
    "    if t.search(str(k - num)): # (k - num) in nums:也可以\n",
    "        print(num, k - num)\n",
    "        break # 如果沒有break，else也會執行\n",
    "else:\n",
    "    print(\"No answer\")"
   ]
  },
  {
   "cell_type": "markdown",
   "metadata": {},
   "source": [
    "## 刷題57：判斷二元樹是否為AVL樹"
   ]
  },
  {
   "cell_type": "code",
   "execution_count": 27,
   "metadata": {},
   "outputs": [
    {
     "name": "stdout",
     "output_type": "stream",
     "text": [
      "True False\n"
     ]
    }
   ],
   "source": [
    "from math import *\n",
    "\n",
    "class BinTNode:\n",
    "    def __init__(self, data = 0):\n",
    "        self.data = data\n",
    "        self.left_c = None\n",
    "        self.right_c = None\n",
    "class BinTree:\n",
    "    def __init__(self):\n",
    "        self.root = None\n",
    "    def read(self):\n",
    "        self.nodes = list(input(\"請輸入以串列為形式的資料: \").split())\n",
    "        self.current = 0\n",
    "        self.root = self.create()\n",
    "    def readFile(self, fileName):\n",
    "        fp = open(fileName, \"r\")\n",
    "        self.nodes = list(fp.readline().split())\n",
    "        self.current = 0\n",
    "        self.root = self.create()\n",
    "    def create(self):\n",
    "        nodedata = self.nodes[self.current]\n",
    "        self.current += 1\n",
    "        if nodedata == \"0\":\n",
    "            return\n",
    "        node = BinTNode(nodedata)\n",
    "        node.left_c = self.create()\n",
    "        node.right_c = self.create()\n",
    "        return node\n",
    "    def preorder(self, p):\n",
    "        if not p:\n",
    "            return\n",
    "        print(p.data, end = \" \")\n",
    "        self.preorder(p.left_c)\n",
    "        self.preorder(p.right_c)\n",
    "    def TestAVL(self):\n",
    "        self.balanced = True\n",
    "        self.calBF(self.root)\n",
    "    def calBF(self, node):\n",
    "        if not (node.left_c or node.right_c): # 兩邊都是None就是樹葉\n",
    "            return 1\n",
    "        if not self.balanced:\n",
    "            return 0\n",
    "        leftH = self.calBF(node.left_c) if node.left_c else 0\n",
    "        rightH = self.calBF(node.right_c) if node.right_c else 0\n",
    "        if abs(leftH - rightH) > 1:\n",
    "            self.balanced = False\n",
    "        return max(leftH, rightH) + 1\n",
    "    \n",
    "t1 = BinTree()\n",
    "t2 = BinTree()\n",
    "t1.readFile(\"btree6-29a.txt\")\n",
    "t2.readFile(\"btree6-29b.txt\")\n",
    "t1.TestAVL()\n",
    "t2.TestAVL()\n",
    "print(t1.balanced, t2.balanced)"
   ]
  },
  {
   "cell_type": "markdown",
   "metadata": {},
   "source": [
    "# 6-4樹的應用"
   ]
  },
  {
   "cell_type": "markdown",
   "metadata": {},
   "source": [
    "## 範例6.6霍夫曼編碼Huffman Encoding"
   ]
  },
  {
   "cell_type": "code",
   "execution_count": 28,
   "metadata": {},
   "outputs": [
    {
     "name": "stdout",
     "output_type": "stream",
     "text": [
      "A 101\n",
      "B 1001\n",
      "C 11\n",
      "D 01\n",
      "E 1000\n",
      "F 00\n"
     ]
    },
    {
     "data": {
      "text/plain": [
       "<__main__.HuffmanCode at 0x2234302bee0>"
      ]
     },
     "execution_count": 28,
     "metadata": {},
     "output_type": "execute_result"
    }
   ],
   "source": [
    "from queue import PriorityQueue\n",
    "\n",
    "class BinTNode:\n",
    "    def __init__(self, data):\n",
    "        self.data = data\n",
    "        self.left_c = None\n",
    "        self.right_c = None\n",
    "\n",
    "class HuffmanCode:\n",
    "    def __init__(self):\n",
    "        self.chs = list(input(\"請輸入要編碼的字元: \").split())\n",
    "        self.fs = list(map(float, input(\"請輸入字元頻率: \").split()))\n",
    "        self.codes = [None] * len(self.chs)\n",
    "        pq = PriorityQueue()\n",
    "        for i in range(len(self.chs)):\n",
    "            pq.put((self.fs[i], self.chs[i], BinTNode(self.chs[i])))\n",
    "        while pq.qsize() > 1:\n",
    "            f1, a1, node1 = pq.get()\n",
    "            f2, a2, node2 = pq.get()\n",
    "            newnode = BinTNode(\"X\")\n",
    "            newnode.left_c = node1\n",
    "            newnode.right_c = node2\n",
    "            pq.put((f1 + f2, \"X\", newnode))\n",
    "        f, a, root = pq.get()\n",
    "        self.curcode = []\n",
    "        self.encodeTable(root)\n",
    "        for i in range(len(self.chs)):\n",
    "            print(self.chs[i], self.codes[i])\n",
    "\n",
    "    def encodeTable(self, node):\n",
    "        if not (node.left_c or node.right_c):\n",
    "            i = self.chs.index(node.data)\n",
    "            self.codes[i] = \"\".join(self.curcode)\n",
    "            self.curcode.pop()\n",
    "            return\n",
    "        self.curcode.append(\"0\")\n",
    "        self.encodeTable(node.left_c)\n",
    "        self.curcode.append(\"1\")\n",
    "        self.encodeTable(node.right_c)\n",
    "        if len(self.curcode):\n",
    "            self.curcode.pop()\n",
    "\n",
    "HuffmanCode()\n",
    "#輸入範例\n",
    "#A B C D E F\n",
    "#15 8 30 27 5 15\n",
    "#輸出\n",
    "#A 101\n",
    "#B 1001\n",
    "#C 11\n",
    "#D 01\n",
    "#E 1000\n",
    "#F 00"
   ]
  },
  {
   "cell_type": "markdown",
   "metadata": {},
   "source": [
    "## 刷題58：連接木棍的最小花費"
   ]
  },
  {
   "cell_type": "code",
   "execution_count": 4,
   "metadata": {},
   "outputs": [
    {
     "data": {
      "text/plain": [
       "23"
      ]
     },
     "execution_count": 4,
     "metadata": {},
     "output_type": "execute_result"
    }
   ],
   "source": [
    "from queue import PriorityQueue\n",
    "\n",
    "class BinTNode:\n",
    "    def __init__(self, data):\n",
    "        self.data = data\n",
    "        self.left_c = None\n",
    "        self.right_c = None\n",
    "class StickConnection:\n",
    "    def __init__(self):\n",
    "        self.ws = list(map(int, input(\"請輸入權重: \").split())) # weights\n",
    "        self.totalCost = 0 # self.totalLen\n",
    "        pq = PriorityQueue()\n",
    "        for i in range(len(self.ws)):\n",
    "            pq.put((self.ws[i], BinTNode(self.ws[i])))\n",
    "        while pq.qsize() > 1:\n",
    "            w1, node1 = pq.get()\n",
    "            w2, node2 = pq.get()\n",
    "            newnode = BinTNode(w1 + w2)\n",
    "            newnode.left_c = node1\n",
    "            newnode.right_c = node2\n",
    "            pq.put((w1 + w2, newnode))\n",
    "            self.totalCost += (w1 + w2)\n",
    "\n",
    "w = StickConnection()\n",
    "w.totalCost\n",
    "#輸入範例\n",
    "#2 9 5\n",
    "#輸出 23"
   ]
  },
  {
   "cell_type": "code",
   "execution_count": 5,
   "metadata": {},
   "outputs": [
    {
     "data": {
      "text/plain": [
       "23"
      ]
     },
     "execution_count": 5,
     "metadata": {},
     "output_type": "execute_result"
    }
   ],
   "source": [
    "from queue import PriorityQueue\n",
    "\n",
    "class StickConnection:\n",
    "    def __init__(self):\n",
    "        self.ws = list(map(int, input(\"請輸入權重: \").split()))\n",
    "        self.totalCost = 0\n",
    "        pq = PriorityQueue()\n",
    "        for i in range(len(self.ws)):\n",
    "            pq.put(self.ws[i])\n",
    "        while pq.qsize() > 1:\n",
    "            w1 = pq.get()\n",
    "            w2 = pq.get()\n",
    "            pq.put(w1 + w2)\n",
    "            self.totalCost += (w1 + w2)\n",
    "\n",
    "w = StickConnection()\n",
    "w.totalCost\n",
    "#輸入範例\n",
    "#2 9 5\n",
    "#輸出 23"
   ]
  }
 ],
 "metadata": {
  "kernelspec": {
   "display_name": "base",
   "language": "python",
   "name": "python3"
  },
  "language_info": {
   "codemirror_mode": {
    "name": "ipython",
    "version": 3
   },
   "file_extension": ".py",
   "mimetype": "text/x-python",
   "name": "python",
   "nbconvert_exporter": "python",
   "pygments_lexer": "ipython3",
   "version": "3.9.7"
  }
 },
 "nbformat": 4,
 "nbformat_minor": 2
}
