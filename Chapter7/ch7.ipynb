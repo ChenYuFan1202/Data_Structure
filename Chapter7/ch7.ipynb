{
 "cells": [
  {
   "cell_type": "markdown",
   "metadata": {},
   "source": [
    "# 7-1 基本排序法"
   ]
  },
  {
   "cell_type": "markdown",
   "metadata": {},
   "source": [
    "## 範例7.1 設計氣泡排序法"
   ]
  },
  {
   "cell_type": "code",
   "execution_count": 2,
   "metadata": {},
   "outputs": [
    {
     "data": {
      "text/plain": [
       "[19, 25, 37, 41, 41, 49, 56, 61, 81]"
      ]
     },
     "execution_count": 2,
     "metadata": {},
     "output_type": "execute_result"
    }
   ],
   "source": [
    "def bubble_sort(a):\n",
    "    for i in range(len(a) - 1, 0, -1):\n",
    "        for j in range(1, i + 1):\n",
    "            if a[j - 1] > a[j]:\n",
    "                a[j - 1], a[j] = a[j], a[j - 1]\n",
    "\n",
    "data = [37, 41, 19, 81, 41, 25, 56, 61, 49]\n",
    "bubble_sort(data)\n",
    "data"
   ]
  },
  {
   "cell_type": "markdown",
   "metadata": {},
   "source": [
    "## 延伸刷題：設計最佳狀況為O(n)的氣泡排序法"
   ]
  },
  {
   "cell_type": "code",
   "execution_count": 3,
   "metadata": {},
   "outputs": [
    {
     "data": {
      "text/plain": [
       "[19, 25, 37, 41, 41, 49, 56, 61, 81]"
      ]
     },
     "execution_count": 3,
     "metadata": {},
     "output_type": "execute_result"
    }
   ],
   "source": [
    "def bubble_sort2(a):\n",
    "    for i in range(len(a) - 1, 0, -1):\n",
    "        swapFlag = False\n",
    "        for j in range(1, i + 1):\n",
    "            if a[j - 1] > a[j]:\n",
    "                a[j - 1], a[j] = a[j], a[j - 1]\n",
    "                swapFlag = True\n",
    "        if not swapFlag: # 排完一回後，都沒有變動就是排好了\n",
    "            return \n",
    "        \n",
    "data = [37, 41, 19, 81, 41, 25, 56, 61, 49]\n",
    "bubble_sort2(data)\n",
    "data"
   ]
  },
  {
   "cell_type": "markdown",
   "metadata": {},
   "source": [
    "## 範例7.2 設計選擇排序法"
   ]
  },
  {
   "cell_type": "code",
   "execution_count": 4,
   "metadata": {},
   "outputs": [
    {
     "data": {
      "text/plain": [
       "[19, 25, 37, 41, 41, 49, 56, 61, 81]"
      ]
     },
     "execution_count": 4,
     "metadata": {},
     "output_type": "execute_result"
    }
   ],
   "source": [
    "def selection_sort(a):\n",
    "    for i in range(len(a) - 1, 0, -1):\n",
    "        maxpos = 0\n",
    "        for j in range(1, i + 1):\n",
    "            if a[j] > a[maxpos]:\n",
    "                maxpos = j\n",
    "        a[maxpos], a[i] = a[i], a[maxpos]\n",
    "data = [37, 41, 19, 81, 41, 25, 56, 61, 49]\n",
    "selection_sort(data)\n",
    "data"
   ]
  },
  {
   "cell_type": "markdown",
   "metadata": {},
   "source": [
    "## 刷題59：將數字組合成最大數"
   ]
  },
  {
   "cell_type": "code",
   "execution_count": 5,
   "metadata": {},
   "outputs": [
    {
     "name": "stdout",
     "output_type": "stream",
     "text": [
      "9534330\n"
     ]
    }
   ],
   "source": [
    "def isLarger(a, b):\n",
    "    if str(a) + str(b) >= str(b) + str(a):\n",
    "        return True\n",
    "    return False\n",
    "def largestNum(nums):\n",
    "    result = \"\"\n",
    "    while len(nums):\n",
    "        largestPos = 0\n",
    "        for j in range(1, len(nums)):\n",
    "            if isLarger(nums[j], nums[largestPos]):\n",
    "                largestPos = j\n",
    "        result += str(nums[largestPos])\n",
    "        nums.remove(nums[largestPos])\n",
    "    return result\n",
    "\n",
    "nums = [3, 30, 34, 9, 5]\n",
    "print(largestNum(nums))"
   ]
  },
  {
   "cell_type": "markdown",
   "metadata": {},
   "source": [
    "## 範例7.3 設計插入排序法"
   ]
  },
  {
   "cell_type": "code",
   "execution_count": 21,
   "metadata": {},
   "outputs": [
    {
     "data": {
      "text/plain": [
       "[19, 25, 37, 41, 41, 49, 56, 61, 81]"
      ]
     },
     "execution_count": 21,
     "metadata": {},
     "output_type": "execute_result"
    }
   ],
   "source": [
    "def insertion_sort(a):\n",
    "    for i in range(1, len(a)):\n",
    "        up = a[i]\n",
    "        j = i\n",
    "        while j > 0 and a[j - 1] > up:\n",
    "            a[j] = a[j - 1]\n",
    "            j -= 1\n",
    "        a[j] = up\n",
    "\n",
    "data = [37, 41, 19, 81, 41, 25, 56, 61, 49]\n",
    "insertion_sort(data)\n",
    "data"
   ]
  },
  {
   "cell_type": "markdown",
   "metadata": {},
   "source": [
    "## 刷題60：以最少移動數讓學生坐定位"
   ]
  },
  {
   "cell_type": "code",
   "execution_count": 22,
   "metadata": {},
   "outputs": [
    {
     "name": "stdout",
     "output_type": "stream",
     "text": [
      "9\n"
     ]
    }
   ],
   "source": [
    "def seatStudent(seats, students):\n",
    "    seats.sort()\n",
    "    students.sort()\n",
    "    totalMove = 0\n",
    "    for i in range(len(seats)):\n",
    "        totalMove += abs(students[i] - seats[i])\n",
    "    return totalMove\n",
    "\n",
    "inSeats = list(map(int, input(\"請輸入椅子位置: \").split())) # 1, 13, 3\n",
    "inStudents = list(map(int, input(\"請輸入學生位置: \").split())) # 2, 10, 8\n",
    "print(seatStudent(inSeats, inStudents))"
   ]
  },
  {
   "cell_type": "markdown",
   "metadata": {},
   "source": [
    "## 刷題61：按照出現頻率排序資料"
   ]
  },
  {
   "cell_type": "code",
   "execution_count": 25,
   "metadata": {},
   "outputs": [
    {
     "name": "stdout",
     "output_type": "stream",
     "text": [
      "[5, 9, 7, 7, 8, 8, 8]\n"
     ]
    }
   ],
   "source": [
    "nums = list(map(int, input(\"請輸入帶排序資料: \").split())) # 8 7 5 7 8 9 8 # 5和9是看誰先就先列出來\n",
    "count = {}\n",
    "for num in nums:\n",
    "    count[num] = count.get(num, 0) + 1\n",
    "\n",
    "nums.sort(key = lambda num: count[num])\n",
    "print(nums)"
   ]
  },
  {
   "cell_type": "markdown",
   "metadata": {},
   "source": [
    "## 刷題62：排序單向鏈結串列資料"
   ]
  },
  {
   "cell_type": "code",
   "execution_count": 5,
   "metadata": {},
   "outputs": [
    {
     "name": "stdout",
     "output_type": "stream",
     "text": [
      "4 1 8 5 \n",
      "1 4 5 8 \n"
     ]
    }
   ],
   "source": [
    "class ListNode:\n",
    "    def __init__(self, data = 0):\n",
    "        self.data = data\n",
    "        self.next = None\n",
    "class LinkedList:\n",
    "    def __init__(self):\n",
    "        self._head = None\n",
    "        self._size = 0\n",
    "    def append(self, value):\n",
    "        p = self._head\n",
    "        new_node = ListNode(value)\n",
    "        self._size += 1\n",
    "        if p == None:\n",
    "            self._head = new_node\n",
    "            return\n",
    "        while p.next != None:\n",
    "            p = p.next\n",
    "        p.next = new_node\n",
    "    def print(self):\n",
    "        p = self._head\n",
    "        while p != None:\n",
    "            print(p.data, end = \" \")\n",
    "            p = p.next\n",
    "        print()\n",
    "    def sort(self):\n",
    "        left = self._head\n",
    "        while left.next: # left有無加next是一樣的\n",
    "            min_pos = left\n",
    "            p = left.next\n",
    "            while p: # 要比到最後，所以不能加next\n",
    "                if p.data < min_pos.data:\n",
    "                    min_pos = p\n",
    "                p = p.next\n",
    "            min_pos.data, left.data = left.data, min_pos.data\n",
    "            left = left.next\n",
    "\n",
    "a = LinkedList()\n",
    "a.append(4)\n",
    "a.append(1)\n",
    "a.append(8)\n",
    "a.append(5)\n",
    "a.print()\n",
    "a.sort()\n",
    "a.print()"
   ]
  },
  {
   "cell_type": "markdown",
   "metadata": {},
   "source": [
    "# 7-2 進階排序法"
   ]
  },
  {
   "cell_type": "markdown",
   "metadata": {},
   "source": [
    "## 刷題63：合併兩個排序好的陣列"
   ]
  },
  {
   "cell_type": "code",
   "execution_count": 6,
   "metadata": {},
   "outputs": [
    {
     "name": "stdout",
     "output_type": "stream",
     "text": [
      "[1, 2, 3, 5, 8, 9, 10]\n"
     ]
    }
   ],
   "source": [
    "def merge1(a, b):\n",
    "    c = [0] * (len(a) + len(b))\n",
    "    i = j = k = 0\n",
    "    while i < len(a) and j < len(b):\n",
    "        if a[i] <= b[j]:\n",
    "            c[k] = a[i]\n",
    "            i += 1\n",
    "        else:\n",
    "            c[k] = b[j]\n",
    "            j += 1\n",
    "        k += 1\n",
    "    while i < len(a):\n",
    "        c[k] = a[i]\n",
    "        i += 1\n",
    "        k += 1\n",
    "    while j < len(b):\n",
    "        c[k] = b[j]\n",
    "        j += 1\n",
    "        k += 1\n",
    "    return c\n",
    "\n",
    "a1 = list(map(int, input(\"請輸入第一個串列: \").split()))\n",
    "b1 = list(map(int, input(\"請輸入第二個串列: \").split()))\n",
    "print(merge1(a1, b1))\n",
    "\n",
    "#輸入範例\n",
    "#1 3 8\n",
    "#2 5 9 10\n",
    "#輸出  1 2 3 5 8 9 10"
   ]
  },
  {
   "cell_type": "code",
   "execution_count": 13,
   "metadata": {},
   "outputs": [
    {
     "name": "stdout",
     "output_type": "stream",
     "text": [
      "[1, 2, 3, 5, 8, 9, 10]\n"
     ]
    }
   ],
   "source": [
    "def merge2(a, b):\n",
    "    c = [0] * (len(a) + len(b))\n",
    "    a.append(float(\"inf\"))\n",
    "    b.append(float(\"inf\"))\n",
    "    i = j = 0\n",
    "    for k in range(len(c)):\n",
    "        if a[i] <= b[j]:\n",
    "            c[k] = a[i]\n",
    "            i += 1\n",
    "        else:\n",
    "            c[k] = b[j]\n",
    "            j += 1\n",
    "    return c\n",
    "\n",
    "a1 = list(map(int, input(\"請輸入第一個串列: \").split()))\n",
    "b1 = list(map(int, input(\"請輸入第二個串列: \").split()))\n",
    "print(merge2(a1, b1))\n",
    "\n",
    "#輸入範例\n",
    "#1 3 8\n",
    "#2 5 9 10\n",
    "#輸出  1 2 3 5 8 9 10"
   ]
  },
  {
   "cell_type": "markdown",
   "metadata": {},
   "source": [
    "## 範例7.4 設計合併排序法"
   ]
  },
  {
   "cell_type": "code",
   "execution_count": 2,
   "metadata": {},
   "outputs": [
    {
     "name": "stdout",
     "output_type": "stream",
     "text": [
      "[19, 25, 37, 41, 41, 49, 56, 61, 81]\n"
     ]
    }
   ],
   "source": [
    "def merge_sort(a, b, left, right):\n",
    "    if left == right:\n",
    "        return\n",
    "    m = (left + right) // 2\n",
    "    merge_sort(a, b, left, m)\n",
    "    merge_sort(a, b, m + 1, right)\n",
    "    merge(a, b, left, m, right)\n",
    "def merge(a, b, left, m, right):\n",
    "    if left > m or m + 1 > right:\n",
    "        return\n",
    "    for i in range(left, m + 1):\n",
    "        b[i] = a[i]\n",
    "    for j in range(m + 1, right + 1):\n",
    "        b[j] = a[right - (j - (m + 1))]\n",
    "    i = left\n",
    "    j = right\n",
    "    for k in range(right - left + 1):\n",
    "        if b[i] <= b[j]:\n",
    "            a[left + k] = b[i]\n",
    "            i += 1\n",
    "        else:\n",
    "            a[left + k] = b[j]\n",
    "            j -= 1\n",
    "\n",
    "a1 = list(map(int, input(\"請輸入串列a資料: \").split())) # 37 41 19 81 41 25 56 61 49\n",
    "b1 = [0] * len(a1)\n",
    "merge_sort(a1, b1, 0, len(a1) - 1)\n",
    "print(a1)"
   ]
  },
  {
   "cell_type": "markdown",
   "metadata": {},
   "source": [
    "## 範例7.5 非遞迴的合併排序法"
   ]
  },
  {
   "cell_type": "code",
   "execution_count": 5,
   "metadata": {},
   "outputs": [
    {
     "name": "stdout",
     "output_type": "stream",
     "text": [
      "[19, 25, 37, 41, 41, 49, 56, 61, 81]\n"
     ]
    }
   ],
   "source": [
    "def merge_sort(a):\n",
    "    b = [0] * len(a)\n",
    "    size = 1\n",
    "    while size < len(a):\n",
    "        for i in range(0, len(a), 2 * size):\n",
    "            merge(a, b, i, i + size - 1, min(i + 2 * size - 1, len(a) - 1))\n",
    "        size *= 2\n",
    "def merge(a, b, left, m, right):\n",
    "    if left > m or m + 1 > right:\n",
    "        return\n",
    "    for i in range(left, m + 1):\n",
    "        b[i] = a[i]\n",
    "    for j in range(m + 1, right + 1):\n",
    "        b[j] = a[right - (j - (m + 1))]\n",
    "    i = left\n",
    "    j = right\n",
    "    for k in range(right - left + 1):\n",
    "        if b[i] < b[j]:\n",
    "            a[left + k] = b[i]\n",
    "            i += 1\n",
    "        else:\n",
    "            a[left + k] = b[j]\n",
    "            j -= 1\n",
    "\n",
    "\n",
    "a1 = list(map(int, input(\"請輸入串列a資料: \").split())) # 37 41 19 81 41 25 56 61 49\n",
    "merge_sort(a1)\n",
    "print(a1)"
   ]
  },
  {
   "cell_type": "markdown",
   "metadata": {},
   "source": [
    "## 刷題64：分割資料"
   ]
  },
  {
   "cell_type": "code",
   "execution_count": 23,
   "metadata": {},
   "outputs": [
    {
     "name": "stdout",
     "output_type": "stream",
     "text": [
      "3\n",
      "[25, 21, 19, 40, 41, 81, 56, 41, 61, 49]\n"
     ]
    }
   ],
   "source": [
    "def partition(a, left, right):\n",
    "    i = left + 1\n",
    "    j = right\n",
    "    pivot = a[left]\n",
    "    while True:\n",
    "        while i <= right and a[i] <= pivot:\n",
    "            i += 1\n",
    "        while j > left and a[j] >= pivot:\n",
    "            j -= 1\n",
    "        if i > j:\n",
    "            break\n",
    "        a[i], a[j] = a[j], a[i]\n",
    "    a[left], a[j] = a[j], a[left] # pivot不行\n",
    "    return j\n",
    "\n",
    "a1 = list(map(int, input(\"請輸入串列資料: \").split())) # 40 41 19 81 41 25 56 21 61 49\n",
    "print(partition(a1, 0, len(a1) - 1))\n",
    "print(a1)"
   ]
  },
  {
   "cell_type": "code",
   "execution_count": 27,
   "metadata": {},
   "outputs": [
    {
     "data": {
      "text/plain": [
       "[10, 10]"
      ]
     },
     "execution_count": 27,
     "metadata": {},
     "output_type": "execute_result"
    }
   ],
   "source": [
    "a = [10, 20]\n",
    "pivot = a[0]\n",
    "pivot, a[1] = a[1], pivot\n",
    "a"
   ]
  },
  {
   "cell_type": "markdown",
   "metadata": {},
   "source": [
    "## 刷題65：將偶數排序在前"
   ]
  },
  {
   "cell_type": "code",
   "execution_count": 10,
   "metadata": {},
   "outputs": [
    {
     "name": "stdout",
     "output_type": "stream",
     "text": [
      "[20, 12, 40, 21, 17, 23, 9]\n"
     ]
    }
   ],
   "source": [
    "def evenOdd(a):\n",
    "    i = 0\n",
    "    j = len(a) - 1\n",
    "    while True:\n",
    "        while i <= len(a) - 1 and a[i] % 2 == 0:\n",
    "            i += 1\n",
    "        while j >= 0 and a[j] % 2 == 1: # 也可寫a[j] % 2\n",
    "            j -= 1\n",
    "        if i > j:\n",
    "            break\n",
    "        a[i], a[j] = a[j], a[i]\n",
    "\n",
    "a1 = list(map(int, input(\"請輸入串列資料: \").split())) # 9 12 17 21 40 23 20\n",
    "evenOdd(a1)\n",
    "print(a1)"
   ]
  },
  {
   "cell_type": "markdown",
   "metadata": {},
   "source": [
    "## 範例7.6 設計快速排序演算法"
   ]
  },
  {
   "cell_type": "code",
   "execution_count": 28,
   "metadata": {},
   "outputs": [
    {
     "data": {
      "text/plain": [
       "[19, 25, 37, 41, 41, 49, 56, 61, 81]"
      ]
     },
     "execution_count": 28,
     "metadata": {},
     "output_type": "execute_result"
    }
   ],
   "source": [
    "def partition(a, left, right):\n",
    "    i = left + 1\n",
    "    j = right\n",
    "    pivot = a[left]\n",
    "    while True:\n",
    "        while i <= right and a[i] <= pivot:\n",
    "            i += 1\n",
    "        while j > left and a[j] >= pivot:\n",
    "            j -= 1\n",
    "        if i > j:\n",
    "            break\n",
    "        a[i], a[j] = a[j], a[i]\n",
    "    # print(pivot, a[left])\n",
    "    a[left], a[j] = a[j], a[left] # a[left]才可以, pivot不行，因為前者意味著位置，後者只是數字\n",
    "    return j\n",
    "def quickSort(a, left, right):\n",
    "    if left < right:\n",
    "        m = partition(a, left, right)\n",
    "        quickSort(a, left, m - 1)\n",
    "        quickSort(a, m + 1, right)\n",
    "\n",
    "a1 = list(map(int, input(\"請輸入串列資料: \").split())) # 37 41 19 81 41 25 56 61 49\n",
    "quickSort(a1, 0, len(a1) - 1)\n",
    "a1"
   ]
  },
  {
   "cell_type": "markdown",
   "metadata": {},
   "source": [
    "## 範例7.7 設計分配法"
   ]
  },
  {
   "cell_type": "code",
   "execution_count": 11,
   "metadata": {},
   "outputs": [
    {
     "name": "stdout",
     "output_type": "stream",
     "text": [
      "[2, 2, 3, 4, 4, 5, 7, 7, 8, 8, 8, 9]\n"
     ]
    }
   ],
   "source": [
    "def distribute(a, m = 10):\n",
    "    count = [0] * m\n",
    "    b = [0] * len(a)\n",
    "    for i in range(len(a)):\n",
    "        count[a[i]] += 1\n",
    "    for j in range(1, m):\n",
    "        count[j] += count[j - 1]\n",
    "    for i in range(len(a) - 1, -1, -1):\n",
    "        b[count[a[i]] - 1] = a[i]\n",
    "        count[a[i]] -= 1\n",
    "    for i in range(len(a)):\n",
    "        a[i] = b[i]\n",
    "\n",
    "nums = list(map(int, input(\"請輸入串列資料: \").split()))# 9 8 2 3 2 4 4 7 8 5 7 8\n",
    "distribute(nums)\n",
    "print(nums)"
   ]
  },
  {
   "cell_type": "markdown",
   "metadata": {},
   "source": [
    "## 刷題66：排序顏色"
   ]
  },
  {
   "cell_type": "code",
   "execution_count": 12,
   "metadata": {},
   "outputs": [
    {
     "name": "stdout",
     "output_type": "stream",
     "text": [
      "[0, 1, 1, 2, 2]\n"
     ]
    }
   ],
   "source": [
    "def distribute(a, m = 10):\n",
    "    count = [0] * m\n",
    "    b = [0] * len(a)\n",
    "    for i in range(len(a)):\n",
    "        count[a[i]] += 1\n",
    "    for j in range(1, m):\n",
    "        count[j] += count[j - 1]\n",
    "    for i in range(len(a) - 1, -1, -1):\n",
    "        b[count[a[i]] - 1] = a[i]\n",
    "        count[a[i]] -= 1\n",
    "    for i in range(len(a)):\n",
    "        a[i] = b[i]\n",
    "\n",
    "nums = list(map(int, input(\"請輸入串列資料: \").split())) # 1 2 0 1 2\n",
    "distribute(nums, 3)\n",
    "print(nums)"
   ]
  },
  {
   "cell_type": "markdown",
   "metadata": {},
   "source": [
    "## 範例7.8 設計基數排序法"
   ]
  },
  {
   "cell_type": "code",
   "execution_count": 35,
   "metadata": {},
   "outputs": [
    {
     "name": "stdout",
     "output_type": "stream",
     "text": [
      "[98, 139, 164, 219, 334, 422, 422, 532, 655]\n"
     ]
    }
   ],
   "source": [
    "from math import *\n",
    "\n",
    "def radixSort(a, m = 10):\n",
    "    digits = floor(log(max(a), 10)) + 1\n",
    "    count = [0] * m\n",
    "    b = [0] * len(a)\n",
    "    for k in range(digits):\n",
    "        # count = [0] * m # 在裡面也可以\n",
    "        # b = [0] * len(a)\n",
    "        for i in range(m):\n",
    "            count[i] = 0\n",
    "        for i in range(len(a)):\n",
    "            d = get_digit(a[i], k, m)\n",
    "            count[d] += 1\n",
    "        for j in range(1, m):\n",
    "            count[j] += count[j - 1]\n",
    "        for i in range(len(a) - 1, -1, -1):\n",
    "            d = get_digit(a[i], k, m)\n",
    "            b[count[d] - 1] = a[i]\n",
    "            count[d] -= 1\n",
    "        for i in range(len(a)):\n",
    "            a[i] = b[i]\n",
    "\n",
    "def get_digit(num, k, m):\n",
    "    d = num // m ** k\n",
    "    d = d % m\n",
    "    return d\n",
    "\n",
    "a1 = list(map(int, input(\"請輸入串列資料: \").split())) # 139 219 532 655 422 164 098 422 334\n",
    "radixSort(a1)\n",
    "print(a1)"
   ]
  },
  {
   "cell_type": "markdown",
   "metadata": {},
   "source": [
    "## 範例7.9 設計堆積類別"
   ]
  },
  {
   "cell_type": "code",
   "execution_count": 16,
   "metadata": {},
   "outputs": [
    {
     "data": {
      "text/plain": [
       "[1, 2]"
      ]
     },
     "execution_count": 16,
     "metadata": {},
     "output_type": "execute_result"
    }
   ],
   "source": [
    "a = [1, 2, 3]\n",
    "del (a[-1])\n",
    "a"
   ]
  },
  {
   "cell_type": "code",
   "execution_count": 39,
   "metadata": {},
   "outputs": [
    {
     "name": "stdout",
     "output_type": "stream",
     "text": [
      "[50]\n",
      "[80, 50]\n",
      "[80, 50, 70]\n",
      "80\n",
      "[70, 50]\n",
      "70\n",
      "[50]\n"
     ]
    }
   ],
   "source": [
    "class maxHeap:\n",
    "    def __init__(self):\n",
    "        self.nodes = []\n",
    "    def put(self, data):\n",
    "        self.nodes.append(data)\n",
    "        i = len(self.nodes) - 1\n",
    "        while i > 0:\n",
    "            f = (i - 1) // 2\n",
    "            if self.nodes[f] < self.nodes[i]:\n",
    "                self.nodes[f], self.nodes[i] = self.nodes[i], self.nodes[f]\n",
    "                i = f\n",
    "            else:\n",
    "                break\n",
    "    def get(self):\n",
    "        if len(self.nodes) == 0:\n",
    "            return None\n",
    "        root = self.nodes[0]\n",
    "        up = self.nodes[len(self.nodes) - 1]\n",
    "        del self.nodes[-1]\n",
    "        k = 0\n",
    "        while k < len(self.nodes) // 2:\n",
    "            bc = 2 * k + 1\n",
    "            if bc + 1 < len(self.nodes) and self.nodes[bc + 1] > self.nodes[bc]:\n",
    "                bc += 1\n",
    "            if up >= self.nodes[bc]:\n",
    "                break\n",
    "            self.nodes[k] = self.nodes[bc]\n",
    "            k = bc\n",
    "        self.nodes[k] = up # 如果全部被取出會出錯\n",
    "        return root\n",
    "\n",
    "nums = list(map(int, input(\"請輸入串列資料: \").split())) # 50 80 70\n",
    "maxh = maxHeap()\n",
    "for num in nums:\n",
    "    maxh.put(num)\n",
    "    print(maxh.nodes)\n",
    "print(maxh.get())\n",
    "print(maxh.nodes)\n",
    "print(maxh.get())\n",
    "print(maxh.nodes)"
   ]
  },
  {
   "cell_type": "markdown",
   "metadata": {},
   "source": [
    "## 範例7.10 設計堆積排序法"
   ]
  },
  {
   "cell_type": "code",
   "execution_count": 41,
   "metadata": {},
   "outputs": [
    {
     "name": "stdout",
     "output_type": "stream",
     "text": [
      "[21, 21, 34, 49, 54, 66, 71, 81]\n"
     ]
    }
   ],
   "source": [
    "def heapSort(nums):\n",
    "    buildHeap(nums)\n",
    "    n = len(nums)\n",
    "    while n > 0:\n",
    "        nums[n - 1], nums[0] = nums[0], nums[n - 1]\n",
    "        n -= 1\n",
    "        siftDown(nums, n, 0)\n",
    "\n",
    "def buildHeap(nums):\n",
    "    n = len(nums)\n",
    "    for k in range(n // 2 - 1, -1, -1):\n",
    "        siftDown(nums, n, k)\n",
    "\n",
    "def siftDown(nums, n, k):\n",
    "    up = nums[k]\n",
    "    while k < n // 2:\n",
    "        bs = 2 * k + 1\n",
    "        if bs + 1 < n and nums[bs + 1] > nums[bs]:\n",
    "            bs += 1\n",
    "        if up >= nums[bs]:\n",
    "            break\n",
    "        else:\n",
    "            nums[k] = nums[bs]\n",
    "            k = bs\n",
    "    nums[k] = up\n",
    "\n",
    "nums = list(map(int, input(\"請輸入串列資料: \").split())) # 66 34 21 49 71 21 81 54\n",
    "heapSort(nums)\n",
    "print(nums)"
   ]
  }
 ],
 "metadata": {
  "kernelspec": {
   "display_name": "Python 3",
   "language": "python",
   "name": "python3"
  },
  "language_info": {
   "codemirror_mode": {
    "name": "ipython",
    "version": 3
   },
   "file_extension": ".py",
   "mimetype": "text/x-python",
   "name": "python",
   "nbconvert_exporter": "python",
   "pygments_lexer": "ipython3",
   "version": "3.9.7"
  }
 },
 "nbformat": 4,
 "nbformat_minor": 2
}
