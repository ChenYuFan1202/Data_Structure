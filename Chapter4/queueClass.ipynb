{
 "cells": [
  {
   "cell_type": "code",
   "execution_count": 2,
   "id": "c9fd3c93",
   "metadata": {},
   "outputs": [
    {
     "name": "stdout",
     "output_type": "stream",
     "text": [
      "True\n",
      "4\n",
      "5 6 \n"
     ]
    }
   ],
   "source": [
    "class Queue:\n",
    "    def __init__(self):\n",
    "        self.item = list()\n",
    "    def isEmpty(self):\n",
    "        return len(self.item) == 0\n",
    "    def isFull(self):\n",
    "        return False\n",
    "    def enQueue(self, value):\n",
    "        if not self.isFull():\n",
    "            self.item.append(value)\n",
    "    def deQueue(self):\n",
    "        if not self.isEmpty():\n",
    "            return self.item.pop(0)\n",
    "        return None\n",
    "    def peekFront(self):\n",
    "        if not self.isEmpty():\n",
    "            return self.item[0]\n",
    "        return None\n",
    "    def peekRear(self):\n",
    "        if not self.isEmpty():\n",
    "            return self.item[-1]\n",
    "        return None\n",
    "    def print(self):\n",
    "        for i in range(len(self.item)):\n",
    "            print(self.item[i], end = \" \")\n",
    "        print()\n",
    "#         for item in self.item:\n",
    "#             print(item, end = \" \")\n",
    "#         print()\n",
    "        \n",
    "def main():\n",
    "    a = Queue()\n",
    "    print(a.isEmpty())\n",
    "    a.enQueue(4)\n",
    "    a.enQueue(5)\n",
    "    a.enQueue(6)\n",
    "    print(a.deQueue())\n",
    "    a.print()\n",
    "        \n",
    "if __name__ == \"__main__\":\n",
    "    main()"
   ]
  }
 ],
 "metadata": {
  "kernelspec": {
   "display_name": "Python 3 (ipykernel)",
   "language": "python",
   "name": "python3"
  },
  "language_info": {
   "codemirror_mode": {
    "name": "ipython",
    "version": 3
   },
   "file_extension": ".py",
   "mimetype": "text/x-python",
   "name": "python",
   "nbconvert_exporter": "python",
   "pygments_lexer": "ipython3",
   "version": "3.9.7"
  }
 },
 "nbformat": 4,
 "nbformat_minor": 5
}
