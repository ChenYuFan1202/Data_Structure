{
 "cells": [
  {
   "cell_type": "markdown",
   "id": "41faaf63",
   "metadata": {},
   "source": [
    "# 4-1堆疊（Stack）"
   ]
  },
  {
   "cell_type": "markdown",
   "id": "8791ebc3",
   "metadata": {},
   "source": [
    "## 範例4-1用堆疊將字串反轉"
   ]
  },
  {
   "cell_type": "code",
   "execution_count": 9,
   "id": "0dc21519",
   "metadata": {},
   "outputs": [
    {
     "data": {
      "text/plain": [
       "['V', 'i', 'c', 'k']"
      ]
     },
     "execution_count": 9,
     "metadata": {},
     "output_type": "execute_result"
    }
   ],
   "source": [
    "list(\"Vick\")"
   ]
  },
  {
   "cell_type": "code",
   "execution_count": 11,
   "id": "f11b2f47",
   "metadata": {},
   "outputs": [
    {
     "name": "stdout",
     "output_type": "stream",
     "text": [
      "請輸入一段文字: vick\n",
      "top to bottom: k c i v \n",
      "kciv"
     ]
    }
   ],
   "source": [
    "from stackClass import *\n",
    "\n",
    "in_word = list(input(\"請輸入一段文字: \"))\n",
    "myStack = Stack()\n",
    "for ch in in_word:\n",
    "    myStack.push(ch)\n",
    "myStack.print()\n",
    "while not myStack.isEmpty():\n",
    "    print(myStack.pop(), end = \"\")\n",
    "#myStack.print()"
   ]
  },
  {
   "cell_type": "code",
   "execution_count": 13,
   "id": "321246c0",
   "metadata": {},
   "outputs": [
    {
     "data": {
      "text/plain": [
       "0"
      ]
     },
     "execution_count": 13,
     "metadata": {},
     "output_type": "execute_result"
    }
   ],
   "source": [
    "a = list()\n",
    "len(a)"
   ]
  },
  {
   "cell_type": "markdown",
   "id": "0fd4972f",
   "metadata": {},
   "source": [
    "## 刷題28：判斷回文數字（堆疊版）"
   ]
  },
  {
   "cell_type": "code",
   "execution_count": 11,
   "id": "b753552b",
   "metadata": {},
   "outputs": [
    {
     "name": "stdout",
     "output_type": "stream",
     "text": [
      "請輸入一段數字: 1231\n",
      "False\n"
     ]
    }
   ],
   "source": [
    "from stackClass import *\n",
    "\n",
    "def palindrome(str):\n",
    "    mystack = Stack()\n",
    "    for ch in str:\n",
    "        mystack.push(ch)\n",
    "    for ch in str:\n",
    "        if mystack.pop() != ch:\n",
    "            return False\n",
    "    return True\n",
    "\n",
    "in_word = list(input(\"請輸入一段數字: \"))\n",
    "print(palindrome(in_word))"
   ]
  },
  {
   "cell_type": "code",
   "execution_count": 15,
   "id": "8d086ed6",
   "metadata": {},
   "outputs": [
    {
     "name": "stdout",
     "output_type": "stream",
     "text": [
      "請輸入一段數字: 1231\n",
      "False\n"
     ]
    }
   ],
   "source": [
    "from stackClass import *\n",
    "\n",
    "def palindrome(str):\n",
    "    mystack = Stack()\n",
    "    for ch in str:\n",
    "        mystack.push(ch)\n",
    "    for i in range(len(str) // 2):\n",
    "        if mystack.pop() != str[i]:\n",
    "            return False\n",
    "    return True\n",
    "\n",
    "in_word = list(input(\"請輸入一段數字: \"))\n",
    "print(palindrome(in_word))"
   ]
  },
  {
   "cell_type": "markdown",
   "id": "1c277b29",
   "metadata": {},
   "source": [
    "## 刷題29：最小值堆疊"
   ]
  },
  {
   "cell_type": "code",
   "execution_count": 23,
   "id": "7a1e773d",
   "metadata": {},
   "outputs": [
    {
     "data": {
      "text/plain": [
       "1"
      ]
     },
     "execution_count": 23,
     "metadata": {},
     "output_type": "execute_result"
    }
   ],
   "source": [
    "a = [(1, 2)]\n",
    "a.pop()[0]"
   ]
  },
  {
   "cell_type": "code",
   "execution_count": 30,
   "id": "d8af76d1",
   "metadata": {},
   "outputs": [
    {
     "name": "stdout",
     "output_type": "stream",
     "text": [
      "4\n",
      "4\n",
      "6\n"
     ]
    }
   ],
   "source": [
    "class MinStack:\n",
    "    def __init__(self):\n",
    "        self.item = list()\n",
    "    def isEmpty(self):\n",
    "        return len(self.item) == 0\n",
    "    def push(self, value):\n",
    "        minvalue = min(value, self.getMin())\n",
    "        self.item.append((value, minvalue))\n",
    "    def getMin(self):\n",
    "        if len(self.item) == 0:\n",
    "            return float(\"inf\")\n",
    "        return self.item[-1][1]\n",
    "    def pop(self):\n",
    "        if not self.isEmpty():\n",
    "            value, minvalue = self.item.pop()\n",
    "            #value = self.item.pop()[0]\n",
    "            return value\n",
    "        return None\n",
    "    def peek(self):\n",
    "        if not self.isEmpty():\n",
    "            return self.item[-1][0]\n",
    "        return None\n",
    "    \n",
    "a = MinStack()\n",
    "# print(a.getMin())\n",
    "a.push(6)\n",
    "a.push(4)\n",
    "print(a.getMin())\n",
    "print(a.pop())\n",
    "a.push(9)\n",
    "print(a.getMin())"
   ]
  },
  {
   "cell_type": "code",
   "execution_count": 10,
   "id": "15be8d32",
   "metadata": {},
   "outputs": [
    {
     "name": "stdout",
     "output_type": "stream",
     "text": [
      "4\n",
      "4\n",
      "6\n"
     ]
    }
   ],
   "source": [
    "class MinStack:\n",
    "    def __init__(self):\n",
    "        self.item = list()\n",
    "    def isEmpty(self):\n",
    "        return len(self.item) == 0\n",
    "    def push(self, value):\n",
    "        minvalue = min(value, self.getMin())\n",
    "        self.item.append((value, minvalue))\n",
    "    def getMin(self):\n",
    "        if not self.isEmpty():\n",
    "            return self.item[-1][1]\n",
    "        return float(\"inf\")\n",
    "    def pop(self):\n",
    "        if not self.isEmpty():\n",
    "            return self.item.pop()[0]\n",
    "        return None\n",
    "    def peek(self):\n",
    "        if not self.isEmpty():\n",
    "            return self.item[-1][0]\n",
    "        return None\n",
    "\n",
    "a = MinStack()\n",
    "# print(a.getMin())\n",
    "a.push(6)\n",
    "a.push(4)\n",
    "print(a.getMin())\n",
    "print(a.pop())\n",
    "a.push(9)\n",
    "print(a.getMin())"
   ]
  },
  {
   "cell_type": "markdown",
   "id": "366ef615",
   "metadata": {},
   "source": [
    "## 刷題30：檢查括號的正確性"
   ]
  },
  {
   "cell_type": "code",
   "execution_count": 12,
   "id": "145a2826",
   "metadata": {},
   "outputs": [
    {
     "name": "stdout",
     "output_type": "stream",
     "text": [
      "請輸入字串: ()[]{}\n",
      "True\n"
     ]
    }
   ],
   "source": [
    "from stackClass import *\n",
    "\n",
    "def checkBracket(str):\n",
    "    bracket = {\"(\" : \")\", \"[\" : \"]\", \"{\" : \"}\"}\n",
    "    \n",
    "    myStack = Stack()\n",
    "    for ch in str:\n",
    "        if ch in bracket:\n",
    "            #print(ch)\n",
    "            myStack.push(bracket[ch])\n",
    "        else:\n",
    "            if myStack.pop() != ch:\n",
    "                return False\n",
    "    if not myStack.isEmpty():\n",
    "        return False\n",
    "    return True\n",
    "\n",
    "in_str = input(\"請輸入字串: \")\n",
    "print(checkBracket(in_str))"
   ]
  },
  {
   "cell_type": "markdown",
   "id": "53a052d9",
   "metadata": {},
   "source": [
    "## 刷題31：驗證進出堆疊結果序列是否合理"
   ]
  },
  {
   "cell_type": "code",
   "execution_count": 19,
   "id": "2575022a",
   "metadata": {},
   "outputs": [
    {
     "data": {
      "text/plain": [
       "[]"
      ]
     },
     "execution_count": 19,
     "metadata": {},
     "output_type": "execute_result"
    }
   ],
   "source": [
    "lis = list([])\n",
    "lis"
   ]
  },
  {
   "cell_type": "code",
   "execution_count": 8,
   "id": "aa4a5d8d",
   "metadata": {},
   "outputs": [
    {
     "name": "stdout",
     "output_type": "stream",
     "text": [
      "請輸入第一個序列: 1 2 3\n",
      "請輸入第二個序列: 3 1 2\n",
      "False\n"
     ]
    }
   ],
   "source": [
    "from stackClass import *\n",
    "\n",
    "def checkSequence(pushed, popped):\n",
    "    myStack = Stack()\n",
    "    j = 0\n",
    "    for ch in popped:\n",
    "        while j < len(pushed) - 1 and ch not in myStack.item:\n",
    "            myStack.push(pushed[j])\n",
    "            j += 1\n",
    "        if ch != myStack.pop():\n",
    "            return False\n",
    "    \n",
    "\n",
    "list1 = list(input(\"請輸入第一個序列: \").split())\n",
    "list2 = input(\"請輸入第二個序列: \").split()\n",
    "print(checkSequence(list1, list2))"
   ]
  },
  {
   "cell_type": "code",
   "execution_count": 9,
   "id": "d9594517",
   "metadata": {},
   "outputs": [
    {
     "name": "stdout",
     "output_type": "stream",
     "text": [
      "請輸入第一個序列: 1 2 3\n",
      "請輸入第二個序列: 3 1 2\n",
      "False\n"
     ]
    }
   ],
   "source": [
    "from stackClass import *\n",
    "\n",
    "def checkSequence(pushed, popped):\n",
    "    j = 0\n",
    "    myStack = Stack()\n",
    "    for i in range(len(popped)):#popped:是可以的，後面就要自己修改\n",
    "        x = popped[i]\n",
    "        while j < len(pushed) and x not in myStack.item:\n",
    "            myStack.push(pushed[j])\n",
    "            j += 1\n",
    "        if myStack.pop() != x:\n",
    "            return False\n",
    "    return True\n",
    "\n",
    "list1 = list(input(\"請輸入第一個序列: \").split())\n",
    "list2 = input(\"請輸入第二個序列: \").split()\n",
    "print(checkSequence(list1, list2))"
   ]
  },
  {
   "cell_type": "markdown",
   "id": "548f2f7a",
   "metadata": {},
   "source": [
    "# 主題4-B鏈結堆疊（Linked Stack）"
   ]
  },
  {
   "cell_type": "code",
   "execution_count": 34,
   "id": "50352276",
   "metadata": {},
   "outputs": [
    {
     "name": "stdout",
     "output_type": "stream",
     "text": [
      "10\n"
     ]
    }
   ],
   "source": [
    "class ListNode:\n",
    "    def __init__(self, data = 0):\n",
    "        self.data = data\n",
    "        self.next = None\n",
    "class LinkedStack:\n",
    "    def __init__(self):\n",
    "        self._top = None\n",
    "    def push(self, value):\n",
    "        new_node = ListNode(value)\n",
    "        new_node.next = self._top\n",
    "        self._top = new_node\n",
    "    def pop(self):\n",
    "        p = self._top\n",
    "        if p:\n",
    "            self._top = p.next\n",
    "            d = p.data\n",
    "            del p\n",
    "        else:\n",
    "            d = None\n",
    "        return d\n",
    "    \n",
    "a = LinkedStack()\n",
    "a.push(40)\n",
    "a.push(30)\n",
    "a.push(20)\n",
    "a.push(10)\n",
    "print(a.pop())\n",
    "a.push(9)"
   ]
  },
  {
   "cell_type": "markdown",
   "id": "a249f7de",
   "metadata": {},
   "source": [
    "# 主題4-C運算式的轉換與計算"
   ]
  },
  {
   "cell_type": "markdown",
   "id": "7dd49cd4",
   "metadata": {},
   "source": [
    "## 範例4.2使用堆疊將中序式轉為後序式"
   ]
  },
  {
   "cell_type": "code",
   "execution_count": 2,
   "id": "320b3782",
   "metadata": {},
   "outputs": [
    {
     "data": {
      "text/plain": [
       "'a b'"
      ]
     },
     "execution_count": 2,
     "metadata": {},
     "output_type": "execute_result"
    }
   ],
   "source": [
    "lis = [\"a\", \" \", \"b\"]\n",
    "\"\".join(lis)"
   ]
  },
  {
   "cell_type": "code",
   "execution_count": 14,
   "id": "728ca66b",
   "metadata": {},
   "outputs": [
    {
     "name": "stdout",
     "output_type": "stream",
     "text": [
      "請輸入一串文字: (A + B) * C - D / E\n",
      "AB+C*DE/-\n"
     ]
    }
   ],
   "source": [
    "from stackClass import *\n",
    "\n",
    "priority = {\"(\" : 0, \"+\" : 1, \"-\" : 1, \"*\" : 2, \"/\" : 2}\n",
    "\n",
    "def operands(ch):\n",
    "    if ch.isalpha():\n",
    "        return True\n",
    "    return False\n",
    "\n",
    "def in_to_post(infix):\n",
    "    myStack = Stack()\n",
    "    postfix = []\n",
    "    for token in infix:\n",
    "        if operands(token):\n",
    "            postfix.append(token)\n",
    "        elif token == \"(\":\n",
    "            myStack.push(token)\n",
    "        elif token == \")\":\n",
    "            while not myStack.peek() == \"(\":\n",
    "                postfix.append(myStack.pop())\n",
    "            myStack.pop()\n",
    "        elif token in priority:\n",
    "            while not myStack.isEmpty():\n",
    "                if priority[token] <= priority[myStack.peek()]:\n",
    "                    postfix.append(myStack.pop())\n",
    "                else:\n",
    "                    break\n",
    "            myStack.push(token)\n",
    "    while not myStack.isEmpty():\n",
    "        postfix.append(myStack.pop())\n",
    "    return postfix\n",
    "            \n",
    "            \n",
    "\n",
    "in_str = input(\"請輸入一串文字: \")\n",
    "print(\"\".join(in_to_post(in_str)))"
   ]
  },
  {
   "cell_type": "code",
   "execution_count": 12,
   "id": "cdca45d5",
   "metadata": {},
   "outputs": [
    {
     "name": "stdout",
     "output_type": "stream",
     "text": [
      "請輸入一串文字: (a/(b-c+d))*(e-a)*c\n",
      "abc-d+/ea-*c*\n"
     ]
    }
   ],
   "source": [
    "from stackClass import *\n",
    "\n",
    "priority = {\"(\" : 0, \"+\" : 1, \"-\" : 1, \"*\" : 2, \"/\" : 2}\n",
    "\n",
    "def operands(ch):\n",
    "    if ch.isalpha():\n",
    "        return True\n",
    "    return False\n",
    "\n",
    "def in_to_post(infix):\n",
    "    myStack = Stack()\n",
    "    postfix = []\n",
    "    for token in infix:\n",
    "        if operands(token):\n",
    "            postfix.append(token)\n",
    "        elif token == \"(\":\n",
    "            myStack.push(token)\n",
    "        elif token == \")\":\n",
    "            while not myStack.isEmpty():\n",
    "                element = myStack.pop()\n",
    "                if element == \"(\":\n",
    "                    break\n",
    "                postfix.append(element)\n",
    "        elif token in priority:\n",
    "            while not myStack.isEmpty():\n",
    "                element = myStack.peek()\n",
    "                if priority[token] <= priority[element]:\n",
    "                    element = myStack.pop()\n",
    "                    postfix.append(element)\n",
    "                else:\n",
    "                    break\n",
    "            myStack.push(token)\n",
    "    while not myStack.isEmpty():\n",
    "        element = myStack.pop()\n",
    "        postfix.append(element)\n",
    "    return postfix\n",
    "\n",
    "\n",
    "in_str = input(\"請輸入一串文字: \")\n",
    "print(\"\".join(in_to_post(in_str)))"
   ]
  },
  {
   "cell_type": "markdown",
   "id": "a969c2db",
   "metadata": {},
   "source": [
    "## 範例4.3使用堆疊計算後序式的值"
   ]
  },
  {
   "cell_type": "code",
   "execution_count": 13,
   "id": "640842d0",
   "metadata": {},
   "outputs": [
    {
     "name": "stdout",
     "output_type": "stream",
     "text": [
      "請輸入後序式: ABCD+*E/+\n",
      "5.0\n"
     ]
    }
   ],
   "source": [
    "from stackClass import *\n",
    "operand = {\"A\" : 2, \"B\" : 3, \"C\" : 4, \"D\" : 5, \"E\" : 9}\n",
    "operator = {\"+\", \"-\", \"*\", \"/\"}\n",
    "\n",
    "def evaluate(optr, op1, op2):\n",
    "    if optr == \"+\":\n",
    "        value = op1 + op2\n",
    "    elif optr == \"-\":\n",
    "        value = op1 - op2\n",
    "    elif optr == \"*\":\n",
    "        value = op1 * op2\n",
    "    elif optr == \"/\":\n",
    "        value = op1 / op2\n",
    "    return value\n",
    "    \n",
    "def post_evaluate(postfix):\n",
    "    myStack = Stack()\n",
    "    for token in postfix:\n",
    "        if token in operand:\n",
    "            myStack.push(operand[token])\n",
    "        elif token in operator:\n",
    "            op2 = myStack.pop()\n",
    "            op1 = myStack.pop()\n",
    "            result = evaluate(token, op1, op2)\n",
    "            myStack.push(result)\n",
    "    result = myStack.pop()\n",
    "    return result\n",
    "\n",
    "in_post = input(\"請輸入後序式: \")\n",
    "print(post_evaluate(in_post))"
   ]
  },
  {
   "cell_type": "markdown",
   "id": "033d2ca9",
   "metadata": {},
   "source": [
    "# 4-2佇列（Queue）"
   ]
  },
  {
   "cell_type": "code",
   "execution_count": 1,
   "id": "a252fe84",
   "metadata": {},
   "outputs": [],
   "source": [
    "class Queue:\n",
    "    def __init__(self):\n",
    "        self.item = list()\n",
    "    def isEmpty(self):\n",
    "        return len(self.item) == 0\n",
    "    def isFull(self):\n",
    "        return False\n",
    "    def enQueue(self, value):\n",
    "        if not self.isFull():\n",
    "            self.item.append(value)\n",
    "    def deQueue(self):\n",
    "        if not self.isEmpty():\n",
    "            return self.item.pop(0)\n",
    "        return None\n",
    "    \n",
    "a = Queue()"
   ]
  },
  {
   "cell_type": "markdown",
   "id": "ac23e51f",
   "metadata": {},
   "source": [
    "## 刷題32：實作環狀佇列-效率為O(1)的佇列"
   ]
  },
  {
   "cell_type": "code",
   "execution_count": 3,
   "id": "588b9564",
   "metadata": {},
   "outputs": [],
   "source": [
    "class CircularQueue:\n",
    "    MAX_ITEM = 7\n",
    "    def __init__(self, maxsize = MAX_ITEM):\n",
    "        self.maxsize = maxsize\n",
    "        self.item = [0] * self.maxsize\n",
    "        self.front = 1\n",
    "        self.size = self.rear = 0\n",
    "    def isEmpty(self):\n",
    "        return self.size == 0\n",
    "    def isFull(self):\n",
    "        return self.size == self.maxsize\n",
    "    def enQueue(self, value):\n",
    "        if not self.isFull():\n",
    "            self.rear = (self.rear + 1) % self.maxsize\n",
    "            self.item[self.rear] = value\n",
    "            self.size += 1\n",
    "            return True\n",
    "        return False\n",
    "    def deQueue(self):\n",
    "        if self.isEmpty():\n",
    "            return None\n",
    "        data = self.item[self.front]\n",
    "        self.front = (self.front + 1) % self.maxsize\n",
    "        self.size -= 1\n",
    "        return data\n",
    "    def peekRear(self):\n",
    "        if not self.isEmpty():\n",
    "            return self.item[self.rear]\n",
    "        return None\n",
    "    def peekFront(self):\n",
    "        if self.isEmpty():\n",
    "            return None\n",
    "        return self.item[self.front]\n",
    "\n",
    "a = CircularQueue(3)"
   ]
  },
  {
   "cell_type": "code",
   "execution_count": 2,
   "id": "ba66a83e",
   "metadata": {},
   "outputs": [],
   "source": [
    "class CircularQueue:\n",
    "    MAX_ITEM = 7\n",
    "    def __init__(self, maxsize = MAX_ITEM):\n",
    "        self.maxsize = maxsize\n",
    "        self.item = [0] * self.maxsize\n",
    "        self.front = 1\n",
    "        self.rear = self.size = 0\n",
    "    def isEmpty(self):\n",
    "        return self.size == 0\n",
    "    def isFull(self):\n",
    "        return self.size == self.maxsize\n",
    "    def enQueue(self, value):\n",
    "        if self.isFull():\n",
    "            return False\n",
    "        self.rear = (self.rear + 1) % self.maxsize\n",
    "        self.item[self.rear] = value\n",
    "        self.size += 1\n",
    "        return True\n",
    "    def deQueue(self):\n",
    "        if self.isEmpty():\n",
    "            return None\n",
    "        data = self.item[self.front]\n",
    "        self.front = (self.front + 1) % self.maxsize\n",
    "        self.size -= 1\n",
    "        return data\n",
    "    def peekRear(self):\n",
    "        if self.isEmpty():\n",
    "            return None\n",
    "        return self.item[self.rear]\n",
    "    def peekfront(self):\n",
    "        if self.isEmpty():\n",
    "            return None\n",
    "        return self.item[self.front]\n",
    "\n",
    "a = CircularQueue(3)"
   ]
  },
  {
   "cell_type": "markdown",
   "id": "aa63024a",
   "metadata": {},
   "source": [
    "## 刷題33：用佇列實作堆疊"
   ]
  },
  {
   "cell_type": "code",
   "execution_count": 3,
   "id": "05e32978",
   "metadata": {},
   "outputs": [
    {
     "name": "stdout",
     "output_type": "stream",
     "text": [
      "True\n",
      "2\n",
      "2\n"
     ]
    },
    {
     "data": {
      "text/plain": [
       "1"
      ]
     },
     "execution_count": 3,
     "metadata": {},
     "output_type": "execute_result"
    }
   ],
   "source": [
    "from queueClass import *\n",
    "\n",
    "class StackByQueue:\n",
    "    def __init__(self):\n",
    "        self.q1 = Queue()\n",
    "        self.q2 = Queue()\n",
    "    def isEmpty(self):\n",
    "        return self.q1.isEmpty() and self.q2.isEmpty()\n",
    "    def push(self, value):\n",
    "        if self.q1.isEmpty():\n",
    "            self.q1.enQueue(value)\n",
    "            while not self.q2.isEmpty():\n",
    "                self.q1.enQueue(self.q2.deQueue())\n",
    "        else:\n",
    "            self.q2.enQueue(value)\n",
    "            while not self.q1.isEmpty():\n",
    "                self.q2.enQueue(self.q1.deQueue())\n",
    "    def pop(self):\n",
    "        if not self.q1.isEmpty():\n",
    "            return self.q1.deQueue()\n",
    "        else:\n",
    "            return self.q2.deQueue()\n",
    "    def peek(self):\n",
    "        if not self.q1.isEmpty():\n",
    "            return self.q1.peekFront()\n",
    "        else:\n",
    "            return self.q2.peekFront()\n",
    "        \n",
    "a = StackByQueue()\n",
    "print(a.isEmpty())\n",
    "a.push(1)\n",
    "a.push(2)\n",
    "print(a.peek())\n",
    "print(a.pop())\n",
    "a.peek()"
   ]
  },
  {
   "cell_type": "markdown",
   "id": "29855503",
   "metadata": {},
   "source": [
    "## 刷題34：用堆疊實作佇列"
   ]
  },
  {
   "cell_type": "code",
   "execution_count": 4,
   "id": "0b71f17e",
   "metadata": {},
   "outputs": [
    {
     "name": "stdout",
     "output_type": "stream",
     "text": [
      "True\n",
      "1\n"
     ]
    },
    {
     "data": {
      "text/plain": [
       "1"
      ]
     },
     "execution_count": 4,
     "metadata": {},
     "output_type": "execute_result"
    }
   ],
   "source": [
    "from stackClass import *\n",
    "\n",
    "class QueueByStack:\n",
    "    def __init__(self):\n",
    "        self.s1 = Stack()\n",
    "        self.s2 = Stack()\n",
    "    def isEmpty(self):\n",
    "        return self.s1.isEmpty()\n",
    "    def enQueue(self, value):\n",
    "        while not self.s1.isEmpty():\n",
    "            self.s2.push(self.s1.pop())\n",
    "        self.s1.push(value)\n",
    "        while not self.s2.isEmpty():\n",
    "            self.s1.push(self.s2.pop())\n",
    "    def deQueue(self):\n",
    "        if not self.s1.isEmpty():\n",
    "            return self.s1.pop()\n",
    "    def peekFront(self):\n",
    "        if not self.s1.isEmpty():\n",
    "            return self.s1.peek()\n",
    "    def peekRear(self):\n",
    "        if not self.s1.isEmpty():\n",
    "            return self.s1.item[0]\n",
    "        \n",
    "a = QueueByStack()\n",
    "print(a.isEmpty())\n",
    "a.enQueue(1)\n",
    "print(a.peekFront())\n",
    "a.deQueue()"
   ]
  },
  {
   "cell_type": "markdown",
   "id": "9661350b",
   "metadata": {},
   "source": [
    "# 主題4-E 鏈結佇列"
   ]
  },
  {
   "cell_type": "code",
   "execution_count": 3,
   "id": "f6dd48bd",
   "metadata": {},
   "outputs": [
    {
     "name": "stdout",
     "output_type": "stream",
     "text": [
      "5\n"
     ]
    }
   ],
   "source": [
    "a = None\n",
    "if not a:\n",
    "    print(5)"
   ]
  },
  {
   "cell_type": "code",
   "execution_count": 8,
   "id": "81aae998",
   "metadata": {},
   "outputs": [
    {
     "name": "stdout",
     "output_type": "stream",
     "text": [
      "40\n",
      "30\n",
      "10\n"
     ]
    }
   ],
   "source": [
    "class ListNode:\n",
    "    def __init__(self, data = 0):\n",
    "        self.data = data\n",
    "        self.next = None\n",
    "class LinkedQueue:\n",
    "    def __init__(self):\n",
    "        self.front = self.rear = None\n",
    "    def enQueue(self, value):\n",
    "        new_node = ListNode(value)\n",
    "        if self.rear:\n",
    "            self.rear.next = new_node\n",
    "        self.rear = new_node\n",
    "        if not self.front:\n",
    "            self.front = new_node\n",
    "    def deQueue(self):\n",
    "        p = self.front\n",
    "        if p:\n",
    "            if self.front == self.rear:\n",
    "                self.rear = None\n",
    "            self.front = p.next\n",
    "            d = p.data\n",
    "            del p\n",
    "        else:\n",
    "            d = None\n",
    "        return d\n",
    "    def peekFront(self):\n",
    "        if not ((self.front == None) and (self.rear == None)):\n",
    "            return self.front.data\n",
    "        return None\n",
    "    def peekRear(self):\n",
    "        if not ((self.front == None) and (self.rear == None)):\n",
    "            return self.rear.data\n",
    "        return None\n",
    "    \n",
    "a = LinkedQueue()\n",
    "a.enQueue(40)\n",
    "a.enQueue(30)\n",
    "a.enQueue(20)\n",
    "a.enQueue(10)\n",
    "print(a.deQueue())\n",
    "print(a.peekFront())\n",
    "print(a.peekRear())"
   ]
  },
  {
   "cell_type": "code",
   "execution_count": 4,
   "id": "fa606b04",
   "metadata": {},
   "outputs": [
    {
     "name": "stdout",
     "output_type": "stream",
     "text": [
      "40\n",
      "30\n",
      "30\n"
     ]
    }
   ],
   "source": [
    "class ListNode:\n",
    "    def __init__(self, data = 0):\n",
    "        self.data = data\n",
    "        self.next = None\n",
    "class LinkedQueue:\n",
    "    def __init__(self):\n",
    "        self._front = self._rear = None\n",
    "    def enQueue(self, value):\n",
    "        new_node = ListNode(value)\n",
    "        if self._rear:\n",
    "            self._rear.next = new_node\n",
    "        self._rear = new_node\n",
    "        if not self._front:\n",
    "            self._front = new_node\n",
    "    def deQueue(self):\n",
    "        p = self._front\n",
    "        if p:\n",
    "            if self._front == self._rear:\n",
    "                self._rear = None\n",
    "            self._front = p.next\n",
    "            d = p.data\n",
    "            del p\n",
    "        else:\n",
    "            d = None\n",
    "        return d\n",
    "    def peekFront(self):\n",
    "        if self._front != None and self._rear != None:\n",
    "            return self._front.data\n",
    "    def peekRear(self):\n",
    "        if self._front != None and self._rear != None:\n",
    "            return self._rear.data\n",
    "    \n",
    "a = LinkedQueue()\n",
    "a.enQueue(40)\n",
    "a.enQueue(30)\n",
    "print(a.deQueue())\n",
    "print(a.peekFront())\n",
    "print(a.peekRear())"
   ]
  }
 ],
 "metadata": {
  "kernelspec": {
   "display_name": "Python 3 (ipykernel)",
   "language": "python",
   "name": "python3"
  },
  "language_info": {
   "codemirror_mode": {
    "name": "ipython",
    "version": 3
   },
   "file_extension": ".py",
   "mimetype": "text/x-python",
   "name": "python",
   "nbconvert_exporter": "python",
   "pygments_lexer": "ipython3",
   "version": "3.9.7"
  }
 },
 "nbformat": 4,
 "nbformat_minor": 5
}
