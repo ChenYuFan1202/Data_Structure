{
 "cells": [
  {
   "cell_type": "code",
   "execution_count": 1,
   "id": "92aa339e",
   "metadata": {},
   "outputs": [],
   "source": [
    "class PListNode:\n",
    "    def __init__(self, coef = 1, expo = 0):\n",
    "        self.coef = coef\n",
    "        self.expo = expo\n",
    "        self.next = None\n",
    "class PLinkedList:\n",
    "    def __init__(self):\n",
    "        self._head = None\n",
    "        self._size = 0\n",
    "    def insert(self, p, co, ex):\n",
    "        new_node = PListNode(co, ex)\n",
    "        if self._head is None:\n",
    "            self._head = new_node\n",
    "        else:\n",
    "            new_node.next = p.next\n",
    "            p.next = new_node\n",
    "        return new_node\n",
    "    def print(self):\n",
    "        p = self._head\n",
    "        while p.next:\n",
    "            print(f\"{p.coef}x^{p.expo} + \", end = \"\")\n",
    "        print(f\"{p.coef}x^{p.expo}\")"
   ]
  }
 ],
 "metadata": {
  "kernelspec": {
   "display_name": "Python 3 (ipykernel)",
   "language": "python",
   "name": "python3"
  },
  "language_info": {
   "codemirror_mode": {
    "name": "ipython",
    "version": 3
   },
   "file_extension": ".py",
   "mimetype": "text/x-python",
   "name": "python",
   "nbconvert_exporter": "python",
   "pygments_lexer": "ipython3",
   "version": "3.9.7"
  }
 },
 "nbformat": 4,
 "nbformat_minor": 5
}
