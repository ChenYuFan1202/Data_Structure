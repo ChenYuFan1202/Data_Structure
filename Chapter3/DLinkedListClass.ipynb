{
 "cells": [
  {
   "cell_type": "code",
   "execution_count": null,
   "id": "16410672",
   "metadata": {},
   "outputs": [],
   "source": [
    "class DListNode:\n",
    "    def __init__(self, data = 0):\n",
    "        self.data = data\n",
    "        self.left = None\n",
    "        self.right = None\n",
    "class DLinkedList:\n",
    "    def __init__(self):\n",
    "        self._head = None\n",
    "        self._size = 0\n",
    "    def len(self):\n",
    "        return self._size\n",
    "    def insert(self, p, value):\n",
    "        new_node = DListNode(value)\n",
    "        self._size += 1\n",
    "        new_node.left = p\n",
    "        new_node.right = p.right\n",
    "        p.right.left = new_node#不知道能不能用new_node.right.left\n",
    "        p.right = new_node\n",
    "    def append(self, value):\n",
    "        p = self._head\n",
    "        new_node = DLinkedList(value)\n",
    "        self._size += 1\n",
    "        if p == None:\n",
    "            self._head = new_node\n",
    "        else:\n",
    "            while p.right != None:\n",
    "                p = p.right\n",
    "            p.right = new_node\n",
    "            new_node.left = p\n",
    "    def delete(self, p):\n",
    "        p.right.left = p.left\n",
    "        p.left.right = p.right\n",
    "        del p\n",
    "        self._size -= 1\n",
    "        if self._size == 0:\n",
    "            self._head = None\n",
    "    def print(self):\n",
    "        p = self._head\n",
    "        while p != None:\n",
    "            print(p.data, end = \" \")\n",
    "            p = p.right\n",
    "        print()"
   ]
  }
 ],
 "metadata": {
  "kernelspec": {
   "display_name": "Python 3 (ipykernel)",
   "language": "python",
   "name": "python3"
  },
  "language_info": {
   "codemirror_mode": {
    "name": "ipython",
    "version": 3
   },
   "file_extension": ".py",
   "mimetype": "text/x-python",
   "name": "python",
   "nbconvert_exporter": "python",
   "pygments_lexer": "ipython3",
   "version": "3.9.7"
  }
 },
 "nbformat": 4,
 "nbformat_minor": 5
}
