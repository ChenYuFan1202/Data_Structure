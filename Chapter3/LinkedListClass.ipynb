{
 "cells": [
  {
   "cell_type": "code",
   "execution_count": 11,
   "id": "84b75e15",
   "metadata": {},
   "outputs": [
    {
     "name": "stdout",
     "output_type": "stream",
     "text": [
      "99 4 444 1 8 5 4 \n",
      "4 444 1 8 5 4 \n"
     ]
    }
   ],
   "source": [
    "class LinkNode:\n",
    "    def __init__(self, data = 0):\n",
    "        self.data = data\n",
    "        self.next = None\n",
    "\n",
    "class LinkedList:\n",
    "    def __init__(self):\n",
    "        self._head = None#_代表約定成俗的私有屬性\n",
    "        self._size = 0\n",
    "    def len(self):\n",
    "        return self._size\n",
    "    def append(self, value):\n",
    "        p = self._head\n",
    "        new_node = LinkNode(value)\n",
    "        self._size += 1\n",
    "        if p == None:\n",
    "            self._head = new_node\n",
    "            return\n",
    "        while p.next != None:\n",
    "            p = p.next\n",
    "        p.next = new_node\n",
    "    def find(self, value):\n",
    "        p = self._head\n",
    "        while p != None:\n",
    "            if p.data == value:\n",
    "                return p\n",
    "            p = p.next\n",
    "        return None\n",
    "    def insertAfter(self, p, value):\n",
    "        new_node = LinkNode(value)\n",
    "        self._size += 1\n",
    "        if p == None:\n",
    "            new_node.next = self._head\n",
    "            self._head = new_node\n",
    "            return \n",
    "        new_node.next = p.next\n",
    "        p.next = new_node\n",
    "    def delete(self, value):\n",
    "        old_node = self._head\n",
    "        pre_node = None\n",
    "        while old_node != None:\n",
    "            if old_node.data == value:#沒有.data的話是指標\n",
    "                break\n",
    "            pre_node = old_node\n",
    "            old_node = old_node.next\n",
    "        if old_node != None:\n",
    "            if pre_node == None:\n",
    "                self._head = old_node.next\n",
    "            else:\n",
    "                pre_node.next = old_node.next\n",
    "            del old_node#上面不管是哪個，都會del old_node\n",
    "        #return 有沒有寫都可以\n",
    "    def print(self):\n",
    "        p = self._head\n",
    "        while p != None:\n",
    "            print(p.data, end = \" \")\n",
    "            p = p.next\n",
    "        print()\n",
    "        \n",
    "def main():\n",
    "    a = LinkedList()\n",
    "    a.insertAfter(None, 99)#return沒有print不會有None\n",
    "    a.append(4)\n",
    "    a.append(1)\n",
    "    p = a.find(4)\n",
    "    a.insertAfter(p, 444)\n",
    "    a.append(8)\n",
    "    a.append(5)\n",
    "    a.append(4)\n",
    "    a.print()\n",
    "    a.delete(99)\n",
    "    a.print()\n",
    "    \n",
    "    \n",
    "if __name__ == \"__main__\":\n",
    "    main()"
   ]
  }
 ],
 "metadata": {
  "kernelspec": {
   "display_name": "Python 3 (ipykernel)",
   "language": "python",
   "name": "python3"
  },
  "language_info": {
   "codemirror_mode": {
    "name": "ipython",
    "version": 3
   },
   "file_extension": ".py",
   "mimetype": "text/x-python",
   "name": "python",
   "nbconvert_exporter": "python",
   "pygments_lexer": "ipython3",
   "version": "3.9.7"
  }
 },
 "nbformat": 4,
 "nbformat_minor": 5
}
