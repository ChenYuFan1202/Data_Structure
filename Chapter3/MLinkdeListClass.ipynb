{
 "cells": [
  {
   "cell_type": "code",
   "execution_count": 2,
   "id": "f9c8096f",
   "metadata": {},
   "outputs": [],
   "source": [
    "class MListNode:\n",
    "    def __init__(self, row, col, coef = 1):\n",
    "        self.row, self.col, self.coef = row, col, coef\n",
    "        self.right = self.down = None\n",
    "class MLinkedList:\n",
    "    def __init__(self, numRow, numCol):\n",
    "        self.numRow = numRow\n",
    "        self.numCol = numCol\n",
    "        self.row = [None] * self.numRow\n",
    "        self.col = [None] * self.numCol\n",
    "        self.size = 0"
   ]
  }
 ],
 "metadata": {
  "kernelspec": {
   "display_name": "Python 3 (ipykernel)",
   "language": "python",
   "name": "python3"
  },
  "language_info": {
   "codemirror_mode": {
    "name": "ipython",
    "version": 3
   },
   "file_extension": ".py",
   "mimetype": "text/x-python",
   "name": "python",
   "nbconvert_exporter": "python",
   "pygments_lexer": "ipython3",
   "version": "3.9.7"
  }
 },
 "nbformat": 4,
 "nbformat_minor": 5
}
