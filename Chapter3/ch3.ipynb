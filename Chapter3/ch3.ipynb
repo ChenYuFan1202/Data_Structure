{
 "cells": [
  {
   "cell_type": "markdown",
   "id": "f865fb6a",
   "metadata": {},
   "source": [
    "# 3-1各種鏈結串列"
   ]
  },
  {
   "cell_type": "code",
   "execution_count": null,
   "id": "c9c00ebe",
   "metadata": {},
   "outputs": [],
   "source": [
    "class ListNode:\n",
    "    def __init__(self, data = 0):\n",
    "        self.data = data\n",
    "        self.next = None\n",
    "        \n",
    "a = ListNode(30)\n",
    "b = ListNode(50)\n",
    "a.data = 20\n",
    "del b\n",
    "a.next = b"
   ]
  },
  {
   "cell_type": "markdown",
   "id": "232f35a9",
   "metadata": {},
   "source": [
    "## 範例3.1走訪鏈結串列"
   ]
  },
  {
   "cell_type": "code",
   "execution_count": 1,
   "id": "cfc5c6e4",
   "metadata": {},
   "outputs": [
    {
     "name": "stdout",
     "output_type": "stream",
     "text": [
      "10 , 20 , 30 , 40 , "
     ]
    }
   ],
   "source": [
    "class ListNode:\n",
    "    def __init__(self, data = 0):\n",
    "        self.data = data\n",
    "        self.next = None\n",
    "\n",
    "a = ListNode(10)\n",
    "b = ListNode(20)\n",
    "c = ListNode(30)\n",
    "d = ListNode(40)\n",
    "\n",
    "a.next = b\n",
    "b.next = c\n",
    "c.next = d\n",
    "\n",
    "def traversal(head):\n",
    "    p = head\n",
    "    while p != None:#這裡不用p.next是因為要把全部都print出來\n",
    "        print(p.data, end = \" , \")\n",
    "        p = p.next\n",
    "\n",
    "traversal(a)"
   ]
  },
  {
   "cell_type": "code",
   "execution_count": 2,
   "id": "d7b85848",
   "metadata": {},
   "outputs": [
    {
     "name": "stdout",
     "output_type": "stream",
     "text": [
      "10 , 20 , 25 , 30 , 40 , "
     ]
    }
   ],
   "source": [
    "def insertAfter(p, value):\n",
    "    new_node = ListNode(value)\n",
    "    new_node.next = p.next\n",
    "    p.next = new_node\n",
    "    \n",
    "    \n",
    "\n",
    "p = b\n",
    "insertAfter(p, 25)\n",
    "traversal(a)"
   ]
  },
  {
   "cell_type": "markdown",
   "id": "2b97ef93",
   "metadata": {},
   "source": [
    "## 範例3.2附加新節點到鏈結串列"
   ]
  },
  {
   "cell_type": "code",
   "execution_count": 3,
   "id": "f1de6992",
   "metadata": {},
   "outputs": [
    {
     "name": "stdout",
     "output_type": "stream",
     "text": [
      "10 , 20 , 25 , 30 , 40 , 50 , "
     ]
    }
   ],
   "source": [
    "def append(head, value):\n",
    "    p = head\n",
    "    new_node = ListNode(value)\n",
    "    while p.next != None:#這裡用p.next是因為沒有要print，只是要到最後的節點，而且沒有.next會錯，因為p會是None而不是d\n",
    "        p = p.next\n",
    "    p.next = new_node\n",
    "\n",
    "\n",
    "append(a, 50)\n",
    "traversal(a)"
   ]
  },
  {
   "cell_type": "markdown",
   "id": "b5d8eaab",
   "metadata": {},
   "source": [
    "## 範例3.3在鏈結串列中搜尋資料為value的節點"
   ]
  },
  {
   "cell_type": "code",
   "execution_count": 12,
   "id": "9f14be5a",
   "metadata": {},
   "outputs": [
    {
     "name": "stdout",
     "output_type": "stream",
     "text": [
      "<__main__.ListNode object at 0x0000013739787F10>\n"
     ]
    }
   ],
   "source": [
    "def find(head, value):\n",
    "    p = head\n",
    "    while p != None:\n",
    "        if p.data == value:\n",
    "            return p\n",
    "        p = p.next\n",
    "    return None\n",
    "\n",
    "result = find(a, 20)\n",
    "print(result)"
   ]
  },
  {
   "cell_type": "markdown",
   "id": "e21ba81c",
   "metadata": {},
   "source": [
    "## 範例3.4在鏈結串列中刪除資料為value的節點"
   ]
  },
  {
   "cell_type": "code",
   "execution_count": 4,
   "id": "ee9ce5dc",
   "metadata": {},
   "outputs": [
    {
     "name": "stdout",
     "output_type": "stream",
     "text": [
      "10 , 20 , 25 , 30 , 40 , 50 , \n",
      "10 , 20 , 30 , 40 , 50 , "
     ]
    }
   ],
   "source": [
    "def delete(head, value):\n",
    "    old_node = head\n",
    "    pre_node = None\n",
    "    while old_node != None:\n",
    "        if old_node.data == value:\n",
    "            break\n",
    "        pre_node = old_node\n",
    "        old_node = old_node.next\n",
    "    if old_node != None:\n",
    "        if pre_node == None:\n",
    "            new_node = old_node.next\n",
    "            del old_node\n",
    "            return new_node\n",
    "        pre_node.next = old_node.next\n",
    "        del old_node\n",
    "\n",
    "    return head    \n",
    "        \n",
    "traversal(a)\n",
    "print()\n",
    "a = delete(a, 25)\n",
    "traversal(a)"
   ]
  },
  {
   "cell_type": "markdown",
   "id": "17b75116",
   "metadata": {},
   "source": [
    "## 刷題22:效率O(1)的節點刪除"
   ]
  },
  {
   "cell_type": "code",
   "execution_count": 8,
   "id": "d6ee7b41",
   "metadata": {},
   "outputs": [
    {
     "name": "stdout",
     "output_type": "stream",
     "text": [
      "1\n",
      "10 , 30 , 40 , 50 , "
     ]
    }
   ],
   "source": [
    "def delete2(p):\n",
    "    if not p:\n",
    "        return None\n",
    "    q = p.next\n",
    "    if q:\n",
    "        p.data = q.data\n",
    "        p.next = q.next\n",
    "        del q\n",
    "p = b#0 會return上面的None\n",
    "print(delete2(p))\n",
    "traversal(a)"
   ]
  },
  {
   "cell_type": "code",
   "execution_count": 10,
   "id": "e1effc10",
   "metadata": {},
   "outputs": [
    {
     "name": "stdout",
     "output_type": "stream",
     "text": [
      "None\n"
     ]
    }
   ],
   "source": [
    "def myfun():\n",
    "    if 1 == 2:\n",
    "        return\n",
    "\n",
    "print(myfun())"
   ]
  },
  {
   "cell_type": "markdown",
   "id": "3dc1246e",
   "metadata": {},
   "source": [
    "## 刷題23:反轉鏈結串列"
   ]
  },
  {
   "cell_type": "code",
   "execution_count": 1,
   "id": "2289b65e",
   "metadata": {},
   "outputs": [
    {
     "name": "stdout",
     "output_type": "stream",
     "text": [
      "10 20 30 40 \n",
      "40 30 20 10 \n"
     ]
    }
   ],
   "source": [
    "from LinkedListClass import *\n",
    "    \n",
    "\n",
    "a = LinkedList()\n",
    "a.append(10)\n",
    "a.append(20)\n",
    "a.append(30)\n",
    "a.append(40)\n",
    "a.print()\n",
    "a.reverse()\n",
    "a.print()"
   ]
  },
  {
   "cell_type": "markdown",
   "id": "bc39545d",
   "metadata": {},
   "source": [
    "## 刷題24:遞迴版反轉鏈結串列"
   ]
  },
  {
   "cell_type": "code",
   "execution_count": 2,
   "id": "c468346a",
   "metadata": {},
   "outputs": [
    {
     "name": "stdout",
     "output_type": "stream",
     "text": [
      "10 20 30 40 \n",
      "40 30 20 10 \n"
     ]
    }
   ],
   "source": [
    "from LinkedListClass import *\n",
    "\n",
    "a = LinkedList()\n",
    "a.append(10)\n",
    "a.append(20)\n",
    "a.append(30)\n",
    "a.append(40)\n",
    "a.print()\n",
    "a.reverse2(None, a._head, a._head.next)\n",
    "a.print()"
   ]
  },
  {
   "cell_type": "markdown",
   "id": "7b5c953c",
   "metadata": {},
   "source": [
    "## 刷題25:兩數相加"
   ]
  },
  {
   "cell_type": "code",
   "execution_count": 7,
   "id": "1e9e0012",
   "metadata": {},
   "outputs": [
    {
     "name": "stdout",
     "output_type": "stream",
     "text": [
      "9 2 8 \n",
      "4 5 3 7 \n",
      "3 8 1 8 \n"
     ]
    }
   ],
   "source": [
    "from LinkedListClass import *\n",
    "\n",
    "def sumTwoList(a, b):\n",
    "    p = a._head\n",
    "    q = b._head\n",
    "    carry = 0\n",
    "    c = LinkedList()\n",
    "    while p and q:\n",
    "        result = p.data + q.data + carry\n",
    "        c.append(result % 10)\n",
    "        carry = result // 10\n",
    "        p = p.next\n",
    "        q = q.next\n",
    "    while p:\n",
    "        result = p.data + carry\n",
    "        c.append(result % 10)\n",
    "        carry = result // 10\n",
    "        p = p.next\n",
    "    while q:\n",
    "        result = q.data + carry\n",
    "        c.append(result % 10)\n",
    "        carry = result // 10\n",
    "        q = q.next\n",
    "    if carry:\n",
    "        c.append(carry)\n",
    "    return c\n",
    "\n",
    "a = LinkedList()\n",
    "b = LinkedList()\n",
    "a.append(9)\n",
    "a.append(2)\n",
    "a.append(8)\n",
    "#a.append(7)\n",
    "a.print()\n",
    "b.append(4)\n",
    "b.append(5)\n",
    "b.append(3)\n",
    "b.append(7)\n",
    "b.print()\n",
    "c = sumTwoList(a, b)\n",
    "c.print()"
   ]
  },
  {
   "cell_type": "markdown",
   "id": "ad16b691",
   "metadata": {},
   "source": [
    "## 刷題26:合併兩鏈結串列"
   ]
  },
  {
   "cell_type": "code",
   "execution_count": 12,
   "id": "62bfe07e",
   "metadata": {},
   "outputs": [
    {
     "name": "stdout",
     "output_type": "stream",
     "text": [
      "1 2 8 \n",
      "2 3 5 \n",
      "1 2 2 3 5 8 \n"
     ]
    }
   ],
   "source": [
    "from LinkedListClass import *\n",
    "\n",
    "def MergeTwoList(a, b):\n",
    "    p = a._head\n",
    "    q = b._head\n",
    "    c = LinkedList()\n",
    "    while p and q:\n",
    "        if p.data < q.data:\n",
    "            c.append(p.data)\n",
    "            p = p.next\n",
    "        elif p.data > q.data:\n",
    "            c.append(q.data)\n",
    "            q = q.next\n",
    "        else:\n",
    "            c.append(p.data)\n",
    "            c.append(q.data)\n",
    "            p = p.next\n",
    "            q = q.next\n",
    "    while p:\n",
    "        c.append(p.data)\n",
    "        p = p.next\n",
    "    while q:\n",
    "        c.append(q.data)\n",
    "        q = q.next\n",
    "    return c\n",
    "\n",
    "a = LinkedList()\n",
    "b = LinkedList()\n",
    "a.append(1)\n",
    "a.append(2)\n",
    "a.append(8)\n",
    "b.append(2)\n",
    "b.append(3)\n",
    "b.append(5)\n",
    "a.print()\n",
    "b.print()\n",
    "c = MergeTwoList(a, b)\n",
    "c.print()"
   ]
  },
  {
   "cell_type": "markdown",
   "id": "3a3f5896",
   "metadata": {},
   "source": [
    "## 刷題27:找出兩鏈結串列的末端交集"
   ]
  },
  {
   "cell_type": "code",
   "execution_count": 9,
   "id": "676abc82",
   "metadata": {},
   "outputs": [
    {
     "name": "stdout",
     "output_type": "stream",
     "text": [
      "1\n"
     ]
    }
   ],
   "source": [
    "from LinkedListClass import *\n",
    "\n",
    "def intersection(a, b):\n",
    "    a.reverse()\n",
    "    p = a._head\n",
    "    b.reverse()\n",
    "    q = b._head\n",
    "    result = None\n",
    "    while p and q:\n",
    "        if p.data == q.data:\n",
    "            result = p.data\n",
    "            p = p.next\n",
    "            q = q.next\n",
    "        else:\n",
    "            return result\n",
    "    return result\n",
    "    \n",
    "a = LinkedList()\n",
    "\n",
    "a.append(4)\n",
    "a.append(1)\n",
    "a.append(8)\n",
    "a.append(5)\n",
    "a.append(4)\n",
    "b = LinkedList()\n",
    "b.append(5)\n",
    "b.append(6)\n",
    "b.append(1) \n",
    "b.append(8)\n",
    "b.append(5)\n",
    "b.append(4)    \n",
    "print(intersection(a, b))"
   ]
  },
  {
   "cell_type": "code",
   "execution_count": 12,
   "id": "5e5386b3",
   "metadata": {},
   "outputs": [
    {
     "name": "stdout",
     "output_type": "stream",
     "text": [
      "1\n"
     ]
    }
   ],
   "source": [
    "from LinkedListClass import *\n",
    "\n",
    "def intersection(a, b):\n",
    "    a.reverse()\n",
    "    b.reverse()\n",
    "    p = a._head\n",
    "    q = b._head\n",
    "    result = None\n",
    "    while p and q:\n",
    "        if p.data != q.data:\n",
    "            return result\n",
    "        result = p.data\n",
    "        p = p.next\n",
    "        q = q.next\n",
    "    return result\n",
    "        \n",
    "\n",
    "a = LinkedList()\n",
    "\n",
    "a.append(4)\n",
    "a.append(1)\n",
    "a.append(8)\n",
    "a.append(5)\n",
    "a.append(4)\n",
    "b = LinkedList()\n",
    "b.append(5)\n",
    "b.append(6)\n",
    "b.append(1) \n",
    "b.append(8)\n",
    "b.append(5)\n",
    "b.append(4)    \n",
    "print(intersection(a, b))"
   ]
  },
  {
   "cell_type": "markdown",
   "id": "94fea024",
   "metadata": {},
   "source": [
    "## 延伸刷題：兩鏈結串列的末端交集（不可呼叫反轉功能）"
   ]
  },
  {
   "cell_type": "code",
   "execution_count": 16,
   "id": "9a11529f",
   "metadata": {},
   "outputs": [
    {
     "name": "stdout",
     "output_type": "stream",
     "text": [
      "1\n"
     ]
    }
   ],
   "source": [
    "from LinkedListClass import *\n",
    "\n",
    "def intersection2(a, b):\n",
    "    if a.len() < b.len():\n",
    "        a, b = b, a\n",
    "    p = a._head\n",
    "    for _ in range(a.len() - b.len()):\n",
    "        p = p.next\n",
    "    q = b._head\n",
    "    fromHere = None\n",
    "    while p and q:\n",
    "        if p.data == q.data:\n",
    "            if fromHere is None:\n",
    "                fromHere = p.data\n",
    "        else:\n",
    "            fromHere = None\n",
    "        p = p.next\n",
    "        q = q.next\n",
    "    return fromHere\n",
    "        \n",
    "\n",
    "a = LinkedList()\n",
    "a.append(9)\n",
    "a.append(1)\n",
    "a.append(8)\n",
    "a.append(5)\n",
    "a.append(4)\n",
    "b = LinkedList()\n",
    "b.append(5)\n",
    "b.append(6)\n",
    "b.append(1) \n",
    "b.append(8)\n",
    "b.append(5)\n",
    "b.append(4)     \n",
    "print(intersection2(a, b))"
   ]
  },
  {
   "cell_type": "code",
   "execution_count": 1,
   "id": "263a6e5c",
   "metadata": {},
   "outputs": [
    {
     "name": "stdout",
     "output_type": "stream",
     "text": [
      "None\n"
     ]
    }
   ],
   "source": [
    "from CLinkedListClass import *\n",
    "\n",
    "a = CLinkedList()\n",
    "# a.append(4)\n",
    "# a.append(1)\n",
    "# a.append(8)\n",
    "# a.append(5)\n",
    "# a.append(4)\n",
    "print(a.print())"
   ]
  },
  {
   "cell_type": "markdown",
   "id": "5690ed41",
   "metadata": {},
   "source": [
    "# 3.2鏈結串列的應用"
   ]
  },
  {
   "cell_type": "code",
   "execution_count": 1,
   "id": "e5e2e398",
   "metadata": {},
   "outputs": [
    {
     "name": "stdout",
     "output_type": "stream",
     "text": [
      "3 4\n"
     ]
    }
   ],
   "source": [
    "a, b = \"34\"\n",
    "print(a, b)"
   ]
  },
  {
   "cell_type": "code",
   "execution_count": 1,
   "id": "cee7bef7",
   "metadata": {},
   "outputs": [],
   "source": [
    "class PListNode:\n",
    "    def __init__(self, coef = 1, expo = 0):\n",
    "        self.coef = coef\n",
    "        self.expo = expo\n",
    "        self.next = None\n",
    "class PLinkedList:\n",
    "    def __init__(self):\n",
    "        self._head = None\n",
    "        self._size = 0\n",
    "    def insert(self, p, co, ex):\n",
    "        new_node = PListNode(co, ex)\n",
    "        if self._head is None:\n",
    "            self._head = new_node\n",
    "        else:\n",
    "            new_node.next = p.next\n",
    "            p.next = new_node\n",
    "        return new_node\n",
    "    def print(self):\n",
    "        p = self._head\n",
    "        while p.next:\n",
    "            print(f\"{p.coef}x^{p.expo} + \", end = \"\")\n",
    "        print(f\"{p.coef}x^{p.expo}\")"
   ]
  },
  {
   "cell_type": "markdown",
   "id": "a1b49fa4",
   "metadata": {},
   "source": [
    "## 範例3.8多項式相加"
   ]
  },
  {
   "cell_type": "code",
   "execution_count": 3,
   "id": "7e6de753",
   "metadata": {},
   "outputs": [
    {
     "name": "stdout",
     "output_type": "stream",
     "text": [
      "5x^4 + 6.1x^2 + 2.9x^1 + 6x^0\n",
      "9x^5 + 3.2x^2 + 4x^1 + 5x^0\n",
      "9x^5 + 5x^4 + 9.3x^2 + 6.9x^1 + 11x^0\n"
     ]
    }
   ],
   "source": [
    "from PLinkedListClass import *\n",
    "\n",
    "def PolyAdd(a, b):\n",
    "    c = PLinkedList()\n",
    "    ctail = None\n",
    "    pa = a._head\n",
    "    pb = b._head\n",
    "    while pa and pb:\n",
    "        if pa.expo > pb.expo:\n",
    "            ctail = c.insert(ctail, pa.coef, pa.expo)\n",
    "            pa = pa.next\n",
    "        elif pa.expo < pb.expo:\n",
    "            ctail = c.insert(ctail, pb.coef, pb.expo)\n",
    "            pb = pb.next\n",
    "        else:\n",
    "            if pa.coef + pb.coef != 0:\n",
    "                ctail = c.insert(ctail, pa.coef + pb.coef, pa.expo)\n",
    "                pa = pa.next\n",
    "                pb = pb.next\n",
    "    while pa:\n",
    "        ctail = c.insert(ctail, pa.coef, pa.expo)\n",
    "        pa = pa.next\n",
    "    while pb:\n",
    "        ctail = c.insert(ctail, pb.coef, pb.expo)\n",
    "        pb = pb.next\n",
    "    return c\n",
    "\n",
    "a = PLinkedList()\n",
    "tail = None\n",
    "tail = a.insert(tail,5,4)\n",
    "tail = a.insert(tail, 6.1,2)\n",
    "tail = a.insert(tail, 2.9,1)\n",
    "tail = a.insert(tail, 6,0)\n",
    "a.print()\n",
    "\n",
    "b = PLinkedList()\n",
    "tail = None\n",
    "tail = b.insert(tail,9,5)\n",
    "tail = b.insert(tail, 3.2,2)\n",
    "tail = b.insert(tail, 4,1)\n",
    "tail = b.insert(tail, 5,0)\n",
    "b.print()\n",
    "\n",
    "c = PolyAdd(a,b)\n",
    "c.print()"
   ]
  },
  {
   "cell_type": "code",
   "execution_count": 2,
   "id": "1107a4a7",
   "metadata": {},
   "outputs": [
    {
     "name": "stdout",
     "output_type": "stream",
     "text": [
      "5x^4 + 6.1x^2 + 2.9x^1 + 6x^0\n",
      "9x^5 + 3.2x^2 + 4x^1 + 5x^0\n",
      "9x^5 + 5x^4 + 9.3x^2 + 6.9x^1 + 11x^0\n"
     ]
    }
   ],
   "source": [
    "from PLinkedListClass import *\n",
    "\n",
    "def PolyAdd(a, b):\n",
    "    c = PLinkedList()\n",
    "    ctail = None\n",
    "    p = a._head\n",
    "    q = b._head\n",
    "    while p and q:\n",
    "        if p.expo > q.expo:\n",
    "            ctail = c.insert(ctail, p.coef, p.expo)\n",
    "            p = p.next\n",
    "        elif p.expo < q.expo:\n",
    "            ctail = c.insert(ctail, q.coef, q.expo)\n",
    "            q = q.next\n",
    "        else:\n",
    "            total = p.coef + q.coef\n",
    "            ctail = c.insert(ctail, total, p.expo)\n",
    "            p = p.next\n",
    "            q = q.next\n",
    "    while p:\n",
    "        ctail = c.insert(ctail, p.coef, p.expo)\n",
    "        p = p.next\n",
    "    while q:\n",
    "        ctail = c.insert(ctail, q.coef, q.expo)\n",
    "        q = q.next\n",
    "    return c    \n",
    "\n",
    "a = PLinkedList()\n",
    "tail = None\n",
    "tail = a.insert(tail,5,4)\n",
    "tail = a.insert(tail, 6.1,2)\n",
    "tail = a.insert(tail, 2.9,1)\n",
    "tail = a.insert(tail, 6,0)\n",
    "a.print()\n",
    "\n",
    "b = PLinkedList()\n",
    "tail = None\n",
    "tail = b.insert(tail,9,5)\n",
    "tail = b.insert(tail, 3.2,2)\n",
    "tail = b.insert(tail, 4,1)\n",
    "tail = b.insert(tail, 5,0)\n",
    "b.print()\n",
    "\n",
    "c = PolyAdd(a,b)\n",
    "c.print()"
   ]
  }
 ],
 "metadata": {
  "kernelspec": {
   "display_name": "Python 3 (ipykernel)",
   "language": "python",
   "name": "python3"
  },
  "language_info": {
   "codemirror_mode": {
    "name": "ipython",
    "version": 3
   },
   "file_extension": ".py",
   "mimetype": "text/x-python",
   "name": "python",
   "nbconvert_exporter": "python",
   "pygments_lexer": "ipython3",
   "version": "3.9.7"
  }
 },
 "nbformat": 4,
 "nbformat_minor": 5
}
