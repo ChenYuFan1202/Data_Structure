{
 "cells": [
  {
   "cell_type": "code",
   "execution_count": 4,
   "id": "72bd839e",
   "metadata": {},
   "outputs": [
    {
     "name": "stdout",
     "output_type": "stream",
     "text": [
      "4 8 1 5 4\n"
     ]
    }
   ],
   "source": [
    "class ListNode:\n",
    "    def __init__(self, data = 0):\n",
    "        self.data = data\n",
    "        self.next = None\n",
    "class CLinkedList:\n",
    "    def __init__(self):\n",
    "        self._head = None\n",
    "        self._size = 0\n",
    "    def len(self):\n",
    "        return self._size\n",
    "    def append(self, value):\n",
    "        p = self._head\n",
    "        new_node = ListNode(value)\n",
    "        self._size += 1\n",
    "        if p is None:\n",
    "            self._head = new_node\n",
    "        else:\n",
    "            while p.next != self._head:#也就是不等於最後一個的時候\n",
    "                p = p.next\n",
    "            p.next = new_node#改變原來最後節點的指標\n",
    "        new_node.next = self._head#無論如何，會將最後一個指向第一個節點\n",
    "    def find(self, value):\n",
    "        if self._size == 0:\n",
    "            return\n",
    "        p = self._head\n",
    "        while p.next != self._head:#不是最後一個的時候\n",
    "            if p.data == value:\n",
    "                return p\n",
    "            p = p.next\n",
    "        if p.data == value:    #比較最後一個節點 \n",
    "            return p\n",
    "        return None\n",
    "    def print(self):\n",
    "        if self._size == 0:\n",
    "            return\n",
    "        p = self._head\n",
    "        while p.next != self._head:\n",
    "            print(p.data, end = \" \")\n",
    "            p = p.next\n",
    "        print(p.data)#最後一個節點的資料\n",
    "        \n",
    "def main():\n",
    "    a = CLinkedList()\n",
    "    a.append(4)\n",
    "    a.append(8)\n",
    "    a.append(1)\n",
    "    a.append(5)\n",
    "    a.append(4)\n",
    "    a.print()\n",
    "    \n",
    "if __name__ == \"__main__\":\n",
    "    main()"
   ]
  }
 ],
 "metadata": {
  "kernelspec": {
   "display_name": "Python 3 (ipykernel)",
   "language": "python",
   "name": "python3"
  },
  "language_info": {
   "codemirror_mode": {
    "name": "ipython",
    "version": 3
   },
   "file_extension": ".py",
   "mimetype": "text/x-python",
   "name": "python",
   "nbconvert_exporter": "python",
   "pygments_lexer": "ipython3",
   "version": "3.9.7"
  }
 },
 "nbformat": 4,
 "nbformat_minor": 5
}
